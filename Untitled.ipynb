{
 "cells": [
  {
   "cell_type": "code",
   "execution_count": 1,
   "metadata": {},
   "outputs": [
    {
     "name": "stdout",
     "output_type": "stream",
     "text": [
      "case_control\n",
      "     patientid  casecontrol    risk_group       age  famhistory    marker  \\\n",
      "0            1            0           low  64.03445           0  0.776309   \n",
      "1            2            0          high  78.46741           0  0.267086   \n",
      "2            3            0           low  64.14617           0  0.169621   \n",
      "3            4            1           low  58.53482           0  0.023996   \n",
      "4            5            0           low  63.99250           0  0.070910   \n",
      "..         ...          ...           ...       ...         ...       ...   \n",
      "745        746            1  intermediate  66.09628           0  0.654782   \n",
      "746        747            1  intermediate  65.75370           1  1.030259   \n",
      "747        748            1  intermediate  70.28287           0  0.151616   \n",
      "748        749            0           low  61.32673           0  0.624602   \n",
      "749        750            1           low  61.66628           0  0.270679   \n",
      "\n",
      "     cancerpredmarker  \n",
      "0            0.037201  \n",
      "1            0.578907  \n",
      "2            0.021551  \n",
      "3            0.003910  \n",
      "4            0.018790  \n",
      "..                ...  \n",
      "745          0.057813  \n",
      "746          0.160424  \n",
      "747          0.108838  \n",
      "748          0.015285  \n",
      "749          0.011938  \n",
      "\n",
      "[750 rows x 7 columns]\n"
     ]
    }
   ],
   "source": [
    "\n",
    "\n",
    "import dcurves\n",
    "print('case_control')\n",
    "print(dcurves.load_test_data.load_case_control_df())\n",
    "\n"
   ]
  },
  {
   "cell_type": "code",
   "execution_count": null,
   "metadata": {},
   "outputs": [],
   "source": []
  }
 ],
 "metadata": {
  "kernelspec": {
   "display_name": "Python 3",
   "language": "python",
   "name": "python3"
  },
  "language_info": {
   "codemirror_mode": {
    "name": "ipython",
    "version": 3
   },
   "file_extension": ".py",
   "mimetype": "text/x-python",
   "name": "python",
   "nbconvert_exporter": "python",
   "pygments_lexer": "ipython3",
   "version": "3.7.6"
  }
 },
 "nbformat": 4,
 "nbformat_minor": 4
}
