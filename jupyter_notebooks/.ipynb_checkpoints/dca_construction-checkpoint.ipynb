{
 "cells": [
  {
   "cell_type": "code",
   "execution_count": 282,
   "metadata": {},
   "outputs": [
    {
     "name": "stdout",
     "output_type": "stream",
     "text": [
      "The autoreload extension is already loaded. To reload it, use:\n",
      "  %reload_ext autoreload\n"
     ]
    }
   ],
   "source": [
    "%load_ext autoreload"
   ]
  },
  {
   "cell_type": "code",
   "execution_count": 324,
   "metadata": {},
   "outputs": [],
   "source": [
    "%autoreload 2"
   ]
  },
  {
   "cell_type": "code",
   "execution_count": 399,
   "metadata": {},
   "outputs": [],
   "source": []
  },
  {
   "cell_type": "code",
   "execution_count": 400,
   "metadata": {},
   "outputs": [
    {
     "ename": "SyntaxError",
     "evalue": "unexpected EOF while parsing (<ipython-input-400-60cfdddd4b99>, line 1)",
     "output_type": "error",
     "traceback": [
      "\u001b[0;36m  File \u001b[0;32m\"<ipython-input-400-60cfdddd4b99>\"\u001b[0;36m, line \u001b[0;32m1\u001b[0m\n\u001b[0;31m    dcurves.dca.dca(\u001b[0m\n\u001b[0m                    ^\u001b[0m\n\u001b[0;31mSyntaxError\u001b[0m\u001b[0;31m:\u001b[0m unexpected EOF while parsing\n"
     ]
    }
   ],
   "source": []
  },
  {
   "cell_type": "code",
   "execution_count": 368,
   "metadata": {},
   "outputs": [],
   "source": [
    "import pandas as pd\n",
    "import numpy as np\n",
    "import statsmodels.api as sm\n",
    "import statsmodels.duration.hazard_regression as coxph\n",
    "import lifelines\n",
    "#from lifelines.datasets import load_rossi\n",
    "import matplotlib.pyplot as plt"
   ]
  },
  {
   "cell_type": "code",
   "execution_count": 369,
   "metadata": {},
   "outputs": [],
   "source": [
    "#### Example\n",
    "#### load example data from \n",
    "# rossi = load_rossi()\n",
    "# cph = lifelines.CoxPHFitter()\n",
    "# cph.fit(rossi, 'week', 'arrest')\n",
    "# cph.predict_survival_function(rossi)"
   ]
  },
  {
   "cell_type": "code",
   "execution_count": null,
   "metadata": {},
   "outputs": [],
   "source": []
  },
  {
   "cell_type": "code",
   "execution_count": 370,
   "metadata": {},
   "outputs": [],
   "source": [
    "binary_abs_path = '/Users/ShaunPorwal/Documents/GitHub/python_packages/dcurves/data/df_binary.csv'\n",
    "surv_abs_path = '/Users/ShaunPorwal/Documents/GitHub/python_packages/dcurves/data/df_surv.csv'\n",
    "case_control_abs_path = '/Users/ShaunPorwal/Documents/GitHub/python_packages/dcurves/data/df_case_control.csv'\n",
    "\n",
    "df_binary = pd.read_csv(binary_abs_path)\n",
    "df_surv = pd.read_csv(surv_abs_path)\n",
    "df_case_control = pd.read_csv(case_control_abs_path)"
   ]
  },
  {
   "cell_type": "code",
   "execution_count": 371,
   "metadata": {},
   "outputs": [],
   "source": [
    "def convert_to_risk(model_frame: pd.DataFrame,\n",
    "                    outcome: str,\n",
    "                    predictor: str,\n",
    "                    prevalence: float,\n",
    "                    time: float,\n",
    "                    time_to_outcome_col: str) -> pd.DataFrame:\n",
    "    \n",
    "    \"\"\"Converts indicated predictor columns in dataframe into probabilities from 0 to 1\n",
    "    \n",
    "    Parameters\n",
    "    ----------\n",
    "    model_frame : dataframe\n",
    "    outcome : string\n",
    "    predictor : string\n",
    "    prevalence : float\n",
    "    time : float\n",
    "    time_to_outcome_col : string\n",
    "    \n",
    "    Returns \n",
    "    -------\n",
    "    dataframe\n",
    "    \"\"\"\n",
    "    \n",
    "    if not time_to_outcome_col:\n",
    "        predicted_vals = sm.formula.glm(outcome + '~' + predictor, family=sm.families.Binomial(), \n",
    "                                            data=model_frame).fit().predict()\n",
    "        model_frame[predictor] = [(1 - val) for val in predicted_vals]\n",
    "        return model_frame\n",
    "    elif time_to_outcome_col:\n",
    "        #### From lifelines dataframe\n",
    "        cph = lifelines.CoxPHFitter()\n",
    "        cph_df = model_frame[['ttcancer','cancer','cancerpredmarker']]\n",
    "        cph.fit(cph_df, 'ttcancer', 'cancer')\n",
    "\n",
    "        new_cph_df = cph_df\n",
    "        new_cph_df['ttcancer'] = [time for i in range(0,len(cph_df))]\n",
    "        predicted_vals = cph.predict_survival_function(new_cph_df, times = time).values[0] #### all values in list of single list, so just dig em out with [0]\n",
    "        new_model_frame = model_frame\n",
    "        new_model_frame[predictor] = predicted_vals\n",
    "        return new_model_frame"
   ]
  },
  {
   "cell_type": "code",
   "execution_count": 391,
   "metadata": {},
   "outputs": [
    {
     "data": {
      "text/plain": [
       "'cancer'"
      ]
     },
     "execution_count": 391,
     "metadata": {},
     "output_type": "execute_result"
    }
   ],
   "source": [
    "binary_inputs['outcome']"
   ]
  },
  {
   "cell_type": "code",
   "execution_count": 372,
   "metadata": {},
   "outputs": [],
   "source": [
    "#### Things to input into CTC\n",
    "#### inputs: \n",
    "def calculate_test_consequences(model_frame: pd.DataFrame,\n",
    "                                outcome: str,\n",
    "                                predictor: str,\n",
    "                                thresholds: list,\n",
    "                                harm: float,\n",
    "                                prevalence: float,\n",
    "                                time: float,\n",
    "                                time_to_outcome_col: str) -> pd.DataFrame:\n",
    "    \n",
    "    \"\"\"Computes tpr and fpr from outcome values and a predictor with provided thresholds \n",
    "    \n",
    "    Parameters\n",
    "    ----------\n",
    "    model_frame : dataframe\n",
    "    outcome : string\n",
    "    predictor : string\n",
    "    thresholds : string\n",
    "    prevalence : float\n",
    "    time : float\n",
    "    time_to_outcome_col : string\n",
    "    \n",
    "    Returns \n",
    "    -------\n",
    "    dataframe\n",
    "    \"\"\"\n",
    "\n",
    "\n",
    "    \n",
    "    #### Handle prevalence values \n",
    "\n",
    "    #### If case-control prevalence:\n",
    "    if prevalence != None:\n",
    "        prevalence_values = [prevalence] * len(thresholds) #### need list to be as long as len(thresholds)\n",
    "    \n",
    "    #### If binary\n",
    "    elif not time_to_outcome_col:\n",
    "        try:\n",
    "            outcome_values = model_frame[outcome].values.flatten().tolist()\n",
    "            prevalence_values = [pd.Series(outcome_values).value_counts()[1] / len(outcome_values)] * len(thresholds) #### need list to be as long as len(thresholds)\n",
    "        except:\n",
    "            return 'error: binary prevalence'\n",
    "    \n",
    "    #### If survival\n",
    "    elif time_to_outcome_col:\n",
    "        kmf = lifelines.KaplanMeierFitter()\n",
    "        kmf.fit(model_frame[time_to_outcome_col], model_frame[outcome]*1) # *1 to convert from boolean to int\n",
    "        \n",
    "        prevalence = 1 - kmf.survival_function_at_times(time)\n",
    "        prevalence = prevalence[1]\n",
    "        #### Convert survival to risk by doing 1 - x (Figure out why)\n",
    "        \n",
    "        prevalence_values = [prevalence] * len(thresholds)\n",
    "        \n",
    "        \n",
    "    \n",
    "    #### paths: \n",
    "    #### 1. survival or binary\n",
    "    #### 2. if survival and\n",
    "    n = len(model_frame.index)\n",
    "    df = pd.DataFrame({'predictor' : predictor,\n",
    "                       'threshold' : thresholds,\n",
    "                       'n' : [n] * len(thresholds),\n",
    "                       'prevalence' : prevalence_values})   \n",
    "    \n",
    "    count = 0\n",
    "    \n",
    "    # If no time_to_outcome_col, it means binary\n",
    "    if not time_to_outcome_col:     \n",
    "            \n",
    "        true_outcome = model_frame[model_frame[outcome] == True][[predictor]]\n",
    "        false_outcome = model_frame[model_frame[outcome] == False][[predictor]]\n",
    "        test_pos_rate = []\n",
    "        tp_rate = []\n",
    "        fp_rate = []\n",
    "        \n",
    "        for (threshold,prevalence) in zip(thresholds,prevalence_values):\n",
    "            \n",
    "            count += 1\n",
    "        \n",
    "            #### Debugging try/except\n",
    "            \n",
    "            #test_pos_rate.append(pd.Series(model_frame[predictor] >= threshold).value_counts()[1]/len(model_frame.index))\n",
    "            #test_pos_rate.append(pd.Series(df_binary[predictor] >= threshold).value_counts()[1]/len(df_binary.index))\n",
    "            \n",
    "            #### Indexing [1] doesn't work w/ value_counts when only index is 0, so [1] gives error, have to try/except so that when [1] doesn't work can input 0\n",
    "\n",
    "            try:\n",
    "                test_pos_rate.append(pd.Series(model_frame[predictor] >= threshold).value_counts()[1]/len(model_frame.index))\n",
    "                #test_pos_rate.append(pd.Series(df_binary[predictor] >= threshold).value_counts()[1]/len(df_binary.index))\n",
    "            except:\n",
    "                test_pos_rate.append(0/len(model_frame.index))\n",
    "        \n",
    "                \n",
    "#             #### Indexing [1] doesn't work w/ value_counts since only 1 index ([0]), so [1] returns an error\n",
    "#             #### Have to try/except this so that when indexing doesn't work, can input 0\n",
    "\n",
    "            try:\n",
    "                tp_rate.append(pd.Series(true_outcome[predictor] >= threshold).value_counts()[1]/len(true_outcome[predictor])*(prevalence))\n",
    "            except KeyError:\n",
    "                tp_rate.append(0/len(true_outcome[predictor])*(prevalence))\n",
    "            try:\n",
    "                fp_rate.append(pd.Series(false_outcome[predictor] >= threshold).value_counts()[1]/len(false_outcome[predictor])*(1-prevalence))\n",
    "            except KeyError:\n",
    "                fp_rate.append(0/len(false_outcome[predictor])*(1-prevalence)) \n",
    "           \n",
    "        df['tpr'] = tp_rate\n",
    "        df['fpr'] = fp_rate\n",
    "    #### If time_to_outcome_col, then survival\n",
    "    elif time_to_outcome_col:\n",
    "            \n",
    "#         true_outcome = model_frame[model_frame[outcome] == True][[predictor]]\n",
    "#         false_outcome = model_frame[model_frame[outcome] == False][[predictor]]\n",
    "        test_pos_rate = []\n",
    "        risk_rate_among_test_pos = []\n",
    "        tp_rate = []\n",
    "        fp_rate = []\n",
    "        \n",
    "        #### For each threshold, get outcomes where risk value is greater than threshold, insert as formula \n",
    "        for threshold in thresholds:\n",
    "#             test_pos_rate.append(pd.Series(model_frame[predictor] >= threshold).value_counts()[1]/len(model_frame.index))\n",
    "            \n",
    "            try:\n",
    "                test_pos_rate.append(pd.Series(model_frame[predictor] >= threshold).value_counts()[1]/len(model_frame.index))\n",
    "                #test_pos_rate.append(pd.Series(df_binary[predictor] >= threshold).value_counts()[1]/len(df_binary.index))\n",
    "            except:\n",
    "                test_pos_rate.append(0/len(model_frame.index))\n",
    "            \n",
    "            #### Indexing [1] doesn't work w/ value_counts since only 1 index ([0]), so [1] returns an error\n",
    "            #### Have to try/except this so that when indexing doesn't work, can input 0\n",
    "            \n",
    "            #### Get risk value, which is kaplan meier output at specified time, or at timepoint right before specified time given there are points after timepoint as well\n",
    "            #### Input for KM: \n",
    "            \n",
    "            risk_above_thresh_time = model_frame[model_frame[predictor] >= threshold][time_to_outcome_col]\n",
    "            risk_above_thresh_outcome = model_frame[model_frame[predictor] >= threshold][outcome]\n",
    "            \n",
    "            kmf = lifelines.KaplanMeierFitter()\n",
    "            try:\n",
    "                kmf.fit(risk_above_thresh_time, risk_above_thresh_outcome*1)\n",
    "                risk_rate_among_test_pos.append(1 - pd.Series(kmf.survival_function_at_times(time))[1])\n",
    "            except:\n",
    "\n",
    "                risk_rate_among_test_pos.append(1)\n",
    "\n",
    "            \n",
    "        df['test_pos_rate'] = test_pos_rate\n",
    "        df['risk_rate_among_test_pos'] = risk_rate_among_test_pos\n",
    "        \n",
    "        df['tpr'] = df['risk_rate_among_test_pos'] * test_pos_rate\n",
    "        df['fpr'] = (1 - df['risk_rate_among_test_pos']) * test_pos_rate\n",
    "        \n",
    "    return df"
   ]
  },
  {
   "cell_type": "code",
   "execution_count": 373,
   "metadata": {},
   "outputs": [],
   "source": [
    "def dca(data: pd.DataFrame,\n",
    "        outcome: str,\n",
    "        predictors: list,\n",
    "        thresh_lo: float,\n",
    "        thresh_hi: float,\n",
    "        thresh_step: float,\n",
    "        harm: dict,\n",
    "        probabilities: list,\n",
    "        time: float,\n",
    "        prevalence: float,\n",
    "        time_to_outcome_col: str) -> pd.DataFrame:\n",
    "    \n",
    "    '''\n",
    "    Sequence of events\n",
    "    1. convert to risk (convert to probabilities)\n",
    "    2. calculate net benefit\n",
    "        a. calculate_test_consequences for each predictor\n",
    "        b. merge all dfs (one for each predictor)\n",
    "        c. calculate net benefit based on other columns \n",
    "            i. nb = tpr - thresh / (1 - thresh) * fpr - harm\n",
    "    '''\n",
    "    \n",
    "    model_frame = data[np.append(outcome, predictors)]\n",
    "    \n",
    "    model_frame['all'] = [1 for i in range(0,len(model_frame.index))]\n",
    "    model_frame['none'] = [0 for i in range(0,len(model_frame.index))]\n",
    "    #### If survival, then time_to_outcome_col contains name of col\n",
    "    #### Otherwise, time_to_outcome_col will not be set, so Binary\n",
    "    if time_to_outcome_col:\n",
    "        model_frame[time_to_outcome_col] = data[time_to_outcome_col]\n",
    "    \n",
    "    #### Convert to risk\n",
    "    #### Convert selected columns to risk scores\n",
    "    for i in range(0,len(predictors)):\n",
    "        if probabilities[i]:\n",
    "            model_frame = convert_to_risk(model_frame, outcome, predictors[i], prevalence, time, time_to_outcome_col)\n",
    "    \n",
    "    #### Prep data, add placeholder for 0 (10e-10), because can't use 0  for DCA, will output incorrect (incorrect?) value\n",
    "    thresholds = np.arange(thresh_lo, thresh_hi + thresh_step, thresh_step) # array of values\n",
    "    thresholds = np.insert(thresholds, 0, 0.1 ** 9)\n",
    "    \n",
    "    covariate_names = [i for i in model_frame.columns if i not in outcome] # Get names of covariates (if survival, then will still have time_to_outcome_col\n",
    "    #### If survival, get covariate names that are not time_to_outcome_col\n",
    "    if time_to_outcome_col:\n",
    "        covariate_names = [i for i in covariate_names if i not in time_to_outcome_col]\n",
    "    \n",
    "    testcons_list = []\n",
    "    for covariate in covariate_names:\n",
    "        \n",
    "        temp_testcons_df = calculate_test_consequences(\n",
    "                                                       model_frame = model_frame,\n",
    "                                                       outcome = outcome,\n",
    "                                                       predictor = covariate,\n",
    "                                                       thresholds = thresholds,\n",
    "                                                       harm = harm,\n",
    "                                                       prevalence = prevalence,\n",
    "                                                       time = time,\n",
    "                                                       time_to_outcome_col = time_to_outcome_col\n",
    "                                                      )\n",
    "        \n",
    "        temp_testcons_df['variable'] = [covariate] * len(temp_testcons_df.index)\n",
    " \n",
    "        temp_testcons_df['harm'] = [harm[covariate] if harm != None else 0] * len(temp_testcons_df.index)\n",
    "        testcons_list.append(temp_testcons_df)\n",
    "      \n",
    "    all_covariates_df = pd.concat(testcons_list)\n",
    "    \n",
    "    all_covariates_df['net_benefit'] = all_covariates_df['tpr'] - all_covariates_df['threshold']/(1-all_covariates_df['threshold']) * all_covariates_df['fpr'] - all_covariates_df['harm']    \n",
    "    \n",
    "    return all_covariates_df"
   ]
  },
  {
   "cell_type": "code",
   "execution_count": 374,
   "metadata": {},
   "outputs": [],
   "source": [
    "# binary inputs\n",
    "\n",
    "binary_inputs = {\n",
    "    'data': df_binary,\n",
    "    'outcome': 'cancer',\n",
    "    'predictors': ['cancerpredmarker', 'marker'],\n",
    "    'thresh_lo': 0.01,\n",
    "    'thresh_hi': 0.35,\n",
    "    'thresh_step': 0.01,\n",
    "    'harm': None,\n",
    "    'probabilities': [False, True],\n",
    "    'time': None,\n",
    "    'prevalence': None,\n",
    "    'time_to_outcome_col': None\n",
    "}\n",
    "\n",
    "survival_inputs = {\n",
    "    'data': df_surv,\n",
    "    'outcome': 'cancer',\n",
    "    'predictors': ['cancerpredmarker'],\n",
    "    'thresh_lo': 0.01,\n",
    "    'thresh_hi': 0.50,\n",
    "    'thresh_step': 0.01,\n",
    "    'harm': None,\n",
    "    'probabilities': [False],\n",
    "    'time': 1,\n",
    "    'prevalence': None,\n",
    "    'time_to_outcome_col': 'ttcancer'\n",
    "}"
   ]
  },
  {
   "cell_type": "code",
   "execution_count": null,
   "metadata": {},
   "outputs": [],
   "source": [
    "# binary_output_df = dca(data = binary_inputs['data'],\n",
    "#         outcome = binary_inputs['outcome'],\n",
    "#         predictors = binary_inputs['predictors'],\n",
    "#         thresh_lo = binary_inputs['thresh_lo'],\n",
    "#         thresh_hi = binary_inputs['thresh_hi'],\n",
    "#         thresh_step = binary_inputs['thresh_step'],\n",
    "#         harm = binary_inputs['harm'],\n",
    "#         probabilities = binary_inputs['probabilities'],\n",
    "#         time = binary_inputs['time'],\n",
    "#         prevalence = binary_inputs['prevalence'],\n",
    "#         time_to_outcome_col = binary_inputs['time_to_outcome_col'])\n",
    "\n",
    "survival_output_df = dca(data = survival_inputs['data'],\n",
    "        outcome = survival_inputs['outcome'],\n",
    "        predictors = survival_inputs['predictors'],\n",
    "        thresh_lo = survival_inputs['thresh_lo'],\n",
    "        thresh_hi = survival_inputs['thresh_hi'],\n",
    "        thresh_step = survival_inputs['thresh_step'],\n",
    "        harm = survival_inputs['harm'],\n",
    "        probabilities = survival_inputs['probabilities'],\n",
    "        time = survival_inputs['time'],\n",
    "        prevalence = survival_inputs['prevalence'],\n",
    "        time_to_outcome_col = survival_inputs['time_to_outcome_col'])"
   ]
  },
  {
   "cell_type": "code",
   "execution_count": 390,
   "metadata": {},
   "outputs": [
    {
     "data": {
      "text/plain": [
       "'ttcancer'"
      ]
     },
     "execution_count": 390,
     "metadata": {},
     "output_type": "execute_result"
    }
   ],
   "source": [
    "survival_inputs['time_to_outcome_col']"
   ]
  },
  {
   "cell_type": "code",
   "execution_count": null,
   "metadata": {},
   "outputs": [],
   "source": [
    "survival_output_df[survival_output_df['predictor'] == 'cancerpredmarker']"
   ]
  },
  {
   "cell_type": "code",
   "execution_count": 377,
   "metadata": {},
   "outputs": [
    {
     "data": {
      "text/plain": [
       "all                 51\n",
       "none                51\n",
       "cancerpredmarker    51\n",
       "Name: variable, dtype: int64"
      ]
     },
     "execution_count": 377,
     "metadata": {},
     "output_type": "execute_result"
    }
   ],
   "source": [
    "survival_output_df['variable'].value_counts()"
   ]
  },
  {
   "cell_type": "code",
   "execution_count": null,
   "metadata": {},
   "outputs": [],
   "source": [
    "help(np.arange)"
   ]
  },
  {
   "cell_type": "code",
   "execution_count": 379,
   "metadata": {},
   "outputs": [],
   "source": [
    "#survival_output_df[survival_output_df['cancer'] == True]"
   ]
  },
  {
   "cell_type": "code",
   "execution_count": 386,
   "metadata": {},
   "outputs": [],
   "source": [
    "def plot_net_benefit_graphs(output_df: pd.DataFrame) -> (list,list):\n",
    "    \n",
    "    predictor_names = output_df['predictor'].value_counts().index\n",
    "    color_names = ['blue', 'purple', 'red', 'green']\n",
    "    x_val_list = []\n",
    "    y_val_list = []\n",
    "    \n",
    "    for predictor_name, color_name in zip(predictor_names, color_names):\n",
    "    \n",
    "        single_pred_df = output_df[output_df['predictor'] == predictor_name]\n",
    "        x_vals = single_pred_df['threshold']\n",
    "        y_vals = single_pred_df['net_benefit']\n",
    "        \n",
    "        plt.plot(x_vals, y_vals, color=color_name)\n",
    "\n",
    "        plt.ylim([-0.05, 0.2])\n",
    "        plt.legend(predictor_names)\n",
    "        plt.grid(b=True, which='both', axis='both')\n",
    "        \n",
    "    return"
   ]
  },
  {
   "cell_type": "code",
   "execution_count": 387,
   "metadata": {},
   "outputs": [
    {
     "data": {
      "image/png": "[encoded data removed]",
      "text/plain": [
       "<Figure size 432x288 with 1 Axes>"
      ]
     },
     "metadata": {
      "needs_background": "light"
     },
     "output_type": "display_data"
    }
   ],
   "source": [
    "plot_net_benefit_graphs(binary_output_df)"
   ]
  },
  {
   "cell_type": "code",
   "execution_count": 388,
   "metadata": {},
   "outputs": [
    {
     "data": {
      "image/png": "[encoded data removed]",
      "text/plain": [
       "<Figure size 432x288 with 1 Axes>"
      ]
     },
     "metadata": {
      "needs_background": "light"
     },
     "output_type": "display_data"
    }
   ],
   "source": [
    "plot_net_benefit_graphs(survival_output_df)"
   ]
  },
  {
   "cell_type": "code",
   "execution_count": null,
   "metadata": {},
   "outputs": [],
   "source": [
    "survival_output_df[survival_output_df['predictor'] == 'cancerpredmarker']"
   ]
  },
  {
   "cell_type": "code",
   "execution_count": null,
   "metadata": {},
   "outputs": [],
   "source": [
    "survival_output_df[survival_output_df['predictor'] == 'all']"
   ]
  },
  {
   "cell_type": "code",
   "execution_count": null,
   "metadata": {},
   "outputs": [],
   "source": []
  }
 ],
 "metadata": {
  "kernelspec": {
   "display_name": "Python 3",
   "language": "python",
   "name": "python3"
  },
  "language_info": {
   "codemirror_mode": {
    "name": "ipython",
    "version": 3
   },
   "file_extension": ".py",
   "mimetype": "text/x-python",
   "name": "python",
   "nbconvert_exporter": "python",
   "pygments_lexer": "ipython3",
   "version": "3.7.6"
  }
 },
 "nbformat": 4,
 "nbformat_minor": 4
}
