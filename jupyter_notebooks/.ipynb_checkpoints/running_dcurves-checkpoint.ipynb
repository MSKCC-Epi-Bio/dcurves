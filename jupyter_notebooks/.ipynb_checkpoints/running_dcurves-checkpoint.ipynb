{
 "cells": [
  {
   "cell_type": "raw",
   "metadata": {},
   "source": [
    "running_dcurves_package"
   ]
  },
  {
   "cell_type": "code",
   "execution_count": 1,
   "metadata": {},
   "outputs": [],
   "source": [
    "import pandas as pd\n",
    "import numpy as np\n",
    "import statsmodels.api as sm\n",
    "import statsmodels.duration.hazard_regression as coxph\n",
    "import lifelines\n",
    "#from lifelines.datasets import load_rossi\n",
    "import matplotlib.pyplot as plt\n",
    "import dcurves"
   ]
  },
  {
   "cell_type": "code",
   "execution_count": null,
   "metadata": {},
   "outputs": [],
   "source": []
  },
  {
   "cell_type": "code",
   "execution_count": 2,
   "metadata": {},
   "outputs": [],
   "source": [
    "pd.set_option('display.max_rows', 500)\n"
   ]
  },
  {
   "cell_type": "code",
   "execution_count": 3,
   "metadata": {},
   "outputs": [],
   "source": [
    "binary_abs_path = '/Users/ShaunPorwal/Documents/GitHub/python_packages/dcurves/dcurves/data/df_binary.csv'\n",
    "surv_abs_path = '/Users/ShaunPorwal/Documents/GitHub/python_packages/dcurves/dcurves/data/df_surv.csv'\n",
    "case_control_abs_path = '/Users/ShaunPorwal/Documents/GitHub/python_packages/dcurves/dcurves/data/df_case_control.csv'\n",
    "df_dan_test_path = '/Users/ShaunPorwal/Desktop/df_cancer_dx.csv'\n",
    "\n",
    "df_binary = pd.read_csv(binary_abs_path)\n",
    "df_surv = pd.read_csv(surv_abs_path)\n",
    "df_case_control = pd.read_csv(case_control_abs_path)\n",
    "\n",
    "df_dan_test = pd.read_csv(df_dan_test_path)"
   ]
  },
  {
   "cell_type": "code",
   "execution_count": 4,
   "metadata": {},
   "outputs": [
    {
     "data": {
      "text/html": [
       "<div>\n",
       "<style scoped>\n",
       "    .dataframe tbody tr th:only-of-type {\n",
       "        vertical-align: middle;\n",
       "    }\n",
       "\n",
       "    .dataframe tbody tr th {\n",
       "        vertical-align: top;\n",
       "    }\n",
       "\n",
       "    .dataframe thead th {\n",
       "        text-align: right;\n",
       "    }\n",
       "</style>\n",
       "<table border=\"1\" class=\"dataframe\">\n",
       "  <thead>\n",
       "    <tr style=\"text-align: right;\">\n",
       "      <th></th>\n",
       "      <th>patientid</th>\n",
       "      <th>cancer</th>\n",
       "      <th>risk_group</th>\n",
       "      <th>age</th>\n",
       "      <th>famhistory</th>\n",
       "      <th>marker</th>\n",
       "      <th>cancerpredmarker</th>\n",
       "    </tr>\n",
       "  </thead>\n",
       "  <tbody>\n",
       "    <tr>\n",
       "      <th>0</th>\n",
       "      <td>1</td>\n",
       "      <td>0</td>\n",
       "      <td>low</td>\n",
       "      <td>64.03445</td>\n",
       "      <td>0</td>\n",
       "      <td>0.776309</td>\n",
       "      <td>0.037201</td>\n",
       "    </tr>\n",
       "    <tr>\n",
       "      <th>1</th>\n",
       "      <td>2</td>\n",
       "      <td>0</td>\n",
       "      <td>high</td>\n",
       "      <td>78.46741</td>\n",
       "      <td>0</td>\n",
       "      <td>0.267086</td>\n",
       "      <td>0.578907</td>\n",
       "    </tr>\n",
       "    <tr>\n",
       "      <th>2</th>\n",
       "      <td>3</td>\n",
       "      <td>0</td>\n",
       "      <td>low</td>\n",
       "      <td>64.14617</td>\n",
       "      <td>0</td>\n",
       "      <td>0.169621</td>\n",
       "      <td>0.021551</td>\n",
       "    </tr>\n",
       "    <tr>\n",
       "      <th>3</th>\n",
       "      <td>4</td>\n",
       "      <td>0</td>\n",
       "      <td>low</td>\n",
       "      <td>58.53482</td>\n",
       "      <td>0</td>\n",
       "      <td>0.023996</td>\n",
       "      <td>0.003910</td>\n",
       "    </tr>\n",
       "    <tr>\n",
       "      <th>4</th>\n",
       "      <td>5</td>\n",
       "      <td>0</td>\n",
       "      <td>low</td>\n",
       "      <td>63.99250</td>\n",
       "      <td>0</td>\n",
       "      <td>0.070910</td>\n",
       "      <td>0.018790</td>\n",
       "    </tr>\n",
       "    <tr>\n",
       "      <th>...</th>\n",
       "      <td>...</td>\n",
       "      <td>...</td>\n",
       "      <td>...</td>\n",
       "      <td>...</td>\n",
       "      <td>...</td>\n",
       "      <td>...</td>\n",
       "      <td>...</td>\n",
       "    </tr>\n",
       "    <tr>\n",
       "      <th>745</th>\n",
       "      <td>746</td>\n",
       "      <td>0</td>\n",
       "      <td>intermediate</td>\n",
       "      <td>66.09628</td>\n",
       "      <td>0</td>\n",
       "      <td>0.654782</td>\n",
       "      <td>0.057813</td>\n",
       "    </tr>\n",
       "    <tr>\n",
       "      <th>746</th>\n",
       "      <td>747</td>\n",
       "      <td>1</td>\n",
       "      <td>intermediate</td>\n",
       "      <td>65.75370</td>\n",
       "      <td>1</td>\n",
       "      <td>1.030259</td>\n",
       "      <td>0.160424</td>\n",
       "    </tr>\n",
       "    <tr>\n",
       "      <th>747</th>\n",
       "      <td>748</td>\n",
       "      <td>0</td>\n",
       "      <td>intermediate</td>\n",
       "      <td>70.28287</td>\n",
       "      <td>0</td>\n",
       "      <td>0.151616</td>\n",
       "      <td>0.108838</td>\n",
       "    </tr>\n",
       "    <tr>\n",
       "      <th>748</th>\n",
       "      <td>749</td>\n",
       "      <td>0</td>\n",
       "      <td>low</td>\n",
       "      <td>61.32673</td>\n",
       "      <td>0</td>\n",
       "      <td>0.624602</td>\n",
       "      <td>0.015285</td>\n",
       "    </tr>\n",
       "    <tr>\n",
       "      <th>749</th>\n",
       "      <td>750</td>\n",
       "      <td>0</td>\n",
       "      <td>low</td>\n",
       "      <td>61.66628</td>\n",
       "      <td>0</td>\n",
       "      <td>0.270679</td>\n",
       "      <td>0.011938</td>\n",
       "    </tr>\n",
       "  </tbody>\n",
       "</table>\n",
       "<p>750 rows × 7 columns</p>\n",
       "</div>"
      ],
      "text/plain": [
       "     patientid  cancer    risk_group       age  famhistory    marker  \\\n",
       "0            1       0           low  64.03445           0  0.776309   \n",
       "1            2       0          high  78.46741           0  0.267086   \n",
       "2            3       0           low  64.14617           0  0.169621   \n",
       "3            4       0           low  58.53482           0  0.023996   \n",
       "4            5       0           low  63.99250           0  0.070910   \n",
       "..         ...     ...           ...       ...         ...       ...   \n",
       "745        746       0  intermediate  66.09628           0  0.654782   \n",
       "746        747       1  intermediate  65.75370           1  1.030259   \n",
       "747        748       0  intermediate  70.28287           0  0.151616   \n",
       "748        749       0           low  61.32673           0  0.624602   \n",
       "749        750       0           low  61.66628           0  0.270679   \n",
       "\n",
       "     cancerpredmarker  \n",
       "0            0.037201  \n",
       "1            0.578907  \n",
       "2            0.021551  \n",
       "3            0.003910  \n",
       "4            0.018790  \n",
       "..                ...  \n",
       "745          0.057813  \n",
       "746          0.160424  \n",
       "747          0.108838  \n",
       "748          0.015285  \n",
       "749          0.011938  \n",
       "\n",
       "[750 rows x 7 columns]"
      ]
     },
     "execution_count": 4,
     "metadata": {},
     "output_type": "execute_result"
    }
   ],
   "source": [
    "df_dan_test"
   ]
  },
  {
   "cell_type": "code",
   "execution_count": 5,
   "metadata": {},
   "outputs": [],
   "source": [
    "# binary inputs\n",
    "\n",
    "binary_inputs = {\n",
    "    'data': df_binary,\n",
    "    'outcome': 'cancer',\n",
    "    'predictors': ['cancerpredmarker', 'marker'],\n",
    "    'thresh_lo': 0.01,\n",
    "    'thresh_hi': 0.35,\n",
    "    'thresh_step': 0.01,\n",
    "    'harm': None,\n",
    "    'probabilities': [False, True],\n",
    "    'time': None,\n",
    "    'prevalence': None,\n",
    "    'time_to_outcome_col': None\n",
    "}\n",
    "\n",
    "survival_inputs = {\n",
    "    'data': df_surv,\n",
    "    'outcome': 'cancer',\n",
    "    'predictors': ['cancerpredmarker'],\n",
    "    'thresh_lo': 0.01,\n",
    "    'thresh_hi': 0.50,\n",
    "    'thresh_step': 0.01,\n",
    "    'harm': None,\n",
    "    'probabilities': [False],\n",
    "    'time': 1,\n",
    "    'prevalence': None,\n",
    "    'time_to_outcome_col': 'ttcancer'\n",
    "}\n",
    "\n",
    "dan_test_inputs = {\n",
    "    'data': df_dan_test,\n",
    "    'outcome': 'cancer',\n",
    "    'predictors': ['famhistory'],\n",
    "    'thresh_lo': 0.01,\n",
    "    'thresh_hi': 1,\n",
    "    'thresh_step': 0.01,\n",
    "    'harm': None,\n",
    "    'probabilities': [False],\n",
    "    'time': None,\n",
    "    'prevalence': None,\n",
    "    'time_to_outcome_col': None\n",
    "}"
   ]
  },
  {
   "cell_type": "code",
   "execution_count": 6,
   "metadata": {},
   "outputs": [
    {
     "data": {
      "text/plain": [
       "'cancer'"
      ]
     },
     "execution_count": 6,
     "metadata": {},
     "output_type": "execute_result"
    }
   ],
   "source": [
    "binary_inputs['outcome']"
   ]
  },
  {
   "cell_type": "code",
   "execution_count": 7,
   "metadata": {},
   "outputs": [],
   "source": [
    "binary_output_df = dcurves.dca(data = binary_inputs['data'],\n",
    "        outcome = binary_inputs['outcome'],\n",
    "        predictors = binary_inputs['predictors'],\n",
    "        thresh_lo = binary_inputs['thresh_lo'],\n",
    "        thresh_hi = binary_inputs['thresh_hi'],\n",
    "        thresh_step = binary_inputs['thresh_step'],\n",
    "        harm = binary_inputs['harm'],\n",
    "        probabilities = binary_inputs['probabilities'],\n",
    "        time = binary_inputs['time'],\n",
    "        prevalence = binary_inputs['prevalence'],\n",
    "        time_to_outcome_col = binary_inputs['time_to_outcome_col'])"
   ]
  },
  {
   "cell_type": "code",
   "execution_count": 8,
   "metadata": {},
   "outputs": [],
   "source": [
    "survival_output_df = dcurves.dca(data = survival_inputs['data'],\n",
    "        outcome = survival_inputs['outcome'],\n",
    "        predictors = survival_inputs['predictors'],\n",
    "        thresh_lo = survival_inputs['thresh_lo'],\n",
    "        thresh_hi = survival_inputs['thresh_hi'],\n",
    "        thresh_step = survival_inputs['thresh_step'],\n",
    "        harm = survival_inputs['harm'],\n",
    "        probabilities = survival_inputs['probabilities'],\n",
    "        time = survival_inputs['time'],\n",
    "        prevalence = survival_inputs['prevalence'],\n",
    "        time_to_outcome_col = survival_inputs['time_to_outcome_col'])"
   ]
  },
  {
   "cell_type": "code",
   "execution_count": 9,
   "metadata": {},
   "outputs": [],
   "source": [
    "dan_test_output_df = dcurves.dca(data = dan_test_inputs['data'],\n",
    "        outcome = dan_test_inputs['outcome'],\n",
    "        predictors = dan_test_inputs['predictors'],\n",
    "        thresh_lo = dan_test_inputs['thresh_lo'],\n",
    "        thresh_hi = dan_test_inputs['thresh_hi'],\n",
    "        thresh_step = dan_test_inputs['thresh_step'],\n",
    "        harm = dan_test_inputs['harm'],\n",
    "        probabilities = dan_test_inputs['probabilities'],\n",
    "        time = dan_test_inputs['time'],\n",
    "        prevalence = dan_test_inputs['prevalence'],\n",
    "        time_to_outcome_col = dan_test_inputs['time_to_outcome_col'])\n"
   ]
  },
  {
   "cell_type": "code",
   "execution_count": 10,
   "metadata": {},
   "outputs": [
    {
     "ename": "AttributeError",
     "evalue": "'function' object has no attribute 'plot_net_benefit_graphs'",
     "output_type": "error",
     "traceback": [
      "\u001b[0;31m---------------------------------------------------------------------------\u001b[0m",
      "\u001b[0;31mAttributeError\u001b[0m                            Traceback (most recent call last)",
      "\u001b[0;32m<ipython-input-10-e94b263d695c>\u001b[0m in \u001b[0;36m<module>\u001b[0;34m\u001b[0m\n\u001b[0;32m----> 1\u001b[0;31m \u001b[0mdcurves\u001b[0m\u001b[0;34m.\u001b[0m\u001b[0mdca\u001b[0m\u001b[0;34m.\u001b[0m\u001b[0mplot_net_benefit_graphs\u001b[0m\u001b[0;34m(\u001b[0m\u001b[0mbinary_output_df\u001b[0m\u001b[0;34m)\u001b[0m\u001b[0;34m\u001b[0m\u001b[0;34m\u001b[0m\u001b[0m\n\u001b[0m",
      "\u001b[0;31mAttributeError\u001b[0m: 'function' object has no attribute 'plot_net_benefit_graphs'"
     ]
    }
   ],
   "source": [
    "dcurves.plot_net_benefit_graphs(binary_output_df)"
   ]
  },
  {
   "cell_type": "code",
   "execution_count": null,
   "metadata": {},
   "outputs": [],
   "source": [
    "dcurves.plot_net_benefit_graphs(survival_output_df)"
   ]
  },
  {
   "cell_type": "code",
   "execution_count": null,
   "metadata": {},
   "outputs": [],
   "source": [
    "dcurves.plot_net_benefit_graphs(dan_test_output_df)\n"
   ]
  },
  {
   "cell_type": "code",
   "execution_count": null,
   "metadata": {},
   "outputs": [],
   "source": []
  },
  {
   "cell_type": "code",
   "execution_count": null,
   "metadata": {},
   "outputs": [],
   "source": []
  },
  {
   "cell_type": "code",
   "execution_count": null,
   "metadata": {},
   "outputs": [],
   "source": [
    "# dcurves."
   ]
  },
  {
   "cell_type": "code",
   "execution_count": null,
   "metadata": {},
   "outputs": [],
   "source": []
  },
  {
   "cell_type": "code",
   "execution_count": null,
   "metadata": {},
   "outputs": [],
   "source": [
    "# dan_test_output_df.to_csv('/Users/ShaunPorwal/Desktop/dan_test_python_output.tsv')"
   ]
  },
  {
   "cell_type": "code",
   "execution_count": null,
   "metadata": {},
   "outputs": [],
   "source": [
    "# dan_test_output_df"
   ]
  },
  {
   "cell_type": "code",
   "execution_count": null,
   "metadata": {},
   "outputs": [],
   "source": []
  },
  {
   "cell_type": "code",
   "execution_count": null,
   "metadata": {},
   "outputs": [],
   "source": []
  },
  {
   "cell_type": "code",
   "execution_count": null,
   "metadata": {},
   "outputs": [],
   "source": []
  },
  {
   "cell_type": "code",
   "execution_count": null,
   "metadata": {},
   "outputs": [],
   "source": []
  },
  {
   "cell_type": "code",
   "execution_count": null,
   "metadata": {},
   "outputs": [],
   "source": []
  },
  {
   "cell_type": "code",
   "execution_count": null,
   "metadata": {},
   "outputs": [],
   "source": []
  }
 ],
 "metadata": {
  "kernelspec": {
   "display_name": "Python 3",
   "language": "python",
   "name": "python3"
  },
  "language_info": {
   "codemirror_mode": {
    "name": "ipython",
    "version": 3
   },
   "file_extension": ".py",
   "mimetype": "text/x-python",
   "name": "python",
   "nbconvert_exporter": "python",
   "pygments_lexer": "ipython3",
   "version": "3.7.6"
  }
 },
 "nbformat": 4,
 "nbformat_minor": 4
}
