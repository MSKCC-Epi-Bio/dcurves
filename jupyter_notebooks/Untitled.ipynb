{
 "cells": [
  {
   "cell_type": "raw",
   "metadata": {},
   "source": []
  },
  {
   "cell_type": "code",
   "execution_count": null,
   "metadata": {},
   "outputs": [],
   "source": []
  },
  {
   "cell_type": "code",
   "execution_count": 1,
   "metadata": {},
   "outputs": [],
   "source": [
    "vec_a = ['b', 'c']"
   ]
  },
  {
   "cell_type": "code",
   "execution_count": 5,
   "metadata": {},
   "outputs": [
    {
     "data": {
      "text/plain": [
       "False"
      ]
     },
     "execution_count": 5,
     "metadata": {},
     "output_type": "execute_result"
    }
   ],
   "source": [
    "'a' in vec_a"
   ]
  },
  {
   "cell_type": "code",
   "execution_count": 6,
   "metadata": {},
   "outputs": [],
   "source": [
    "import dcurves"
   ]
  },
  {
   "cell_type": "code",
   "execution_count": null,
   "metadata": {},
   "outputs": [],
   "source": [
    "dcurves.dca"
   ]
  },
  {
   "cell_type": "code",
   "execution_count": 7,
   "metadata": {},
   "outputs": [
    {
     "name": "stdout",
     "output_type": "stream",
     "text": [
      "Help on function dca in module dcurves.dca:\n",
      "\n",
      "dca(data: pandas.core.frame.DataFrame, outcome: str, predictors: list, thresh_vals: list = [0.01, 0.99, 0.01], harm: dict = None, probabilities: list = [False], time: float = None, prevalence: float = None, time_to_outcome_col: str = None) -> pandas.core.frame.DataFrame\n",
      "    Perform Decision Curve Analysis\n",
      "    \n",
      "    |\n",
      "    \n",
      "    Diagnostic and prognostic models are typically evaluated with measures of\n",
      "    accuracy that do not address clinical consequences.\n",
      "    \n",
      "    Decision-analytic techniques allow assessment of clinical outcomes but often\n",
      "    require collection of additional information may be cumbersome to apply to\n",
      "    models that yield a continuous result. Decision curve analysis is a method\n",
      "    for evaluating and comparing prediction models that incorporates clinical\n",
      "    consequences, requires only the data set on which the models are tested,\n",
      "    and can be applied to models that have either continuous or dichotomous\n",
      "    results.\n",
      "    The dca function performs decision curve analysis for binary outcomes.\n",
      "    \n",
      "    |\n",
      "    \n",
      "    Review the\n",
      "    [DCA Vignette](http://www.danieldsjoberg.com/dcurves/articles/dca.html)\n",
      "    for a detailed walk-through of various applications.\n",
      "    \n",
      "    |\n",
      "    \n",
      "    Also, see [www.decisioncurveanalysis.org]\n",
      "    (https://www.mskcc.org/departments/epidemiology-biostatistics/biostatistics/decision-curve-analysis) for more information.\n",
      "    \n",
      "    |\n",
      "    \n",
      "    Examples\n",
      "    ________\n",
      "    \n",
      "    |\n",
      "    |  Load simulation binary data dataframe, print contents.\n",
      "    |\n",
      "    \n",
      "    >>> df_binary = dcurves.load_test_data.load_binary_df()\n",
      "    >>> print(df_binary)\n",
      "         patientid  cancer  ...    marker cancerpredmarker\n",
      "    0            1   False  ...  0.776309         0.037201\n",
      "    1            2   False  ...  0.267086         0.578907\n",
      "    2            3   False  ...  0.169621         0.021551\n",
      "    3            4   False  ...  0.023996         0.003910\n",
      "    4            5   False  ...  0.070910         0.018790\n",
      "    ..         ...     ...  ...       ...              ...\n",
      "    745        746   False  ...  0.654782         0.057813\n",
      "    746        747    True  ...  1.030259         0.160424\n",
      "    747        748   False  ...  0.151616         0.108838\n",
      "    748        749   False  ...  0.624602         0.015285\n",
      "    749        750   False  ...  0.270679         0.011938\n",
      "    \n",
      "    [750 rows x 8 columns]\n",
      "    \n",
      "    |\n",
      "    |  Run DCA on simulation binary data. Print the results.\n",
      "    |\n",
      "    \n",
      "    >>> print(\n",
      "    ...   dcurves.dca(\n",
      "    ...     data = df_binary,\n",
      "    ...     outcome = 'cancer',\n",
      "    ...     predictors = ['famhistory']\n",
      "    ...    )\n",
      "    ... )\n",
      "          predictor     threshold    n  prevalence    tpr       fpr    variable  harm  net_benefit\n",
      "    0    famhistory  1.000000e-09  750        0.14  0.032  0.121333  famhistory     0     0.032000\n",
      "    1    famhistory  1.000000e-02  750        0.14  0.032  0.121333  famhistory     0     0.030774\n",
      "    2    famhistory  2.000000e-02  750        0.14  0.032  0.121333  famhistory     0     0.029524\n",
      "    3    famhistory  3.000000e-02  750        0.14  0.032  0.121333  famhistory     0     0.028247\n",
      "    4    famhistory  4.000000e-02  750        0.14  0.032  0.121333  famhistory     0     0.026944\n",
      "    ..          ...           ...  ...         ...    ...       ...         ...   ...          ...\n",
      "    96         none  9.600000e-01  750        0.14  0.000  0.000000        none     0     0.000000\n",
      "    97         none  9.700000e-01  750        0.14  0.000  0.000000        none     0     0.000000\n",
      "    98         none  9.800000e-01  750        0.14  0.000  0.000000        none     0     0.000000\n",
      "    99         none  9.900000e-01  750        0.14  0.000  0.000000        none     0     0.000000\n",
      "    100        none  1.000000e+00  750        0.14  0.000  0.000000        none     0          NaN\n",
      "    \n",
      "    |\n",
      "    |  Load simulation survival data and run DCA on it. Print the results.\n",
      "    |\n",
      "    \n",
      "    >>> df_surv = dcurves.load_test_data.load_survival_df()\n",
      "    >>> print(\n",
      "    ...   dcurves.dca(\n",
      "    ...     data = dcurves.load_test_data.load_survival_df(),\n",
      "    ...     outcome = 'cancer',\n",
      "    ...     predictors = ['cancerpredmarker'],\n",
      "    ...     thresh_vals = [0.01, 1.0, 0.01],\n",
      "    ...     probabilities = [False],\n",
      "    ...     time = 1,\n",
      "    ...     time_to_outcome_col = 'ttcancer'\n",
      "    ...   )\n",
      "    ... )\n",
      "                predictor     threshold    n  prevalence  ...       fpr          variable  harm  net_benefit\n",
      "    0    cancerpredmarker  1.000000e-09  750    0.147287  ...  0.852713  cancerpredmarker     0     0.147287\n",
      "    1    cancerpredmarker  1.000000e-02  750    0.147287  ...  0.742181  cancerpredmarker     0     0.139656\n",
      "    2    cancerpredmarker  2.000000e-02  750    0.147287  ...  0.613444  cancerpredmarker     0     0.132703\n",
      "    3    cancerpredmarker  3.000000e-02  750    0.147287  ...  0.523820  cancerpredmarker     0     0.123979\n",
      "    4    cancerpredmarker  4.000000e-02  750    0.147287  ...  0.474956  cancerpredmarker     0     0.115921\n",
      "    ..                ...           ...  ...         ...  ...       ...               ...   ...          ...\n",
      "    96               none  9.600000e-01  750    0.147287  ...  0.000000              none     0     0.000000\n",
      "    97               none  9.700000e-01  750    0.147287  ...  0.000000              none     0     0.000000\n",
      "    98               none  9.800000e-01  750    0.147287  ...  0.000000              none     0     0.000000\n",
      "    99               none  9.900000e-01  750    0.147287  ...  0.000000              none     0     0.000000\n",
      "    100              none  1.000000e+00  750    0.147287  ...  0.000000              none     0          NaN\n",
      "    \n",
      "    \n",
      "    Parameters\n",
      "    ----------\n",
      "    data : pd.DataFrame\n",
      "        the data set to analyze\n",
      "    outcome : str\n",
      "        the column name of the data frame to use as the outcome\n",
      "    predictors : str OR list(str)\n",
      "        the column(s) that will be used to predict the outcome\n",
      "    thresh_vals : list(float OR int)\n",
      "        3 values in list - threshold probability lower bound, upper bound,\n",
      "        then step size, respectively (defaults to [0.01, 1, 0.01]). The lower\n",
      "        bound must be >0.\n",
      "    harm : float or list(float)\n",
      "        the harm associated with each predictor\n",
      "        harm must have the same length as the predictors list\n",
      "    probabilities : bool or list(bool)\n",
      "        whether the outcome is coded as a probability\n",
      "        probability must have the same length as the predictors list\n",
      "    time : float (defaults to None)\n",
      "        survival endpoint time for risk calculation\n",
      "    prevalence : float (defaults to None)\n",
      "        population prevalence value\n",
      "    time_to_outcome_col : str (defaults to None)\n",
      "        name of input dataframe column that contains time-to-outcome data\n",
      "    \n",
      "    \n",
      "    Return\n",
      "    -------\n",
      "    output_df : pd.DataFrame\n",
      "        A dataframe containing calculated net benefit values and threshold values for plotting\n",
      "\n"
     ]
    }
   ],
   "source": [
    "help(dcurves.dca)"
   ]
  },
  {
   "cell_type": "code",
   "execution_count": null,
   "metadata": {},
   "outputs": [],
   "source": []
  },
  {
   "cell_type": "code",
   "execution_count": null,
   "metadata": {},
   "outputs": [],
   "source": []
  }
 ],
 "metadata": {
  "kernelspec": {
   "display_name": "Python 3",
   "language": "python",
   "name": "python3"
  },
  "language_info": {
   "codemirror_mode": {
    "name": "ipython",
    "version": 3
   },
   "file_extension": ".py",
   "mimetype": "text/x-python",
   "name": "python",
   "nbconvert_exporter": "python",
   "pygments_lexer": "ipython3",
   "version": "3.7.6"
  }
 },
 "nbformat": 4,
 "nbformat_minor": 4
}
