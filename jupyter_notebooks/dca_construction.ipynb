{
 "cells": [
  {
   "cell_type": "markdown",
   "metadata": {},
   "source": [
    "# dcurves Tutorial"
   ]
  },
  {
   "cell_type": "markdown",
   "metadata": {},
   "source": [
    "Install dcurves On The Terminal/Command Line"
   ]
  },
  {
   "cell_type": "code",
   "execution_count": 39,
   "metadata": {},
   "outputs": [
    {
     "name": "stdout",
     "output_type": "stream",
     "text": [
      "Requirement already satisfied: dcurves in /opt/anaconda3/lib/python3.7/site-packages (1.0.2)\n",
      "Requirement already satisfied: statsmodels==0.11.1 in /opt/anaconda3/lib/python3.7/site-packages (from dcurves) (0.11.1)\n",
      "Requirement already satisfied: matplotlib==3.2.0 in /opt/anaconda3/lib/python3.7/site-packages (from dcurves) (3.2.0)\n",
      "Requirement already satisfied: beartype==0.11.0 in /opt/anaconda3/lib/python3.7/site-packages (from dcurves) (0.11.0)\n",
      "Requirement already satisfied: numpy==1.18.1 in /opt/anaconda3/lib/python3.7/site-packages (from dcurves) (1.18.1)\n",
      "Requirement already satisfied: pandas==1.0.2 in /opt/anaconda3/lib/python3.7/site-packages (from dcurves) (1.0.2)\n",
      "Requirement already satisfied: lifelines==0.26.3 in /opt/anaconda3/lib/python3.7/site-packages (from dcurves) (0.26.3)\n",
      "Requirement already satisfied: typing==3.7.4.3 in /opt/anaconda3/lib/python3.7/site-packages (from dcurves) (3.7.4.3)\n",
      "Requirement already satisfied: scipy>=1.2.0 in /opt/anaconda3/lib/python3.7/site-packages (from lifelines==0.26.3->dcurves) (1.4.1)\n",
      "Requirement already satisfied: autograd>=1.3 in /opt/anaconda3/lib/python3.7/site-packages (from lifelines==0.26.3->dcurves) (1.3)\n",
      "Requirement already satisfied: autograd-gamma>=0.3 in /opt/anaconda3/lib/python3.7/site-packages (from lifelines==0.26.3->dcurves) (0.5.0)\n",
      "Requirement already satisfied: formulaic<0.3,>=0.2.2 in /opt/anaconda3/lib/python3.7/site-packages (from lifelines==0.26.3->dcurves) (0.2.4)\n",
      "Requirement already satisfied: cycler>=0.10 in /opt/anaconda3/lib/python3.7/site-packages (from matplotlib==3.2.0->dcurves) (0.10.0)\n",
      "Requirement already satisfied: kiwisolver>=1.0.1 in /opt/anaconda3/lib/python3.7/site-packages (from matplotlib==3.2.0->dcurves) (1.1.0)\n",
      "Requirement already satisfied: pyparsing!=2.0.4,!=2.1.2,!=2.1.6,>=2.0.1 in /opt/anaconda3/lib/python3.7/site-packages (from matplotlib==3.2.0->dcurves) (2.4.6)\n",
      "Requirement already satisfied: python-dateutil>=2.1 in /opt/anaconda3/lib/python3.7/site-packages (from matplotlib==3.2.0->dcurves) (2.8.1)\n",
      "Requirement already satisfied: pytz>=2017.2 in /opt/anaconda3/lib/python3.7/site-packages (from pandas==1.0.2->dcurves) (2019.3)\n",
      "Requirement already satisfied: patsy>=0.5 in /opt/anaconda3/lib/python3.7/site-packages (from statsmodels==0.11.1->dcurves) (0.5.1)\n",
      "Requirement already satisfied: future>=0.15.2 in /opt/anaconda3/lib/python3.7/site-packages (from autograd>=1.3->lifelines==0.26.3->dcurves) (0.18.2)\n",
      "Requirement already satisfied: six in /opt/anaconda3/lib/python3.7/site-packages (from cycler>=0.10->matplotlib==3.2.0->dcurves) (1.14.0)\n",
      "Requirement already satisfied: wrapt in /opt/anaconda3/lib/python3.7/site-packages (from formulaic<0.3,>=0.2.2->lifelines==0.26.3->dcurves) (1.11.2)\n",
      "Requirement already satisfied: astor in /opt/anaconda3/lib/python3.7/site-packages (from formulaic<0.3,>=0.2.2->lifelines==0.26.3->dcurves) (0.8.0)\n",
      "Requirement already satisfied: interface-meta>=1.2 in /opt/anaconda3/lib/python3.7/site-packages (from formulaic<0.3,>=0.2.2->lifelines==0.26.3->dcurves) (1.2.3)\n",
      "Requirement already satisfied: setuptools in /Users/ShaunPorwal/.local/lib/python3.7/site-packages (from kiwisolver>=1.0.1->matplotlib==3.2.0->dcurves) (62.3.2)\n"
     ]
    }
   ],
   "source": [
    "!pip install dcurves"
   ]
  },
  {
   "cell_type": "markdown",
   "metadata": {},
   "source": [
    "Install dcurves Functions"
   ]
  },
  {
   "cell_type": "code",
   "execution_count": 40,
   "metadata": {},
   "outputs": [],
   "source": [
    "from dcurves import dca, plot_graphs"
   ]
  },
  {
   "cell_type": "markdown",
   "metadata": {},
   "source": [
    "Import Other Packages Used In This Tutorial"
   ]
  },
  {
   "cell_type": "code",
   "execution_count": 41,
   "metadata": {},
   "outputs": [],
   "source": [
    "import pandas as pd\n",
    "import numpy as np\n",
    "import statsmodels.api as sm\n",
    "import lifelines\n",
    "# Display plots in notebook\n",
    "%matplotlib inline "
   ]
  },
  {
   "cell_type": "markdown",
   "metadata": {},
   "source": [
    "Import Cancer Simulation Dataset"
   ]
  },
  {
   "cell_type": "code",
   "execution_count": 42,
   "metadata": {},
   "outputs": [],
   "source": [
    "df_cancer_dx = pd.read_csv('https://raw.githubusercontent.com/ddsjoberg/dca-tutorial/main/data/df_cancer_dx.csv')"
   ]
  },
  {
   "cell_type": "markdown",
   "metadata": {},
   "source": [
    "Create A Generalized Linear Model"
   ]
  },
  {
   "cell_type": "code",
   "execution_count": 43,
   "metadata": {},
   "outputs": [
    {
     "data": {
      "text/html": [
       "<table class=\"simpletable\">\n",
       "<caption>Generalized Linear Model Regression Results</caption>\n",
       "<tr>\n",
       "  <th>Dep. Variable:</th>        <td>cancer</td>      <th>  No. Observations:  </th>  <td>   750</td> \n",
       "</tr>\n",
       "<tr>\n",
       "  <th>Model:</th>                  <td>GLM</td>       <th>  Df Residuals:      </th>  <td>   748</td> \n",
       "</tr>\n",
       "<tr>\n",
       "  <th>Model Family:</th>        <td>Binomial</td>     <th>  Df Model:          </th>  <td>     1</td> \n",
       "</tr>\n",
       "<tr>\n",
       "  <th>Link Function:</th>         <td>logit</td>      <th>  Scale:             </th> <td>  1.0000</td>\n",
       "</tr>\n",
       "<tr>\n",
       "  <th>Method:</th>                <td>IRLS</td>       <th>  Log-Likelihood:    </th> <td> -301.30</td>\n",
       "</tr>\n",
       "<tr>\n",
       "  <th>Date:</th>            <td>Sun, 22 Jan 2023</td> <th>  Deviance:          </th> <td>  602.60</td>\n",
       "</tr>\n",
       "<tr>\n",
       "  <th>Time:</th>                <td>22:55:19</td>     <th>  Pearson chi2:      </th>  <td>  750.</td> \n",
       "</tr>\n",
       "<tr>\n",
       "  <th>No. Iterations:</th>          <td>4</td>        <th>                     </th>     <td> </td>   \n",
       "</tr>\n",
       "<tr>\n",
       "  <th>Covariance Type:</th>     <td>nonrobust</td>    <th>                     </th>     <td> </td>   \n",
       "</tr>\n",
       "</table>\n",
       "<table class=\"simpletable\">\n",
       "<tr>\n",
       "       <td></td>         <th>coef</th>     <th>std err</th>      <th>z</th>      <th>P>|z|</th>  <th>[0.025</th>    <th>0.975]</th>  \n",
       "</tr>\n",
       "<tr>\n",
       "  <th>Intercept</th>  <td>   -1.9227</td> <td>    0.119</td> <td>  -16.163</td> <td> 0.000</td> <td>   -2.156</td> <td>   -1.690</td>\n",
       "</tr>\n",
       "<tr>\n",
       "  <th>famhistory</th> <td>    0.5899</td> <td>    0.258</td> <td>    2.282</td> <td> 0.022</td> <td>    0.083</td> <td>    1.097</td>\n",
       "</tr>\n",
       "</table>"
      ],
      "text/plain": [
       "<class 'statsmodels.iolib.summary.Summary'>\n",
       "\"\"\"\n",
       "                 Generalized Linear Model Regression Results                  \n",
       "==============================================================================\n",
       "Dep. Variable:                 cancer   No. Observations:                  750\n",
       "Model:                            GLM   Df Residuals:                      748\n",
       "Model Family:                Binomial   Df Model:                            1\n",
       "Link Function:                  logit   Scale:                          1.0000\n",
       "Method:                          IRLS   Log-Likelihood:                -301.30\n",
       "Date:                Sun, 22 Jan 2023   Deviance:                       602.60\n",
       "Time:                        22:55:19   Pearson chi2:                     750.\n",
       "No. Iterations:                     4                                         \n",
       "Covariance Type:            nonrobust                                         \n",
       "==============================================================================\n",
       "                 coef    std err          z      P>|z|      [0.025      0.975]\n",
       "------------------------------------------------------------------------------\n",
       "Intercept     -1.9227      0.119    -16.163      0.000      -2.156      -1.690\n",
       "famhistory     0.5899      0.258      2.282      0.022       0.083       1.097\n",
       "==============================================================================\n",
       "\"\"\""
      ]
     },
     "execution_count": 43,
     "metadata": {},
     "output_type": "execute_result"
    }
   ],
   "source": [
    "mod1 = sm.GLM.from_formula('cancer ~ famhistory', data=df_cancer_dx, family=sm.families.Binomial())\n",
    "mod1_results = mod1.fit()\n",
    "\n",
    "mod1_results.summary()"
   ]
  },
  {
   "cell_type": "markdown",
   "metadata": {},
   "source": [
    "Run DCA With Cancer Outcome and Famhistory Predictor/Model"
   ]
  },
  {
   "cell_type": "code",
   "execution_count": 44,
   "metadata": {},
   "outputs": [
    {
     "data": {
      "image/png": "[encoded data removed]",
      "text/plain": [
       "<Figure size 432x288 with 1 Axes>"
      ]
     },
     "metadata": {
      "needs_background": "light"
     },
     "output_type": "display_data"
    }
   ],
   "source": [
    "dca_famhistory_df = \\\n",
    "    dca(\n",
    "        data=df_cancer_dx,\n",
    "        outcome='cancer',\n",
    "        modelnames=['famhistory']\n",
    "    )\n",
    "\n",
    "plot_graphs(\n",
    "    plot_df=dca_famhistory_df,\n",
    "    graph_type='net_benefit',\n",
    "    y_limits=[-0.05, 0.2],\n",
    "    color_names=['red', 'blue', 'green']\n",
    ")"
   ]
  },
  {
   "cell_type": "markdown",
   "metadata": {},
   "source": [
    "Run DCA With Cancer Outcome and Famhistory Predictor/Model with Abridged Thresholds"
   ]
  },
  {
   "cell_type": "code",
   "execution_count": 45,
   "metadata": {},
   "outputs": [
    {
     "data": {
      "image/png": "[encoded data removed]",
      "text/plain": [
       "<Figure size 432x288 with 1 Axes>"
      ]
     },
     "metadata": {
      "needs_background": "light"
     },
     "output_type": "display_data"
    }
   ],
   "source": [
    "dca_famhistory2_df = \\\n",
    "    dca(\n",
    "        data=df_cancer_dx,\n",
    "        outcome='cancer',\n",
    "        modelnames=['famhistory'],\n",
    "        thresholds=np.arange(0, 0.36, 0.01),\n",
    "    )\n",
    "\n",
    "plot_graphs(\n",
    "    plot_df=dca_famhistory2_df,\n",
    "    graph_type='net_benefit',\n",
    "    y_limits=[-0.05, 0.2],\n",
    "    color_names=['red', 'blue', 'green']\n",
    ")"
   ]
  },
  {
   "cell_type": "markdown",
   "metadata": {},
   "source": [
    "Run Multivariate Model and Print Model Summary"
   ]
  },
  {
   "cell_type": "code",
   "execution_count": 46,
   "metadata": {},
   "outputs": [
    {
     "data": {
      "text/html": [
       "<table class=\"simpletable\">\n",
       "<caption>Generalized Linear Model Regression Results</caption>\n",
       "<tr>\n",
       "  <th>Dep. Variable:</th>        <td>cancer</td>      <th>  No. Observations:  </th>  <td>   750</td> \n",
       "</tr>\n",
       "<tr>\n",
       "  <th>Model:</th>                  <td>GLM</td>       <th>  Df Residuals:      </th>  <td>   746</td> \n",
       "</tr>\n",
       "<tr>\n",
       "  <th>Model Family:</th>        <td>Binomial</td>     <th>  Df Model:          </th>  <td>     3</td> \n",
       "</tr>\n",
       "<tr>\n",
       "  <th>Link Function:</th>         <td>logit</td>      <th>  Scale:             </th> <td>  1.0000</td>\n",
       "</tr>\n",
       "<tr>\n",
       "  <th>Method:</th>                <td>IRLS</td>       <th>  Log-Likelihood:    </th> <td> -213.89</td>\n",
       "</tr>\n",
       "<tr>\n",
       "  <th>Date:</th>            <td>Sun, 22 Jan 2023</td> <th>  Deviance:          </th> <td>  427.79</td>\n",
       "</tr>\n",
       "<tr>\n",
       "  <th>Time:</th>                <td>22:55:23</td>     <th>  Pearson chi2:      </th>  <td>  743.</td> \n",
       "</tr>\n",
       "<tr>\n",
       "  <th>No. Iterations:</th>          <td>6</td>        <th>                     </th>     <td> </td>   \n",
       "</tr>\n",
       "<tr>\n",
       "  <th>Covariance Type:</th>     <td>nonrobust</td>    <th>                     </th>     <td> </td>   \n",
       "</tr>\n",
       "</table>\n",
       "<table class=\"simpletable\">\n",
       "<tr>\n",
       "       <td></td>         <th>coef</th>     <th>std err</th>      <th>z</th>      <th>P>|z|</th>  <th>[0.025</th>    <th>0.975]</th>  \n",
       "</tr>\n",
       "<tr>\n",
       "  <th>Intercept</th>  <td>  -22.0703</td> <td>    2.211</td> <td>   -9.984</td> <td> 0.000</td> <td>  -26.403</td> <td>  -17.738</td>\n",
       "</tr>\n",
       "<tr>\n",
       "  <th>marker</th>     <td>    0.9783</td> <td>    0.118</td> <td>    8.276</td> <td> 0.000</td> <td>    0.747</td> <td>    1.210</td>\n",
       "</tr>\n",
       "<tr>\n",
       "  <th>age</th>        <td>    0.2820</td> <td>    0.031</td> <td>    9.040</td> <td> 0.000</td> <td>    0.221</td> <td>    0.343</td>\n",
       "</tr>\n",
       "<tr>\n",
       "  <th>famhistory</th> <td>    0.8652</td> <td>    0.308</td> <td>    2.807</td> <td> 0.005</td> <td>    0.261</td> <td>    1.469</td>\n",
       "</tr>\n",
       "</table>"
      ],
      "text/plain": [
       "<class 'statsmodels.iolib.summary.Summary'>\n",
       "\"\"\"\n",
       "                 Generalized Linear Model Regression Results                  \n",
       "==============================================================================\n",
       "Dep. Variable:                 cancer   No. Observations:                  750\n",
       "Model:                            GLM   Df Residuals:                      746\n",
       "Model Family:                Binomial   Df Model:                            3\n",
       "Link Function:                  logit   Scale:                          1.0000\n",
       "Method:                          IRLS   Log-Likelihood:                -213.89\n",
       "Date:                Sun, 22 Jan 2023   Deviance:                       427.79\n",
       "Time:                        22:55:23   Pearson chi2:                     743.\n",
       "No. Iterations:                     6                                         \n",
       "Covariance Type:            nonrobust                                         \n",
       "==============================================================================\n",
       "                 coef    std err          z      P>|z|      [0.025      0.975]\n",
       "------------------------------------------------------------------------------\n",
       "Intercept    -22.0703      2.211     -9.984      0.000     -26.403     -17.738\n",
       "marker         0.9783      0.118      8.276      0.000       0.747       1.210\n",
       "age            0.2820      0.031      9.040      0.000       0.221       0.343\n",
       "famhistory     0.8652      0.308      2.807      0.005       0.261       1.469\n",
       "==============================================================================\n",
       "\"\"\""
      ]
     },
     "execution_count": 46,
     "metadata": {},
     "output_type": "execute_result"
    }
   ],
   "source": [
    "mod2 = sm.GLM.from_formula('cancer ~ marker + age + famhistory', data=df_cancer_dx, family=sm.families.Binomial())\n",
    "mod2_results = mod2.fit()\n",
    "\n",
    "mod2_results.summary()"
   ]
  },
  {
   "cell_type": "markdown",
   "metadata": {},
   "source": [
    "Following 3 Steps Coming Soon! \n",
    "- build multivariable logistic regression model\n",
    "- summarize model\n",
    "- add predicted values from model to data set"
   ]
  },
  {
   "cell_type": "markdown",
   "metadata": {},
   "source": [
    "Run DCA on Multivariable Model"
   ]
  },
  {
   "cell_type": "code",
   "execution_count": 47,
   "metadata": {},
   "outputs": [
    {
     "data": {
      "image/png": "[encoded data removed]",
      "text/plain": [
       "<Figure size 432x288 with 1 Axes>"
      ]
     },
     "metadata": {
      "needs_background": "light"
     },
     "output_type": "display_data"
    }
   ],
   "source": [
    "dca_multi_df = \\\n",
    "    dca(\n",
    "        data=df_cancer_dx,\n",
    "        outcome='cancer',\n",
    "        modelnames=['famhistory', 'cancerpredmarker'],\n",
    "        thresholds=np.arange(0,0.36,0.01)\n",
    "    )\n",
    "\n",
    "plot_graphs(\n",
    "    plot_df=dca_multi_df,\n",
    "    y_limits=[-0.05, 0.2],\n",
    "    graph_type='net_benefit',\n",
    "    color_names=['red', 'blue', 'green', 'orange']\n",
    ")"
   ]
  },
  {
   "cell_type": "markdown",
   "metadata": {},
   "source": [
    "Smooth #1"
   ]
  },
  {
   "cell_type": "code",
   "execution_count": 48,
   "metadata": {},
   "outputs": [],
   "source": [
    "# Coming Soon"
   ]
  },
  {
   "cell_type": "markdown",
   "metadata": {},
   "source": [
    "Smooth #2"
   ]
  },
  {
   "cell_type": "code",
   "execution_count": 49,
   "metadata": {},
   "outputs": [],
   "source": [
    "# Coming Soon"
   ]
  },
  {
   "cell_type": "markdown",
   "metadata": {},
   "source": [
    "Pub Model"
   ]
  },
  {
   "cell_type": "code",
   "execution_count": 50,
   "metadata": {},
   "outputs": [
    {
     "data": {
      "image/png": "[encoded data removed]",
      "text/plain": [
       "<Figure size 432x288 with 1 Axes>"
      ]
     },
     "metadata": {
      "needs_background": "light"
     },
     "output_type": "display_data"
    }
   ],
   "source": [
    "df_cancer_dx['logodds_brown'] = 0.75 * df_cancer_dx['famhistory'] + 0.26*df_cancer_dx['age'] - 17.5\n",
    "df_cancer_dx['phat_brown'] = np.exp(df_cancer_dx['logodds_brown']) / (1 + np.exp(df_cancer_dx['logodds_brown']))\n",
    "\n",
    "dca_pub_model_df = \\\n",
    "  dca(\n",
    "      data=df_cancer_dx,\n",
    "      outcome='cancer',\n",
    "      modelnames=['phat_brown'],\n",
    "      thresholds=np.arange(0,0.36,0.01),\n",
    "  )\n",
    "\n",
    "plot_graphs(\n",
    "    plot_df=dca_pub_model_df,\n",
    "    y_limits=[-0.05, 0.2],\n",
    "    graph_type='net_benefit',\n",
    "    color_names=['red', 'blue', 'green']\n",
    ")"
   ]
  },
  {
   "cell_type": "markdown",
   "metadata": {},
   "source": [
    "Joint Calculations"
   ]
  },
  {
   "cell_type": "code",
   "execution_count": 72,
   "metadata": {},
   "outputs": [
    {
     "name": "stderr",
     "output_type": "stream",
     "text": [
      "/opt/anaconda3/lib/python3.7/site-packages/pandas/core/ops/array_ops.py:253: FutureWarning: elementwise comparison failed; returning scalar instead, but in the future will perform elementwise comparison\n",
      "  res_values = method(rvalues)\n"
     ]
    }
   ],
   "source": [
    "df_cancer_dx['high_risk'] = np.where(df_cancer_dx['risk_group'] == \"high\", 1, 0)\n",
    "\n",
    "df_cancer_dx['joint'] = np.where((df_cancer_dx['risk_group'] == 'high') |\n",
    "                                 (df_cancer_dx['cancerpredmarker'] > 0.15), 1, 0)\n",
    "\n",
    "df_cancer_dx['conditional'] = np.where((df_cancer_dx['risk_group'] == \"high\") |\n",
    "                                       ((df_cancer_dx['risk_group'] == \"intermediate\") &\n",
    "                                        (df_cancer_dx['cancerpredmarker'] > 0.15)), 1, 0)\n"
   ]
  },
  {
   "cell_type": "code",
   "execution_count": 74,
   "metadata": {},
   "outputs": [
    {
     "name": "stderr",
     "output_type": "stream",
     "text": [
      "/opt/anaconda3/lib/python3.7/site-packages/pandas/core/ops/array_ops.py:253: FutureWarning: elementwise comparison failed; returning scalar instead, but in the future will perform elementwise comparison\n",
      "  res_values = method(rvalues)\n"
     ]
    },
    {
     "data": {
      "text/plain": [
       "array([0, 0, 0, 0, 0, 0, 0, 0, 0, 0, 0, 0, 0, 0, 0, 0, 0, 0, 0, 0, 0, 0,\n",
       "       0, 0, 0, 0, 0, 0, 0, 0, 0, 0, 0, 0, 0, 0, 0, 0, 0, 0, 0, 0, 0, 0,\n",
       "       0, 0, 0, 0, 0, 0, 0, 0, 0, 0, 0, 0, 0, 0, 0, 0, 0, 0, 0, 0, 0, 0,\n",
       "       0, 0, 0, 0, 0, 0, 0, 0, 0, 0, 0, 0, 0, 0, 0, 0, 0, 0, 0, 0, 0, 0,\n",
       "       0, 0, 0, 0, 0, 0, 0, 0, 0, 0, 0, 0, 0, 0, 0, 0, 0, 0, 0, 0, 0, 0,\n",
       "       0, 0, 0, 0, 0, 0, 0, 0, 0, 0, 0, 0, 0, 0, 0, 0, 0, 0, 0, 0, 0, 0,\n",
       "       0, 0, 0, 0, 0, 0, 0, 0, 0, 0, 0, 0, 0, 0, 0, 0, 0, 0, 0, 0, 0, 0,\n",
       "       0, 0, 0, 0, 0, 0, 0, 0, 0, 0, 0, 0, 0, 0, 0, 0, 0, 0, 0, 0, 0, 0,\n",
       "       0, 0, 0, 0, 0, 0, 0, 0, 0, 0, 0, 0, 0, 0, 0, 0, 0, 0, 0, 0, 0, 0,\n",
       "       0, 0, 0, 0, 0, 0, 0, 0, 0, 0, 0, 0, 0, 0, 0, 0, 0, 0, 0, 0, 0, 0,\n",
       "       0, 0, 0, 0, 0, 0, 0, 0, 0, 0, 0, 0, 0, 0, 0, 0, 0, 0, 0, 0, 0, 0,\n",
       "       0, 0, 0, 0, 0, 0, 0, 0, 0, 0, 0, 0, 0, 0, 0, 0, 0, 0, 0, 0, 0, 0,\n",
       "       0, 0, 0, 0, 0, 0, 0, 0, 0, 0, 0, 0, 0, 0, 0, 0, 0, 0, 0, 0, 0, 0,\n",
       "       0, 0, 0, 0, 0, 0, 0, 0, 0, 0, 0, 0, 0, 0, 0, 0, 0, 0, 0, 0, 0, 0,\n",
       "       0, 0, 0, 0, 0, 0, 0, 0, 0, 0, 0, 0, 0, 0, 0, 0, 0, 0, 0, 0, 0, 0,\n",
       "       0, 0, 0, 0, 0, 0, 0, 0, 0, 0, 0, 0, 0, 0, 0, 0, 0, 0, 0, 0, 0, 0,\n",
       "       0, 0, 0, 0, 0, 0, 0, 0, 0, 0, 0, 0, 0, 0, 0, 0, 0, 0, 0, 0, 0, 0,\n",
       "       0, 0, 0, 0, 0, 0, 0, 0, 0, 0, 0, 0, 0, 0, 0, 0, 0, 0, 0, 0, 0, 0,\n",
       "       0, 0, 0, 0, 0, 0, 0, 0, 0, 0, 0, 0, 0, 0, 0, 0, 0, 0, 0, 0, 0, 0,\n",
       "       0, 0, 0, 0, 0, 0, 0, 0, 0, 0, 0, 0, 0, 0, 0, 0, 0, 0, 0, 0, 0, 0,\n",
       "       0, 0, 0, 0, 0, 0, 0, 0, 0, 0, 0, 0, 0, 0, 0, 0, 0, 0, 0, 0, 0, 0,\n",
       "       0, 0, 0, 0, 0, 0, 0, 0, 0, 0, 0, 0, 0, 0, 0, 0, 0, 0, 0, 0, 0, 0,\n",
       "       0, 0, 0, 0, 0, 0, 0, 0, 0, 0, 0, 0, 0, 0, 0, 0, 0, 0, 0, 0, 0, 0,\n",
       "       0, 0, 0, 0, 0, 0, 0, 0, 0, 0, 0, 0, 0, 0, 0, 0, 0, 0, 0, 0, 0, 0,\n",
       "       0, 0, 0, 0, 0, 0, 0, 0, 0, 0, 0, 0, 0, 0, 0, 0, 0, 0, 0, 0, 0, 0,\n",
       "       0, 0, 0, 0, 0, 0, 0, 0, 0, 0, 0, 0, 0, 0, 0, 0, 0, 0, 0, 0, 0, 0,\n",
       "       0, 0, 0, 0, 0, 0, 0, 0, 0, 0, 0, 0, 0, 0, 0, 0, 0, 0, 0, 0, 0, 0,\n",
       "       0, 0, 0, 0, 0, 0, 0, 0, 0, 0, 0, 0, 0, 0, 0, 0, 0, 0, 0, 0, 0, 0,\n",
       "       0, 0, 0, 0, 0, 0, 0, 0, 0, 0, 0, 0, 0, 0, 0, 0, 0, 0, 0, 0, 0, 0,\n",
       "       0, 0, 0, 0, 0, 0, 0, 0, 0, 0, 0, 0, 0, 0, 0, 0, 0, 0, 0, 0, 0, 0,\n",
       "       0, 0, 0, 0, 0, 0, 0, 0, 0, 0, 0, 0, 0, 0, 0, 0, 0, 0, 0, 0, 0, 0,\n",
       "       0, 0, 0, 0, 0, 0, 0, 0, 0, 0, 0, 0, 0, 0, 0, 0, 0, 0, 0, 0, 0, 0,\n",
       "       0, 0, 0, 0, 0, 0, 0, 0, 0, 0, 0, 0, 0, 0, 0, 0, 0, 0, 0, 0, 0, 0,\n",
       "       0, 0, 0, 0, 0, 0, 0, 0, 0, 0, 0, 0, 0, 0, 0, 0, 0, 0, 0, 0, 0, 0,\n",
       "       0, 0])"
      ]
     },
     "execution_count": 74,
     "metadata": {},
     "output_type": "execute_result"
    }
   ],
   "source": [
    "np.where(df_cancer_dx['risk_group'] == \"high\", 1, 0)"
   ]
  },
  {
   "cell_type": "code",
   "execution_count": null,
   "metadata": {},
   "outputs": [],
   "source": []
  },
  {
   "cell_type": "code",
   "execution_count": 73,
   "metadata": {},
   "outputs": [
    {
     "data": {
      "text/html": [
       "<div>\n",
       "<style scoped>\n",
       "    .dataframe tbody tr th:only-of-type {\n",
       "        vertical-align: middle;\n",
       "    }\n",
       "\n",
       "    .dataframe tbody tr th {\n",
       "        vertical-align: top;\n",
       "    }\n",
       "\n",
       "    .dataframe thead th {\n",
       "        text-align: right;\n",
       "    }\n",
       "</style>\n",
       "<table border=\"1\" class=\"dataframe\">\n",
       "  <thead>\n",
       "    <tr style=\"text-align: right;\">\n",
       "      <th></th>\n",
       "      <th>patientid</th>\n",
       "      <th>cancer</th>\n",
       "      <th>risk_group</th>\n",
       "      <th>age</th>\n",
       "      <th>famhistory</th>\n",
       "      <th>marker</th>\n",
       "      <th>cancerpredmarker</th>\n",
       "      <th>all</th>\n",
       "      <th>none</th>\n",
       "      <th>logodds_brown</th>\n",
       "      <th>phat_brown</th>\n",
       "      <th>high_risk</th>\n",
       "      <th>joint</th>\n",
       "      <th>conditional</th>\n",
       "    </tr>\n",
       "  </thead>\n",
       "  <tbody>\n",
       "    <tr>\n",
       "      <th>0</th>\n",
       "      <td>1</td>\n",
       "      <td>0</td>\n",
       "      <td>0.098314</td>\n",
       "      <td>64.03445</td>\n",
       "      <td>-2.220446e-16</td>\n",
       "      <td>0.106329</td>\n",
       "      <td>0.037201</td>\n",
       "      <td>1.0</td>\n",
       "      <td>-2.220446e-16</td>\n",
       "      <td>-0.851043</td>\n",
       "      <td>0.299214</td>\n",
       "      <td>0</td>\n",
       "      <td>0</td>\n",
       "      <td>0</td>\n",
       "    </tr>\n",
       "    <tr>\n",
       "      <th>1</th>\n",
       "      <td>2</td>\n",
       "      <td>0</td>\n",
       "      <td>0.748789</td>\n",
       "      <td>78.46741</td>\n",
       "      <td>-2.220446e-16</td>\n",
       "      <td>0.077157</td>\n",
       "      <td>0.578907</td>\n",
       "      <td>1.0</td>\n",
       "      <td>-2.220446e-16</td>\n",
       "      <td>2.901527</td>\n",
       "      <td>0.947922</td>\n",
       "      <td>0</td>\n",
       "      <td>1</td>\n",
       "      <td>0</td>\n",
       "    </tr>\n",
       "    <tr>\n",
       "      <th>2</th>\n",
       "      <td>3</td>\n",
       "      <td>0</td>\n",
       "      <td>0.098314</td>\n",
       "      <td>64.14617</td>\n",
       "      <td>-2.220446e-16</td>\n",
       "      <td>0.072484</td>\n",
       "      <td>0.021551</td>\n",
       "      <td>1.0</td>\n",
       "      <td>-2.220446e-16</td>\n",
       "      <td>-0.821996</td>\n",
       "      <td>0.305340</td>\n",
       "      <td>0</td>\n",
       "      <td>0</td>\n",
       "      <td>0</td>\n",
       "    </tr>\n",
       "    <tr>\n",
       "      <th>3</th>\n",
       "      <td>4</td>\n",
       "      <td>0</td>\n",
       "      <td>0.098314</td>\n",
       "      <td>58.53482</td>\n",
       "      <td>-2.220446e-16</td>\n",
       "      <td>0.065986</td>\n",
       "      <td>0.003910</td>\n",
       "      <td>1.0</td>\n",
       "      <td>-2.220446e-16</td>\n",
       "      <td>-2.280947</td>\n",
       "      <td>0.092713</td>\n",
       "      <td>0</td>\n",
       "      <td>0</td>\n",
       "      <td>0</td>\n",
       "    </tr>\n",
       "    <tr>\n",
       "      <th>4</th>\n",
       "      <td>5</td>\n",
       "      <td>0</td>\n",
       "      <td>0.098314</td>\n",
       "      <td>63.99250</td>\n",
       "      <td>-2.220446e-16</td>\n",
       "      <td>0.068018</td>\n",
       "      <td>0.018790</td>\n",
       "      <td>1.0</td>\n",
       "      <td>-2.220446e-16</td>\n",
       "      <td>-0.861950</td>\n",
       "      <td>0.296932</td>\n",
       "      <td>0</td>\n",
       "      <td>0</td>\n",
       "      <td>0</td>\n",
       "    </tr>\n",
       "    <tr>\n",
       "      <th>...</th>\n",
       "      <td>...</td>\n",
       "      <td>...</td>\n",
       "      <td>...</td>\n",
       "      <td>...</td>\n",
       "      <td>...</td>\n",
       "      <td>...</td>\n",
       "      <td>...</td>\n",
       "      <td>...</td>\n",
       "      <td>...</td>\n",
       "      <td>...</td>\n",
       "      <td>...</td>\n",
       "      <td>...</td>\n",
       "      <td>...</td>\n",
       "      <td>...</td>\n",
       "    </tr>\n",
       "    <tr>\n",
       "      <th>745</th>\n",
       "      <td>746</td>\n",
       "      <td>0</td>\n",
       "      <td>0.150865</td>\n",
       "      <td>66.09628</td>\n",
       "      <td>-2.220446e-16</td>\n",
       "      <td>0.098589</td>\n",
       "      <td>0.057813</td>\n",
       "      <td>1.0</td>\n",
       "      <td>-2.220446e-16</td>\n",
       "      <td>-0.314967</td>\n",
       "      <td>0.421903</td>\n",
       "      <td>0</td>\n",
       "      <td>0</td>\n",
       "      <td>0</td>\n",
       "    </tr>\n",
       "    <tr>\n",
       "      <th>746</th>\n",
       "      <td>747</td>\n",
       "      <td>1</td>\n",
       "      <td>0.150865</td>\n",
       "      <td>65.75370</td>\n",
       "      <td>1.000000e+00</td>\n",
       "      <td>0.124243</td>\n",
       "      <td>0.160424</td>\n",
       "      <td>1.0</td>\n",
       "      <td>-2.220446e-16</td>\n",
       "      <td>0.345962</td>\n",
       "      <td>0.585638</td>\n",
       "      <td>0</td>\n",
       "      <td>1</td>\n",
       "      <td>0</td>\n",
       "    </tr>\n",
       "    <tr>\n",
       "      <th>747</th>\n",
       "      <td>748</td>\n",
       "      <td>0</td>\n",
       "      <td>0.150865</td>\n",
       "      <td>70.28287</td>\n",
       "      <td>-2.220446e-16</td>\n",
       "      <td>0.071650</td>\n",
       "      <td>0.108838</td>\n",
       "      <td>1.0</td>\n",
       "      <td>-2.220446e-16</td>\n",
       "      <td>0.773546</td>\n",
       "      <td>0.684288</td>\n",
       "      <td>0</td>\n",
       "      <td>0</td>\n",
       "      <td>0</td>\n",
       "    </tr>\n",
       "    <tr>\n",
       "      <th>748</th>\n",
       "      <td>749</td>\n",
       "      <td>0</td>\n",
       "      <td>0.098314</td>\n",
       "      <td>61.32673</td>\n",
       "      <td>-2.220446e-16</td>\n",
       "      <td>0.096746</td>\n",
       "      <td>0.015285</td>\n",
       "      <td>1.0</td>\n",
       "      <td>-2.220446e-16</td>\n",
       "      <td>-1.555050</td>\n",
       "      <td>0.174358</td>\n",
       "      <td>0</td>\n",
       "      <td>0</td>\n",
       "      <td>0</td>\n",
       "    </tr>\n",
       "    <tr>\n",
       "      <th>749</th>\n",
       "      <td>750</td>\n",
       "      <td>0</td>\n",
       "      <td>0.098314</td>\n",
       "      <td>61.66628</td>\n",
       "      <td>-2.220446e-16</td>\n",
       "      <td>0.077334</td>\n",
       "      <td>0.011938</td>\n",
       "      <td>1.0</td>\n",
       "      <td>-2.220446e-16</td>\n",
       "      <td>-1.466767</td>\n",
       "      <td>0.187434</td>\n",
       "      <td>0</td>\n",
       "      <td>0</td>\n",
       "      <td>0</td>\n",
       "    </tr>\n",
       "  </tbody>\n",
       "</table>\n",
       "<p>750 rows × 14 columns</p>\n",
       "</div>"
      ],
      "text/plain": [
       "     patientid  cancer  risk_group       age    famhistory    marker  \\\n",
       "0            1       0    0.098314  64.03445 -2.220446e-16  0.106329   \n",
       "1            2       0    0.748789  78.46741 -2.220446e-16  0.077157   \n",
       "2            3       0    0.098314  64.14617 -2.220446e-16  0.072484   \n",
       "3            4       0    0.098314  58.53482 -2.220446e-16  0.065986   \n",
       "4            5       0    0.098314  63.99250 -2.220446e-16  0.068018   \n",
       "..         ...     ...         ...       ...           ...       ...   \n",
       "745        746       0    0.150865  66.09628 -2.220446e-16  0.098589   \n",
       "746        747       1    0.150865  65.75370  1.000000e+00  0.124243   \n",
       "747        748       0    0.150865  70.28287 -2.220446e-16  0.071650   \n",
       "748        749       0    0.098314  61.32673 -2.220446e-16  0.096746   \n",
       "749        750       0    0.098314  61.66628 -2.220446e-16  0.077334   \n",
       "\n",
       "     cancerpredmarker  all          none  logodds_brown  phat_brown  \\\n",
       "0            0.037201  1.0 -2.220446e-16      -0.851043    0.299214   \n",
       "1            0.578907  1.0 -2.220446e-16       2.901527    0.947922   \n",
       "2            0.021551  1.0 -2.220446e-16      -0.821996    0.305340   \n",
       "3            0.003910  1.0 -2.220446e-16      -2.280947    0.092713   \n",
       "4            0.018790  1.0 -2.220446e-16      -0.861950    0.296932   \n",
       "..                ...  ...           ...            ...         ...   \n",
       "745          0.057813  1.0 -2.220446e-16      -0.314967    0.421903   \n",
       "746          0.160424  1.0 -2.220446e-16       0.345962    0.585638   \n",
       "747          0.108838  1.0 -2.220446e-16       0.773546    0.684288   \n",
       "748          0.015285  1.0 -2.220446e-16      -1.555050    0.174358   \n",
       "749          0.011938  1.0 -2.220446e-16      -1.466767    0.187434   \n",
       "\n",
       "     high_risk  joint  conditional  \n",
       "0            0      0            0  \n",
       "1            0      1            0  \n",
       "2            0      0            0  \n",
       "3            0      0            0  \n",
       "4            0      0            0  \n",
       "..         ...    ...          ...  \n",
       "745          0      0            0  \n",
       "746          0      1            0  \n",
       "747          0      0            0  \n",
       "748          0      0            0  \n",
       "749          0      0            0  \n",
       "\n",
       "[750 rows x 14 columns]"
      ]
     },
     "execution_count": 73,
     "metadata": {},
     "output_type": "execute_result"
    }
   ],
   "source": [
    "df_cancer_dx"
   ]
  },
  {
   "cell_type": "markdown",
   "metadata": {},
   "source": [
    "Perform DCA On Joint Data"
   ]
  },
  {
   "cell_type": "code",
   "execution_count": 52,
   "metadata": {},
   "outputs": [
    {
     "data": {
      "image/png": "[encoded data removed]",
      "text/plain": [
       "<Figure size 432x288 with 1 Axes>"
      ]
     },
     "metadata": {
      "needs_background": "light"
     },
     "output_type": "display_data"
    }
   ],
   "source": [
    "  dca_joint_df = \\\n",
    "      dca(\n",
    "          data=df_cancer_dx,\n",
    "          outcome='cancer',\n",
    "          modelnames=['high_risk', 'joint', 'conditional'],\n",
    "          thresholds=np.arange(0, 0.5, 0.01)\n",
    "      )\n",
    "  \n",
    "  plot_graphs(\n",
    "      plot_df=dca_joint_df,\n",
    "      graph_type='net_benefit',\n",
    "      y_limits=[-0.05, 0.2],\n",
    "      color_names=['red', 'blue', 'green', 'orange', 'brown']\n",
    "  )"
   ]
  },
  {
   "cell_type": "markdown",
   "metadata": {},
   "source": [
    "Run DCA On a Simple Harms Per Model Case"
   ]
  },
  {
   "cell_type": "code",
   "execution_count": 53,
   "metadata": {},
   "outputs": [
    {
     "data": {
      "image/png": "[encoded data removed]",
      "text/plain": [
       "<Figure size 432x288 with 1 Axes>"
      ]
     },
     "metadata": {
      "needs_background": "light"
     },
     "output_type": "display_data"
    }
   ],
   "source": [
    "dca_harm_simple_df = \\\n",
    "  dca(\n",
    "      data=df_cancer_dx,\n",
    "      outcome='cancer',\n",
    "      modelnames=['marker'],\n",
    "      thresholds=np.arange(0, 0.36, 0.01),\n",
    "      harm={'marker': 0.0333},\n",
    "      models_to_prob=['marker']\n",
    "  )\n",
    "\n",
    "plot_graphs(\n",
    "    plot_df=dca_harm_simple_df,\n",
    "    graph_type='net_benefit',\n",
    "    color_names=['red', 'blue', 'green'],\n",
    "    y_limits=[-0.05, 0.15]\n",
    ")"
   ]
  },
  {
   "cell_type": "markdown",
   "metadata": {},
   "source": [
    "Run DCA On a Harms Per Model Case"
   ]
  },
  {
   "cell_type": "code",
   "execution_count": 71,
   "metadata": {},
   "outputs": [
    {
     "data": {
      "text/html": [
       "<div>\n",
       "<style scoped>\n",
       "    .dataframe tbody tr th:only-of-type {\n",
       "        vertical-align: middle;\n",
       "    }\n",
       "\n",
       "    .dataframe tbody tr th {\n",
       "        vertical-align: top;\n",
       "    }\n",
       "\n",
       "    .dataframe thead th {\n",
       "        text-align: right;\n",
       "    }\n",
       "</style>\n",
       "<table border=\"1\" class=\"dataframe\">\n",
       "  <thead>\n",
       "    <tr style=\"text-align: right;\">\n",
       "      <th></th>\n",
       "      <th>patientid</th>\n",
       "      <th>cancer</th>\n",
       "      <th>risk_group</th>\n",
       "      <th>age</th>\n",
       "      <th>famhistory</th>\n",
       "      <th>marker</th>\n",
       "      <th>cancerpredmarker</th>\n",
       "      <th>all</th>\n",
       "      <th>none</th>\n",
       "      <th>logodds_brown</th>\n",
       "      <th>phat_brown</th>\n",
       "      <th>high_risk</th>\n",
       "      <th>joint</th>\n",
       "      <th>conditional</th>\n",
       "    </tr>\n",
       "  </thead>\n",
       "  <tbody>\n",
       "    <tr>\n",
       "      <th>0</th>\n",
       "      <td>1</td>\n",
       "      <td>0</td>\n",
       "      <td>0.098314</td>\n",
       "      <td>64.03445</td>\n",
       "      <td>-2.220446e-16</td>\n",
       "      <td>0.106329</td>\n",
       "      <td>0.037201</td>\n",
       "      <td>1.0</td>\n",
       "      <td>-2.220446e-16</td>\n",
       "      <td>-0.851043</td>\n",
       "      <td>0.299214</td>\n",
       "      <td>-2.220446e-16</td>\n",
       "      <td>-2.220446e-16</td>\n",
       "      <td>-2.220446e-16</td>\n",
       "    </tr>\n",
       "    <tr>\n",
       "      <th>1</th>\n",
       "      <td>2</td>\n",
       "      <td>0</td>\n",
       "      <td>0.748789</td>\n",
       "      <td>78.46741</td>\n",
       "      <td>-2.220446e-16</td>\n",
       "      <td>0.077157</td>\n",
       "      <td>0.578907</td>\n",
       "      <td>1.0</td>\n",
       "      <td>-2.220446e-16</td>\n",
       "      <td>2.901527</td>\n",
       "      <td>0.947922</td>\n",
       "      <td>1.000000e+00</td>\n",
       "      <td>1.000000e+00</td>\n",
       "      <td>1.000000e+00</td>\n",
       "    </tr>\n",
       "    <tr>\n",
       "      <th>2</th>\n",
       "      <td>3</td>\n",
       "      <td>0</td>\n",
       "      <td>0.098314</td>\n",
       "      <td>64.14617</td>\n",
       "      <td>-2.220446e-16</td>\n",
       "      <td>0.072484</td>\n",
       "      <td>0.021551</td>\n",
       "      <td>1.0</td>\n",
       "      <td>-2.220446e-16</td>\n",
       "      <td>-0.821996</td>\n",
       "      <td>0.305340</td>\n",
       "      <td>-2.220446e-16</td>\n",
       "      <td>-2.220446e-16</td>\n",
       "      <td>-2.220446e-16</td>\n",
       "    </tr>\n",
       "    <tr>\n",
       "      <th>3</th>\n",
       "      <td>4</td>\n",
       "      <td>0</td>\n",
       "      <td>0.098314</td>\n",
       "      <td>58.53482</td>\n",
       "      <td>-2.220446e-16</td>\n",
       "      <td>0.065986</td>\n",
       "      <td>0.003910</td>\n",
       "      <td>1.0</td>\n",
       "      <td>-2.220446e-16</td>\n",
       "      <td>-2.280947</td>\n",
       "      <td>0.092713</td>\n",
       "      <td>-2.220446e-16</td>\n",
       "      <td>-2.220446e-16</td>\n",
       "      <td>-2.220446e-16</td>\n",
       "    </tr>\n",
       "    <tr>\n",
       "      <th>4</th>\n",
       "      <td>5</td>\n",
       "      <td>0</td>\n",
       "      <td>0.098314</td>\n",
       "      <td>63.99250</td>\n",
       "      <td>-2.220446e-16</td>\n",
       "      <td>0.068018</td>\n",
       "      <td>0.018790</td>\n",
       "      <td>1.0</td>\n",
       "      <td>-2.220446e-16</td>\n",
       "      <td>-0.861950</td>\n",
       "      <td>0.296932</td>\n",
       "      <td>-2.220446e-16</td>\n",
       "      <td>-2.220446e-16</td>\n",
       "      <td>-2.220446e-16</td>\n",
       "    </tr>\n",
       "    <tr>\n",
       "      <th>...</th>\n",
       "      <td>...</td>\n",
       "      <td>...</td>\n",
       "      <td>...</td>\n",
       "      <td>...</td>\n",
       "      <td>...</td>\n",
       "      <td>...</td>\n",
       "      <td>...</td>\n",
       "      <td>...</td>\n",
       "      <td>...</td>\n",
       "      <td>...</td>\n",
       "      <td>...</td>\n",
       "      <td>...</td>\n",
       "      <td>...</td>\n",
       "      <td>...</td>\n",
       "    </tr>\n",
       "    <tr>\n",
       "      <th>745</th>\n",
       "      <td>746</td>\n",
       "      <td>0</td>\n",
       "      <td>0.150865</td>\n",
       "      <td>66.09628</td>\n",
       "      <td>-2.220446e-16</td>\n",
       "      <td>0.098589</td>\n",
       "      <td>0.057813</td>\n",
       "      <td>1.0</td>\n",
       "      <td>-2.220446e-16</td>\n",
       "      <td>-0.314967</td>\n",
       "      <td>0.421903</td>\n",
       "      <td>-2.220446e-16</td>\n",
       "      <td>-2.220446e-16</td>\n",
       "      <td>-2.220446e-16</td>\n",
       "    </tr>\n",
       "    <tr>\n",
       "      <th>746</th>\n",
       "      <td>747</td>\n",
       "      <td>1</td>\n",
       "      <td>0.150865</td>\n",
       "      <td>65.75370</td>\n",
       "      <td>1.000000e+00</td>\n",
       "      <td>0.124243</td>\n",
       "      <td>0.160424</td>\n",
       "      <td>1.0</td>\n",
       "      <td>-2.220446e-16</td>\n",
       "      <td>0.345962</td>\n",
       "      <td>0.585638</td>\n",
       "      <td>-2.220446e-16</td>\n",
       "      <td>1.000000e+00</td>\n",
       "      <td>1.000000e+00</td>\n",
       "    </tr>\n",
       "    <tr>\n",
       "      <th>747</th>\n",
       "      <td>748</td>\n",
       "      <td>0</td>\n",
       "      <td>0.150865</td>\n",
       "      <td>70.28287</td>\n",
       "      <td>-2.220446e-16</td>\n",
       "      <td>0.071650</td>\n",
       "      <td>0.108838</td>\n",
       "      <td>1.0</td>\n",
       "      <td>-2.220446e-16</td>\n",
       "      <td>0.773546</td>\n",
       "      <td>0.684288</td>\n",
       "      <td>-2.220446e-16</td>\n",
       "      <td>-2.220446e-16</td>\n",
       "      <td>-2.220446e-16</td>\n",
       "    </tr>\n",
       "    <tr>\n",
       "      <th>748</th>\n",
       "      <td>749</td>\n",
       "      <td>0</td>\n",
       "      <td>0.098314</td>\n",
       "      <td>61.32673</td>\n",
       "      <td>-2.220446e-16</td>\n",
       "      <td>0.096746</td>\n",
       "      <td>0.015285</td>\n",
       "      <td>1.0</td>\n",
       "      <td>-2.220446e-16</td>\n",
       "      <td>-1.555050</td>\n",
       "      <td>0.174358</td>\n",
       "      <td>-2.220446e-16</td>\n",
       "      <td>-2.220446e-16</td>\n",
       "      <td>-2.220446e-16</td>\n",
       "    </tr>\n",
       "    <tr>\n",
       "      <th>749</th>\n",
       "      <td>750</td>\n",
       "      <td>0</td>\n",
       "      <td>0.098314</td>\n",
       "      <td>61.66628</td>\n",
       "      <td>-2.220446e-16</td>\n",
       "      <td>0.077334</td>\n",
       "      <td>0.011938</td>\n",
       "      <td>1.0</td>\n",
       "      <td>-2.220446e-16</td>\n",
       "      <td>-1.466767</td>\n",
       "      <td>0.187434</td>\n",
       "      <td>-2.220446e-16</td>\n",
       "      <td>-2.220446e-16</td>\n",
       "      <td>-2.220446e-16</td>\n",
       "    </tr>\n",
       "  </tbody>\n",
       "</table>\n",
       "<p>750 rows × 14 columns</p>\n",
       "</div>"
      ],
      "text/plain": [
       "     patientid  cancer  risk_group       age    famhistory    marker  \\\n",
       "0            1       0    0.098314  64.03445 -2.220446e-16  0.106329   \n",
       "1            2       0    0.748789  78.46741 -2.220446e-16  0.077157   \n",
       "2            3       0    0.098314  64.14617 -2.220446e-16  0.072484   \n",
       "3            4       0    0.098314  58.53482 -2.220446e-16  0.065986   \n",
       "4            5       0    0.098314  63.99250 -2.220446e-16  0.068018   \n",
       "..         ...     ...         ...       ...           ...       ...   \n",
       "745        746       0    0.150865  66.09628 -2.220446e-16  0.098589   \n",
       "746        747       1    0.150865  65.75370  1.000000e+00  0.124243   \n",
       "747        748       0    0.150865  70.28287 -2.220446e-16  0.071650   \n",
       "748        749       0    0.098314  61.32673 -2.220446e-16  0.096746   \n",
       "749        750       0    0.098314  61.66628 -2.220446e-16  0.077334   \n",
       "\n",
       "     cancerpredmarker  all          none  logodds_brown  phat_brown  \\\n",
       "0            0.037201  1.0 -2.220446e-16      -0.851043    0.299214   \n",
       "1            0.578907  1.0 -2.220446e-16       2.901527    0.947922   \n",
       "2            0.021551  1.0 -2.220446e-16      -0.821996    0.305340   \n",
       "3            0.003910  1.0 -2.220446e-16      -2.280947    0.092713   \n",
       "4            0.018790  1.0 -2.220446e-16      -0.861950    0.296932   \n",
       "..                ...  ...           ...            ...         ...   \n",
       "745          0.057813  1.0 -2.220446e-16      -0.314967    0.421903   \n",
       "746          0.160424  1.0 -2.220446e-16       0.345962    0.585638   \n",
       "747          0.108838  1.0 -2.220446e-16       0.773546    0.684288   \n",
       "748          0.015285  1.0 -2.220446e-16      -1.555050    0.174358   \n",
       "749          0.011938  1.0 -2.220446e-16      -1.466767    0.187434   \n",
       "\n",
       "        high_risk         joint   conditional  \n",
       "0   -2.220446e-16 -2.220446e-16 -2.220446e-16  \n",
       "1    1.000000e+00  1.000000e+00  1.000000e+00  \n",
       "2   -2.220446e-16 -2.220446e-16 -2.220446e-16  \n",
       "3   -2.220446e-16 -2.220446e-16 -2.220446e-16  \n",
       "4   -2.220446e-16 -2.220446e-16 -2.220446e-16  \n",
       "..            ...           ...           ...  \n",
       "745 -2.220446e-16 -2.220446e-16 -2.220446e-16  \n",
       "746 -2.220446e-16  1.000000e+00  1.000000e+00  \n",
       "747 -2.220446e-16 -2.220446e-16 -2.220446e-16  \n",
       "748 -2.220446e-16 -2.220446e-16 -2.220446e-16  \n",
       "749 -2.220446e-16 -2.220446e-16 -2.220446e-16  \n",
       "\n",
       "[750 rows x 14 columns]"
      ]
     },
     "execution_count": 71,
     "metadata": {},
     "output_type": "execute_result"
    }
   ],
   "source": [
    "harm_marker = 0.0333\n",
    "df_cancer_dx\n",
    "# harm_conditional = (df_cancer_dx['risk_group'] == \"intermediate\").mean() * harm_marker\n",
    "# df_cancer_dx['risk_group']\n",
    "\n",
    "# dca_harm_df = \\\n",
    "#   dca(\n",
    "#       data=df_cancer_dx,\n",
    "#       outcome='cancer',\n",
    "#       modelnames=['risk_group'],\n",
    "#       models_to_prob=['risk_group'],\n",
    "#       thresholds=np.arange(0, 0.36, 0.01),\n",
    "#       harm={'risk_group': harm_conditional}\n",
    "#   )\n",
    "\n",
    "# plot_graphs(\n",
    "#     plot_df=dca_harm_df,\n",
    "#     graph_type='net_benefit',\n",
    "#     y_limits=[-0.05, 0.2],\n",
    "#     color_names=['red', 'blue', 'green']\n",
    "# )"
   ]
  },
  {
   "cell_type": "code",
   "execution_count": 60,
   "metadata": {},
   "outputs": [
    {
     "data": {
      "text/plain": [
       "0.0"
      ]
     },
     "execution_count": 60,
     "metadata": {},
     "output_type": "execute_result"
    }
   ],
   "source": [
    "harm_conditional"
   ]
  },
  {
   "cell_type": "code",
   "execution_count": null,
   "metadata": {},
   "outputs": [],
   "source": []
  },
  {
   "cell_type": "code",
   "execution_count": null,
   "metadata": {},
   "outputs": [],
   "source": []
  }
 ],
 "metadata": {
  "kernelspec": {
   "display_name": "Python 3",
   "language": "python",
   "name": "python3"
  },
  "language_info": {
   "codemirror_mode": {
    "name": "ipython",
    "version": 3
   },
   "file_extension": ".py",
   "mimetype": "text/x-python",
   "name": "python",
   "nbconvert_exporter": "python",
   "pygments_lexer": "ipython3",
   "version": "3.7.6"
  }
 },
 "nbformat": 4,
 "nbformat_minor": 4
}
