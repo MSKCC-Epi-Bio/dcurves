{
 "cells": [
  {
   "cell_type": "markdown",
   "metadata": {},
   "source": [
    "# dcurves Tutorial"
   ]
  },
  {
   "cell_type": "code",
   "execution_count": null,
   "metadata": {
    "tags": []
   },
   "outputs": [],
   "source": [
    "!python --version"
   ]
  },
  {
   "cell_type": "markdown",
   "metadata": {},
   "source": [
    "Install dcurves On The Terminal/Command Line"
   ]
  },
  {
   "cell_type": "code",
   "execution_count": null,
   "metadata": {
    "tags": []
   },
   "outputs": [],
   "source": [
    "!pip install dcurves"
   ]
  },
  {
   "cell_type": "markdown",
   "metadata": {
    "tags": []
   },
   "source": [
    "## Check dcurves version"
   ]
  },
  {
   "cell_type": "code",
   "execution_count": null,
   "metadata": {
    "tags": []
   },
   "outputs": [],
   "source": [
    "import dcurves\n",
    "print(dcurves.__version__)"
   ]
  },
  {
   "cell_type": "markdown",
   "metadata": {},
   "source": [
    "Install dcurves Functions"
   ]
  },
  {
   "cell_type": "code",
   "execution_count": null,
   "metadata": {
    "tags": []
   },
   "outputs": [],
   "source": [
    "from dcurves import dca, plot_graphs"
   ]
  },
  {
   "cell_type": "markdown",
   "metadata": {},
   "source": [
    "Import Other Packages Used In This Tutorial"
   ]
  },
  {
   "cell_type": "code",
   "execution_count": null,
   "metadata": {
    "tags": []
   },
   "outputs": [],
   "source": [
    "import pandas as pd\n",
    "import numpy as np\n",
    "import statsmodels.api as sm\n",
    "import lifelines\n",
    "# Display plots in notebook\n",
    "%matplotlib inline "
   ]
  },
  {
   "cell_type": "markdown",
   "metadata": {},
   "source": [
    "Import Cancer Simulation Dataset"
   ]
  },
  {
   "cell_type": "code",
   "execution_count": null,
   "metadata": {
    "tags": []
   },
   "outputs": [],
   "source": [
    "df_cancer_dx = pd.read_csv('https://raw.githubusercontent.com/ddsjoberg/dca-tutorial/main/data/df_cancer_dx.csv')"
   ]
  },
  {
   "cell_type": "markdown",
   "metadata": {},
   "source": [
    "Create A Generalized Linear Model"
   ]
  },
  {
   "cell_type": "code",
   "execution_count": null,
   "metadata": {
    "tags": []
   },
   "outputs": [],
   "source": [
    "mod1 = sm.GLM.from_formula('cancer ~ famhistory', data=df_cancer_dx, family=sm.families.Binomial())\n",
    "mod1_results = mod1.fit()\n",
    "\n",
    "mod1_results.summary()"
   ]
  },
  {
   "cell_type": "markdown",
   "metadata": {},
   "source": [
    "Run DCA With Cancer Outcome and Famhistory Predictor/Model"
   ]
  },
  {
   "cell_type": "code",
   "execution_count": null,
   "metadata": {
    "tags": []
   },
   "outputs": [],
   "source": [
    "dca_famhistory_df = \\\n",
    "    dca(\n",
    "        data=df_cancer_dx,\n",
    "        outcome='cancer',\n",
    "        modelnames=['famhistory']\n",
    "    )\n",
    "\n",
    "plot_graphs(\n",
    "    plot_df=dca_famhistory_df,\n",
    "    graph_type='net_benefit',\n",
    "    y_limits=[-0.05, 0.2],\n",
    "    color_names=['red', 'blue', 'green']\n",
    ")"
   ]
  },
  {
   "cell_type": "markdown",
   "metadata": {},
   "source": [
    "Run DCA With Cancer Outcome and Famhistory Predictor/Model with Abridged Thresholds"
   ]
  },
  {
   "cell_type": "code",
   "execution_count": null,
   "metadata": {
    "tags": []
   },
   "outputs": [],
   "source": [
    "dca_famhistory2_df = \\\n",
    "    dca(\n",
    "        data=df_cancer_dx,\n",
    "        outcome='cancer',\n",
    "        modelnames=['famhistory'],\n",
    "        thresholds=np.arange(0, 0.36, 0.01),\n",
    "    )\n",
    "\n",
    "plot_graphs(\n",
    "    plot_df=dca_famhistory2_df,\n",
    "    graph_type='net_benefit',\n",
    "    y_limits=[-0.05, 0.2],\n",
    "    color_names=['red', 'blue', 'green']\n",
    ")"
   ]
  },
  {
   "cell_type": "markdown",
   "metadata": {},
   "source": [
    "Run Multivariate Model and Print Model Summary"
   ]
  },
  {
   "cell_type": "code",
   "execution_count": null,
   "metadata": {
    "tags": []
   },
   "outputs": [],
   "source": [
    "mod2 = sm.GLM.from_formula('cancer ~ marker + age + famhistory', data=df_cancer_dx, family=sm.families.Binomial())\n",
    "mod2_results = mod2.fit()\n",
    "\n",
    "mod2_results.summary()"
   ]
  },
  {
   "cell_type": "markdown",
   "metadata": {},
   "source": [
    "Following 3 Steps Coming Soon! \n",
    "- build multivariable logistic regression model\n",
    "- summarize model\n",
    "- add predicted values from model to data set"
   ]
  },
  {
   "cell_type": "markdown",
   "metadata": {},
   "source": [
    "Run DCA on Multivariable Model"
   ]
  },
  {
   "cell_type": "code",
   "execution_count": null,
   "metadata": {
    "tags": []
   },
   "outputs": [],
   "source": [
    "dca_multi_df = \\\n",
    "    dca(\n",
    "        data=df_cancer_dx,\n",
    "        outcome='cancer',\n",
    "        modelnames=['famhistory', 'cancerpredmarker'],\n",
    "        thresholds=np.arange(0,0.36,0.01)\n",
    "    )\n",
    "\n",
    "plot_graphs(\n",
    "    plot_df=dca_multi_df,\n",
    "    y_limits=[-0.05, 0.2],\n",
    "    graph_type='net_benefit',\n",
    "    color_names=['red', 'blue', 'green', 'orange']\n",
    ")"
   ]
  },
  {
   "cell_type": "markdown",
   "metadata": {},
   "source": [
    "Smooth #1"
   ]
  },
  {
   "cell_type": "code",
   "execution_count": null,
   "metadata": {
    "tags": []
   },
   "outputs": [],
   "source": [
    "# Coming Soon"
   ]
  },
  {
   "cell_type": "markdown",
   "metadata": {},
   "source": [
    "Smooth #2"
   ]
  },
  {
   "cell_type": "code",
   "execution_count": null,
   "metadata": {
    "tags": []
   },
   "outputs": [],
   "source": [
    "# Coming Soon"
   ]
  },
  {
   "cell_type": "markdown",
   "metadata": {},
   "source": [
    "Published Model"
   ]
  },
  {
   "cell_type": "code",
   "execution_count": null,
   "metadata": {
    "tags": []
   },
   "outputs": [],
   "source": [
    "df_cancer_dx['logodds_brown'] = 0.75 * df_cancer_dx['famhistory'] + 0.26*df_cancer_dx['age'] - 17.5\n",
    "df_cancer_dx['phat_brown'] = np.exp(df_cancer_dx['logodds_brown']) / (1 + np.exp(df_cancer_dx['logodds_brown']))\n",
    "\n",
    "dca_pub_model_df = \\\n",
    "  dca(\n",
    "      data=df_cancer_dx,\n",
    "      outcome='cancer',\n",
    "      modelnames=['phat_brown'],\n",
    "      thresholds=np.arange(0,0.36,0.01),\n",
    "  )\n",
    "\n",
    "plot_graphs(\n",
    "    plot_df=dca_pub_model_df,\n",
    "    y_limits=[-0.05, 0.2],\n",
    "    graph_type='net_benefit',\n",
    "    color_names=['red', 'blue', 'green']\n",
    ")"
   ]
  },
  {
   "cell_type": "markdown",
   "metadata": {},
   "source": [
    "Joint Calculations"
   ]
  },
  {
   "cell_type": "code",
   "execution_count": null,
   "metadata": {
    "tags": []
   },
   "outputs": [],
   "source": [
    "df_cancer_dx['high_risk'] = np.where(df_cancer_dx['risk_group'] == \"high\", 1, 0)\n",
    "\n",
    "df_cancer_dx['joint'] = np.where((df_cancer_dx['risk_group'] == 'high') |\n",
    "                                 (df_cancer_dx['cancerpredmarker'] > 0.15), 1, 0)\n",
    "\n",
    "df_cancer_dx['conditional'] = np.where((df_cancer_dx['risk_group'] == \"high\") |\n",
    "                                       ((df_cancer_dx['risk_group'] == \"intermediate\") &\n",
    "                                        (df_cancer_dx['cancerpredmarker'] > 0.15)), 1, 0)\n"
   ]
  },
  {
   "cell_type": "markdown",
   "metadata": {},
   "source": [
    "Perform DCA On Joint Data"
   ]
  },
  {
   "cell_type": "code",
   "execution_count": null,
   "metadata": {
    "tags": []
   },
   "outputs": [],
   "source": [
    "  dca_joint_df = \\\n",
    "      dca(\n",
    "          data=df_cancer_dx,\n",
    "          outcome='cancer',\n",
    "          modelnames=['high_risk', 'joint', 'conditional'],\n",
    "          thresholds=np.arange(0, 0.5, 0.01)\n",
    "      )\n",
    "  \n",
    "  plot_graphs(\n",
    "      plot_df=dca_joint_df,\n",
    "      graph_type='net_benefit',\n",
    "      y_limits=[-0.05, 0.2],\n",
    "      color_names=['red', 'blue', 'green', 'orange', 'brown']\n",
    "  )"
   ]
  },
  {
   "cell_type": "markdown",
   "metadata": {},
   "source": [
    "Run DCA On a Simple Harms Per Model Case"
   ]
  },
  {
   "cell_type": "code",
   "execution_count": null,
   "metadata": {
    "tags": []
   },
   "outputs": [],
   "source": [
    "dca_harm_simple_df = \\\n",
    "  dca(\n",
    "      data=df_cancer_dx,\n",
    "      outcome='cancer',\n",
    "      modelnames=['marker'],\n",
    "      thresholds=np.arange(0, 0.36, 0.01),\n",
    "      harm={'marker': 0.0333},\n",
    "      models_to_prob=['marker']\n",
    "  )\n",
    "\n",
    "plot_graphs(\n",
    "    plot_df=dca_harm_simple_df,\n",
    "    graph_type='net_benefit',\n",
    "    color_names=['red', 'blue', 'green'],\n",
    "    y_limits=[-0.05, 0.15]\n",
    ")"
   ]
  },
  {
   "cell_type": "markdown",
   "metadata": {},
   "source": [
    "Run DCA On a Harms Per Model Case"
   ]
  },
  {
   "cell_type": "code",
   "execution_count": null,
   "metadata": {
    "tags": []
   },
   "outputs": [],
   "source": [
    "harm_marker = 0.0333\n",
    "df_cancer_dx\n",
    "harm_conditional = (df_cancer_dx['risk_group'] == \"intermediate\").mean() * harm_marker\n",
    "# df_cancer_dx['risk_group']\n",
    "\n",
    "dca_harm_df = \\\n",
    "  dca(\n",
    "      data=df_cancer_dx,\n",
    "      outcome='cancer',\n",
    "      modelnames=['risk_group'],\n",
    "      models_to_prob=['risk_group'],\n",
    "      thresholds=np.arange(0, 0.36, 0.01),\n",
    "      harm={'risk_group': harm_conditional}\n",
    "  )\n",
    "\n",
    "plot_graphs(\n",
    "    plot_df=dca_harm_df,\n",
    "    graph_type='net_benefit',\n",
    "    y_limits=[-0.05, 0.2],\n",
    "    color_names=['red', 'blue', 'green']\n",
    ")"
   ]
  },
  {
   "cell_type": "code",
   "execution_count": null,
   "metadata": {
    "tags": []
   },
   "outputs": [],
   "source": [
    "harm_conditional"
   ]
  },
  {
   "cell_type": "code",
   "execution_count": 1,
   "metadata": {},
   "outputs": [
    {
     "name": "stderr",
     "output_type": "stream",
     "text": [
      "/Users/porwals/Library/Caches/pypoetry/virtualenvs/dcurves-u9i8Mx-r-py3.9/lib/python3.9/site-packages/patsy/util.py:672: FutureWarning: is_categorical_dtype is deprecated and will be removed in a future version. Use isinstance(dtype, CategoricalDtype) instead\n",
      "  return _pandas_is_categorical_dtype(dt)\n",
      "/Users/porwals/Library/Caches/pypoetry/virtualenvs/dcurves-u9i8Mx-r-py3.9/lib/python3.9/site-packages/patsy/util.py:672: FutureWarning: is_categorical_dtype is deprecated and will be removed in a future version. Use isinstance(dtype, CategoricalDtype) instead\n",
      "  return _pandas_is_categorical_dtype(dt)\n",
      "/Users/porwals/Library/Caches/pypoetry/virtualenvs/dcurves-u9i8Mx-r-py3.9/lib/python3.9/site-packages/patsy/util.py:672: FutureWarning: is_categorical_dtype is deprecated and will be removed in a future version. Use isinstance(dtype, CategoricalDtype) instead\n",
      "  return _pandas_is_categorical_dtype(dt)\n",
      "/Users/porwals/Library/Caches/pypoetry/virtualenvs/dcurves-u9i8Mx-r-py3.9/lib/python3.9/site-packages/patsy/util.py:672: FutureWarning: is_categorical_dtype is deprecated and will be removed in a future version. Use isinstance(dtype, CategoricalDtype) instead\n",
      "  return _pandas_is_categorical_dtype(dt)\n",
      "/Users/porwals/Library/Caches/pypoetry/virtualenvs/dcurves-u9i8Mx-r-py3.9/lib/python3.9/site-packages/patsy/util.py:672: FutureWarning: is_categorical_dtype is deprecated and will be removed in a future version. Use isinstance(dtype, CategoricalDtype) instead\n",
      "  return _pandas_is_categorical_dtype(dt)\n",
      "/Users/porwals/Library/Caches/pypoetry/virtualenvs/dcurves-u9i8Mx-r-py3.9/lib/python3.9/site-packages/patsy/util.py:672: FutureWarning: is_categorical_dtype is deprecated and will be removed in a future version. Use isinstance(dtype, CategoricalDtype) instead\n",
      "  return _pandas_is_categorical_dtype(dt)\n",
      "/Users/porwals/Library/Caches/pypoetry/virtualenvs/dcurves-u9i8Mx-r-py3.9/lib/python3.9/site-packages/patsy/util.py:672: FutureWarning: is_categorical_dtype is deprecated and will be removed in a future version. Use isinstance(dtype, CategoricalDtype) instead\n",
      "  return _pandas_is_categorical_dtype(dt)\n",
      "/Users/porwals/Library/Caches/pypoetry/virtualenvs/dcurves-u9i8Mx-r-py3.9/lib/python3.9/site-packages/patsy/util.py:672: FutureWarning: is_categorical_dtype is deprecated and will be removed in a future version. Use isinstance(dtype, CategoricalDtype) instead\n",
      "  return _pandas_is_categorical_dtype(dt)\n",
      "/var/folders/48/l9nskc214ylb8mmx6d777vc4j2d6q6/T/ipykernel_34210/1188592268.py:37: SettingWithCopyWarning: \n",
      "A value is trying to be set on a copy of a slice from a DataFrame.\n",
      "Try using .loc[row_indexer,col_indexer] = value instead\n",
      "\n",
      "See the caveats in the documentation: https://pandas.pydata.org/pandas-docs/stable/user_guide/indexing.html#returning-a-view-versus-a-copy\n",
      "  test['cv_prediction'] = model.predict(test)\n",
      "/Users/porwals/Library/Caches/pypoetry/virtualenvs/dcurves-u9i8Mx-r-py3.9/lib/python3.9/site-packages/patsy/util.py:672: FutureWarning: is_categorical_dtype is deprecated and will be removed in a future version. Use isinstance(dtype, CategoricalDtype) instead\n",
      "  return _pandas_is_categorical_dtype(dt)\n",
      "/Users/porwals/Library/Caches/pypoetry/virtualenvs/dcurves-u9i8Mx-r-py3.9/lib/python3.9/site-packages/patsy/util.py:672: FutureWarning: is_categorical_dtype is deprecated and will be removed in a future version. Use isinstance(dtype, CategoricalDtype) instead\n",
      "  return _pandas_is_categorical_dtype(dt)\n",
      "/Users/porwals/Library/Caches/pypoetry/virtualenvs/dcurves-u9i8Mx-r-py3.9/lib/python3.9/site-packages/patsy/util.py:672: FutureWarning: is_categorical_dtype is deprecated and will be removed in a future version. Use isinstance(dtype, CategoricalDtype) instead\n",
      "  return _pandas_is_categorical_dtype(dt)\n",
      "/Users/porwals/Library/Caches/pypoetry/virtualenvs/dcurves-u9i8Mx-r-py3.9/lib/python3.9/site-packages/patsy/util.py:672: FutureWarning: is_categorical_dtype is deprecated and will be removed in a future version. Use isinstance(dtype, CategoricalDtype) instead\n",
      "  return _pandas_is_categorical_dtype(dt)\n",
      "/Users/porwals/Library/Caches/pypoetry/virtualenvs/dcurves-u9i8Mx-r-py3.9/lib/python3.9/site-packages/patsy/util.py:672: FutureWarning: is_categorical_dtype is deprecated and will be removed in a future version. Use isinstance(dtype, CategoricalDtype) instead\n",
      "  return _pandas_is_categorical_dtype(dt)\n",
      "/Users/porwals/Library/Caches/pypoetry/virtualenvs/dcurves-u9i8Mx-r-py3.9/lib/python3.9/site-packages/patsy/util.py:672: FutureWarning: is_categorical_dtype is deprecated and will be removed in a future version. Use isinstance(dtype, CategoricalDtype) instead\n",
      "  return _pandas_is_categorical_dtype(dt)\n",
      "/Users/porwals/Library/Caches/pypoetry/virtualenvs/dcurves-u9i8Mx-r-py3.9/lib/python3.9/site-packages/patsy/util.py:672: FutureWarning: is_categorical_dtype is deprecated and will be removed in a future version. Use isinstance(dtype, CategoricalDtype) instead\n",
      "  return _pandas_is_categorical_dtype(dt)\n",
      "/Users/porwals/Library/Caches/pypoetry/virtualenvs/dcurves-u9i8Mx-r-py3.9/lib/python3.9/site-packages/patsy/util.py:672: FutureWarning: is_categorical_dtype is deprecated and will be removed in a future version. Use isinstance(dtype, CategoricalDtype) instead\n",
      "  return _pandas_is_categorical_dtype(dt)\n",
      "/var/folders/48/l9nskc214ylb8mmx6d777vc4j2d6q6/T/ipykernel_34210/1188592268.py:37: SettingWithCopyWarning: \n",
      "A value is trying to be set on a copy of a slice from a DataFrame.\n",
      "Try using .loc[row_indexer,col_indexer] = value instead\n",
      "\n",
      "See the caveats in the documentation: https://pandas.pydata.org/pandas-docs/stable/user_guide/indexing.html#returning-a-view-versus-a-copy\n",
      "  test['cv_prediction'] = model.predict(test)\n",
      "/Users/porwals/Library/Caches/pypoetry/virtualenvs/dcurves-u9i8Mx-r-py3.9/lib/python3.9/site-packages/patsy/util.py:672: FutureWarning: is_categorical_dtype is deprecated and will be removed in a future version. Use isinstance(dtype, CategoricalDtype) instead\n",
      "  return _pandas_is_categorical_dtype(dt)\n",
      "/Users/porwals/Library/Caches/pypoetry/virtualenvs/dcurves-u9i8Mx-r-py3.9/lib/python3.9/site-packages/patsy/util.py:672: FutureWarning: is_categorical_dtype is deprecated and will be removed in a future version. Use isinstance(dtype, CategoricalDtype) instead\n",
      "  return _pandas_is_categorical_dtype(dt)\n",
      "/Users/porwals/Library/Caches/pypoetry/virtualenvs/dcurves-u9i8Mx-r-py3.9/lib/python3.9/site-packages/patsy/util.py:672: FutureWarning: is_categorical_dtype is deprecated and will be removed in a future version. Use isinstance(dtype, CategoricalDtype) instead\n",
      "  return _pandas_is_categorical_dtype(dt)\n",
      "/Users/porwals/Library/Caches/pypoetry/virtualenvs/dcurves-u9i8Mx-r-py3.9/lib/python3.9/site-packages/patsy/util.py:672: FutureWarning: is_categorical_dtype is deprecated and will be removed in a future version. Use isinstance(dtype, CategoricalDtype) instead\n",
      "  return _pandas_is_categorical_dtype(dt)\n",
      "/Users/porwals/Library/Caches/pypoetry/virtualenvs/dcurves-u9i8Mx-r-py3.9/lib/python3.9/site-packages/patsy/util.py:672: FutureWarning: is_categorical_dtype is deprecated and will be removed in a future version. Use isinstance(dtype, CategoricalDtype) instead\n",
      "  return _pandas_is_categorical_dtype(dt)\n",
      "/Users/porwals/Library/Caches/pypoetry/virtualenvs/dcurves-u9i8Mx-r-py3.9/lib/python3.9/site-packages/patsy/util.py:672: FutureWarning: is_categorical_dtype is deprecated and will be removed in a future version. Use isinstance(dtype, CategoricalDtype) instead\n",
      "  return _pandas_is_categorical_dtype(dt)\n",
      "/Users/porwals/Library/Caches/pypoetry/virtualenvs/dcurves-u9i8Mx-r-py3.9/lib/python3.9/site-packages/patsy/util.py:672: FutureWarning: is_categorical_dtype is deprecated and will be removed in a future version. Use isinstance(dtype, CategoricalDtype) instead\n",
      "  return _pandas_is_categorical_dtype(dt)\n",
      "/Users/porwals/Library/Caches/pypoetry/virtualenvs/dcurves-u9i8Mx-r-py3.9/lib/python3.9/site-packages/patsy/util.py:672: FutureWarning: is_categorical_dtype is deprecated and will be removed in a future version. Use isinstance(dtype, CategoricalDtype) instead\n",
      "  return _pandas_is_categorical_dtype(dt)\n",
      "/var/folders/48/l9nskc214ylb8mmx6d777vc4j2d6q6/T/ipykernel_34210/1188592268.py:37: SettingWithCopyWarning: \n",
      "A value is trying to be set on a copy of a slice from a DataFrame.\n",
      "Try using .loc[row_indexer,col_indexer] = value instead\n",
      "\n",
      "See the caveats in the documentation: https://pandas.pydata.org/pandas-docs/stable/user_guide/indexing.html#returning-a-view-versus-a-copy\n",
      "  test['cv_prediction'] = model.predict(test)\n",
      "/Users/porwals/Library/Caches/pypoetry/virtualenvs/dcurves-u9i8Mx-r-py3.9/lib/python3.9/site-packages/patsy/util.py:672: FutureWarning: is_categorical_dtype is deprecated and will be removed in a future version. Use isinstance(dtype, CategoricalDtype) instead\n",
      "  return _pandas_is_categorical_dtype(dt)\n",
      "/Users/porwals/Library/Caches/pypoetry/virtualenvs/dcurves-u9i8Mx-r-py3.9/lib/python3.9/site-packages/patsy/util.py:672: FutureWarning: is_categorical_dtype is deprecated and will be removed in a future version. Use isinstance(dtype, CategoricalDtype) instead\n",
      "  return _pandas_is_categorical_dtype(dt)\n",
      "/Users/porwals/Library/Caches/pypoetry/virtualenvs/dcurves-u9i8Mx-r-py3.9/lib/python3.9/site-packages/patsy/util.py:672: FutureWarning: is_categorical_dtype is deprecated and will be removed in a future version. Use isinstance(dtype, CategoricalDtype) instead\n",
      "  return _pandas_is_categorical_dtype(dt)\n",
      "/Users/porwals/Library/Caches/pypoetry/virtualenvs/dcurves-u9i8Mx-r-py3.9/lib/python3.9/site-packages/patsy/util.py:672: FutureWarning: is_categorical_dtype is deprecated and will be removed in a future version. Use isinstance(dtype, CategoricalDtype) instead\n",
      "  return _pandas_is_categorical_dtype(dt)\n",
      "/Users/porwals/Library/Caches/pypoetry/virtualenvs/dcurves-u9i8Mx-r-py3.9/lib/python3.9/site-packages/patsy/util.py:672: FutureWarning: is_categorical_dtype is deprecated and will be removed in a future version. Use isinstance(dtype, CategoricalDtype) instead\n",
      "  return _pandas_is_categorical_dtype(dt)\n",
      "/Users/porwals/Library/Caches/pypoetry/virtualenvs/dcurves-u9i8Mx-r-py3.9/lib/python3.9/site-packages/patsy/util.py:672: FutureWarning: is_categorical_dtype is deprecated and will be removed in a future version. Use isinstance(dtype, CategoricalDtype) instead\n",
      "  return _pandas_is_categorical_dtype(dt)\n",
      "/Users/porwals/Library/Caches/pypoetry/virtualenvs/dcurves-u9i8Mx-r-py3.9/lib/python3.9/site-packages/patsy/util.py:672: FutureWarning: is_categorical_dtype is deprecated and will be removed in a future version. Use isinstance(dtype, CategoricalDtype) instead\n",
      "  return _pandas_is_categorical_dtype(dt)\n",
      "/Users/porwals/Library/Caches/pypoetry/virtualenvs/dcurves-u9i8Mx-r-py3.9/lib/python3.9/site-packages/patsy/util.py:672: FutureWarning: is_categorical_dtype is deprecated and will be removed in a future version. Use isinstance(dtype, CategoricalDtype) instead\n",
      "  return _pandas_is_categorical_dtype(dt)\n",
      "/var/folders/48/l9nskc214ylb8mmx6d777vc4j2d6q6/T/ipykernel_34210/1188592268.py:37: SettingWithCopyWarning: \n",
      "A value is trying to be set on a copy of a slice from a DataFrame.\n",
      "Try using .loc[row_indexer,col_indexer] = value instead\n",
      "\n",
      "See the caveats in the documentation: https://pandas.pydata.org/pandas-docs/stable/user_guide/indexing.html#returning-a-view-versus-a-copy\n",
      "  test['cv_prediction'] = model.predict(test)\n",
      "/Users/porwals/Library/Caches/pypoetry/virtualenvs/dcurves-u9i8Mx-r-py3.9/lib/python3.9/site-packages/patsy/util.py:672: FutureWarning: is_categorical_dtype is deprecated and will be removed in a future version. Use isinstance(dtype, CategoricalDtype) instead\n",
      "  return _pandas_is_categorical_dtype(dt)\n",
      "/Users/porwals/Library/Caches/pypoetry/virtualenvs/dcurves-u9i8Mx-r-py3.9/lib/python3.9/site-packages/patsy/util.py:672: FutureWarning: is_categorical_dtype is deprecated and will be removed in a future version. Use isinstance(dtype, CategoricalDtype) instead\n",
      "  return _pandas_is_categorical_dtype(dt)\n",
      "/Users/porwals/Library/Caches/pypoetry/virtualenvs/dcurves-u9i8Mx-r-py3.9/lib/python3.9/site-packages/patsy/util.py:672: FutureWarning: is_categorical_dtype is deprecated and will be removed in a future version. Use isinstance(dtype, CategoricalDtype) instead\n",
      "  return _pandas_is_categorical_dtype(dt)\n",
      "/Users/porwals/Library/Caches/pypoetry/virtualenvs/dcurves-u9i8Mx-r-py3.9/lib/python3.9/site-packages/patsy/util.py:672: FutureWarning: is_categorical_dtype is deprecated and will be removed in a future version. Use isinstance(dtype, CategoricalDtype) instead\n",
      "  return _pandas_is_categorical_dtype(dt)\n",
      "/Users/porwals/Library/Caches/pypoetry/virtualenvs/dcurves-u9i8Mx-r-py3.9/lib/python3.9/site-packages/patsy/util.py:672: FutureWarning: is_categorical_dtype is deprecated and will be removed in a future version. Use isinstance(dtype, CategoricalDtype) instead\n",
      "  return _pandas_is_categorical_dtype(dt)\n",
      "/Users/porwals/Library/Caches/pypoetry/virtualenvs/dcurves-u9i8Mx-r-py3.9/lib/python3.9/site-packages/patsy/util.py:672: FutureWarning: is_categorical_dtype is deprecated and will be removed in a future version. Use isinstance(dtype, CategoricalDtype) instead\n",
      "  return _pandas_is_categorical_dtype(dt)\n",
      "/Users/porwals/Library/Caches/pypoetry/virtualenvs/dcurves-u9i8Mx-r-py3.9/lib/python3.9/site-packages/patsy/util.py:672: FutureWarning: is_categorical_dtype is deprecated and will be removed in a future version. Use isinstance(dtype, CategoricalDtype) instead\n",
      "  return _pandas_is_categorical_dtype(dt)\n",
      "/Users/porwals/Library/Caches/pypoetry/virtualenvs/dcurves-u9i8Mx-r-py3.9/lib/python3.9/site-packages/patsy/util.py:672: FutureWarning: is_categorical_dtype is deprecated and will be removed in a future version. Use isinstance(dtype, CategoricalDtype) instead\n",
      "  return _pandas_is_categorical_dtype(dt)\n",
      "/var/folders/48/l9nskc214ylb8mmx6d777vc4j2d6q6/T/ipykernel_34210/1188592268.py:37: SettingWithCopyWarning: \n",
      "A value is trying to be set on a copy of a slice from a DataFrame.\n",
      "Try using .loc[row_indexer,col_indexer] = value instead\n",
      "\n",
      "See the caveats in the documentation: https://pandas.pydata.org/pandas-docs/stable/user_guide/indexing.html#returning-a-view-versus-a-copy\n",
      "  test['cv_prediction'] = model.predict(test)\n",
      "/Users/porwals/Library/Caches/pypoetry/virtualenvs/dcurves-u9i8Mx-r-py3.9/lib/python3.9/site-packages/patsy/util.py:672: FutureWarning: is_categorical_dtype is deprecated and will be removed in a future version. Use isinstance(dtype, CategoricalDtype) instead\n",
      "  return _pandas_is_categorical_dtype(dt)\n",
      "/Users/porwals/Library/Caches/pypoetry/virtualenvs/dcurves-u9i8Mx-r-py3.9/lib/python3.9/site-packages/patsy/util.py:672: FutureWarning: is_categorical_dtype is deprecated and will be removed in a future version. Use isinstance(dtype, CategoricalDtype) instead\n",
      "  return _pandas_is_categorical_dtype(dt)\n",
      "/Users/porwals/Library/Caches/pypoetry/virtualenvs/dcurves-u9i8Mx-r-py3.9/lib/python3.9/site-packages/patsy/util.py:672: FutureWarning: is_categorical_dtype is deprecated and will be removed in a future version. Use isinstance(dtype, CategoricalDtype) instead\n",
      "  return _pandas_is_categorical_dtype(dt)\n",
      "/Users/porwals/Library/Caches/pypoetry/virtualenvs/dcurves-u9i8Mx-r-py3.9/lib/python3.9/site-packages/patsy/util.py:672: FutureWarning: is_categorical_dtype is deprecated and will be removed in a future version. Use isinstance(dtype, CategoricalDtype) instead\n",
      "  return _pandas_is_categorical_dtype(dt)\n",
      "/Users/porwals/Library/Caches/pypoetry/virtualenvs/dcurves-u9i8Mx-r-py3.9/lib/python3.9/site-packages/patsy/util.py:672: FutureWarning: is_categorical_dtype is deprecated and will be removed in a future version. Use isinstance(dtype, CategoricalDtype) instead\n",
      "  return _pandas_is_categorical_dtype(dt)\n",
      "/Users/porwals/Library/Caches/pypoetry/virtualenvs/dcurves-u9i8Mx-r-py3.9/lib/python3.9/site-packages/patsy/util.py:672: FutureWarning: is_categorical_dtype is deprecated and will be removed in a future version. Use isinstance(dtype, CategoricalDtype) instead\n",
      "  return _pandas_is_categorical_dtype(dt)\n",
      "/Users/porwals/Library/Caches/pypoetry/virtualenvs/dcurves-u9i8Mx-r-py3.9/lib/python3.9/site-packages/patsy/util.py:672: FutureWarning: is_categorical_dtype is deprecated and will be removed in a future version. Use isinstance(dtype, CategoricalDtype) instead\n",
      "  return _pandas_is_categorical_dtype(dt)\n",
      "/Users/porwals/Library/Caches/pypoetry/virtualenvs/dcurves-u9i8Mx-r-py3.9/lib/python3.9/site-packages/patsy/util.py:672: FutureWarning: is_categorical_dtype is deprecated and will be removed in a future version. Use isinstance(dtype, CategoricalDtype) instead\n",
      "  return _pandas_is_categorical_dtype(dt)\n",
      "/var/folders/48/l9nskc214ylb8mmx6d777vc4j2d6q6/T/ipykernel_34210/1188592268.py:37: SettingWithCopyWarning: \n",
      "A value is trying to be set on a copy of a slice from a DataFrame.\n",
      "Try using .loc[row_indexer,col_indexer] = value instead\n",
      "\n",
      "See the caveats in the documentation: https://pandas.pydata.org/pandas-docs/stable/user_guide/indexing.html#returning-a-view-versus-a-copy\n",
      "  test['cv_prediction'] = model.predict(test)\n",
      "/Users/porwals/Library/Caches/pypoetry/virtualenvs/dcurves-u9i8Mx-r-py3.9/lib/python3.9/site-packages/patsy/util.py:672: FutureWarning: is_categorical_dtype is deprecated and will be removed in a future version. Use isinstance(dtype, CategoricalDtype) instead\n",
      "  return _pandas_is_categorical_dtype(dt)\n",
      "/Users/porwals/Library/Caches/pypoetry/virtualenvs/dcurves-u9i8Mx-r-py3.9/lib/python3.9/site-packages/patsy/util.py:672: FutureWarning: is_categorical_dtype is deprecated and will be removed in a future version. Use isinstance(dtype, CategoricalDtype) instead\n",
      "  return _pandas_is_categorical_dtype(dt)\n",
      "/Users/porwals/Library/Caches/pypoetry/virtualenvs/dcurves-u9i8Mx-r-py3.9/lib/python3.9/site-packages/patsy/util.py:672: FutureWarning: is_categorical_dtype is deprecated and will be removed in a future version. Use isinstance(dtype, CategoricalDtype) instead\n",
      "  return _pandas_is_categorical_dtype(dt)\n",
      "/Users/porwals/Library/Caches/pypoetry/virtualenvs/dcurves-u9i8Mx-r-py3.9/lib/python3.9/site-packages/patsy/util.py:672: FutureWarning: is_categorical_dtype is deprecated and will be removed in a future version. Use isinstance(dtype, CategoricalDtype) instead\n",
      "  return _pandas_is_categorical_dtype(dt)\n",
      "/Users/porwals/Library/Caches/pypoetry/virtualenvs/dcurves-u9i8Mx-r-py3.9/lib/python3.9/site-packages/patsy/util.py:672: FutureWarning: is_categorical_dtype is deprecated and will be removed in a future version. Use isinstance(dtype, CategoricalDtype) instead\n",
      "  return _pandas_is_categorical_dtype(dt)\n",
      "/Users/porwals/Library/Caches/pypoetry/virtualenvs/dcurves-u9i8Mx-r-py3.9/lib/python3.9/site-packages/patsy/util.py:672: FutureWarning: is_categorical_dtype is deprecated and will be removed in a future version. Use isinstance(dtype, CategoricalDtype) instead\n",
      "  return _pandas_is_categorical_dtype(dt)\n",
      "/Users/porwals/Library/Caches/pypoetry/virtualenvs/dcurves-u9i8Mx-r-py3.9/lib/python3.9/site-packages/patsy/util.py:672: FutureWarning: is_categorical_dtype is deprecated and will be removed in a future version. Use isinstance(dtype, CategoricalDtype) instead\n",
      "  return _pandas_is_categorical_dtype(dt)\n",
      "/Users/porwals/Library/Caches/pypoetry/virtualenvs/dcurves-u9i8Mx-r-py3.9/lib/python3.9/site-packages/patsy/util.py:672: FutureWarning: is_categorical_dtype is deprecated and will be removed in a future version. Use isinstance(dtype, CategoricalDtype) instead\n",
      "  return _pandas_is_categorical_dtype(dt)\n",
      "/var/folders/48/l9nskc214ylb8mmx6d777vc4j2d6q6/T/ipykernel_34210/1188592268.py:37: SettingWithCopyWarning: \n",
      "A value is trying to be set on a copy of a slice from a DataFrame.\n",
      "Try using .loc[row_indexer,col_indexer] = value instead\n",
      "\n",
      "See the caveats in the documentation: https://pandas.pydata.org/pandas-docs/stable/user_guide/indexing.html#returning-a-view-versus-a-copy\n",
      "  test['cv_prediction'] = model.predict(test)\n",
      "/Users/porwals/Library/Caches/pypoetry/virtualenvs/dcurves-u9i8Mx-r-py3.9/lib/python3.9/site-packages/patsy/util.py:672: FutureWarning: is_categorical_dtype is deprecated and will be removed in a future version. Use isinstance(dtype, CategoricalDtype) instead\n",
      "  return _pandas_is_categorical_dtype(dt)\n",
      "/Users/porwals/Library/Caches/pypoetry/virtualenvs/dcurves-u9i8Mx-r-py3.9/lib/python3.9/site-packages/patsy/util.py:672: FutureWarning: is_categorical_dtype is deprecated and will be removed in a future version. Use isinstance(dtype, CategoricalDtype) instead\n",
      "  return _pandas_is_categorical_dtype(dt)\n",
      "/Users/porwals/Library/Caches/pypoetry/virtualenvs/dcurves-u9i8Mx-r-py3.9/lib/python3.9/site-packages/patsy/util.py:672: FutureWarning: is_categorical_dtype is deprecated and will be removed in a future version. Use isinstance(dtype, CategoricalDtype) instead\n",
      "  return _pandas_is_categorical_dtype(dt)\n",
      "/Users/porwals/Library/Caches/pypoetry/virtualenvs/dcurves-u9i8Mx-r-py3.9/lib/python3.9/site-packages/patsy/util.py:672: FutureWarning: is_categorical_dtype is deprecated and will be removed in a future version. Use isinstance(dtype, CategoricalDtype) instead\n",
      "  return _pandas_is_categorical_dtype(dt)\n",
      "/Users/porwals/Library/Caches/pypoetry/virtualenvs/dcurves-u9i8Mx-r-py3.9/lib/python3.9/site-packages/patsy/util.py:672: FutureWarning: is_categorical_dtype is deprecated and will be removed in a future version. Use isinstance(dtype, CategoricalDtype) instead\n",
      "  return _pandas_is_categorical_dtype(dt)\n",
      "/Users/porwals/Library/Caches/pypoetry/virtualenvs/dcurves-u9i8Mx-r-py3.9/lib/python3.9/site-packages/patsy/util.py:672: FutureWarning: is_categorical_dtype is deprecated and will be removed in a future version. Use isinstance(dtype, CategoricalDtype) instead\n",
      "  return _pandas_is_categorical_dtype(dt)\n",
      "/Users/porwals/Library/Caches/pypoetry/virtualenvs/dcurves-u9i8Mx-r-py3.9/lib/python3.9/site-packages/patsy/util.py:672: FutureWarning: is_categorical_dtype is deprecated and will be removed in a future version. Use isinstance(dtype, CategoricalDtype) instead\n",
      "  return _pandas_is_categorical_dtype(dt)\n",
      "/Users/porwals/Library/Caches/pypoetry/virtualenvs/dcurves-u9i8Mx-r-py3.9/lib/python3.9/site-packages/patsy/util.py:672: FutureWarning: is_categorical_dtype is deprecated and will be removed in a future version. Use isinstance(dtype, CategoricalDtype) instead\n",
      "  return _pandas_is_categorical_dtype(dt)\n",
      "/var/folders/48/l9nskc214ylb8mmx6d777vc4j2d6q6/T/ipykernel_34210/1188592268.py:37: SettingWithCopyWarning: \n",
      "A value is trying to be set on a copy of a slice from a DataFrame.\n",
      "Try using .loc[row_indexer,col_indexer] = value instead\n",
      "\n",
      "See the caveats in the documentation: https://pandas.pydata.org/pandas-docs/stable/user_guide/indexing.html#returning-a-view-versus-a-copy\n",
      "  test['cv_prediction'] = model.predict(test)\n",
      "/Users/porwals/Library/Caches/pypoetry/virtualenvs/dcurves-u9i8Mx-r-py3.9/lib/python3.9/site-packages/patsy/util.py:672: FutureWarning: is_categorical_dtype is deprecated and will be removed in a future version. Use isinstance(dtype, CategoricalDtype) instead\n",
      "  return _pandas_is_categorical_dtype(dt)\n",
      "/Users/porwals/Library/Caches/pypoetry/virtualenvs/dcurves-u9i8Mx-r-py3.9/lib/python3.9/site-packages/patsy/util.py:672: FutureWarning: is_categorical_dtype is deprecated and will be removed in a future version. Use isinstance(dtype, CategoricalDtype) instead\n",
      "  return _pandas_is_categorical_dtype(dt)\n",
      "/Users/porwals/Library/Caches/pypoetry/virtualenvs/dcurves-u9i8Mx-r-py3.9/lib/python3.9/site-packages/patsy/util.py:672: FutureWarning: is_categorical_dtype is deprecated and will be removed in a future version. Use isinstance(dtype, CategoricalDtype) instead\n",
      "  return _pandas_is_categorical_dtype(dt)\n",
      "/Users/porwals/Library/Caches/pypoetry/virtualenvs/dcurves-u9i8Mx-r-py3.9/lib/python3.9/site-packages/patsy/util.py:672: FutureWarning: is_categorical_dtype is deprecated and will be removed in a future version. Use isinstance(dtype, CategoricalDtype) instead\n",
      "  return _pandas_is_categorical_dtype(dt)\n",
      "/Users/porwals/Library/Caches/pypoetry/virtualenvs/dcurves-u9i8Mx-r-py3.9/lib/python3.9/site-packages/patsy/util.py:672: FutureWarning: is_categorical_dtype is deprecated and will be removed in a future version. Use isinstance(dtype, CategoricalDtype) instead\n",
      "  return _pandas_is_categorical_dtype(dt)\n",
      "/Users/porwals/Library/Caches/pypoetry/virtualenvs/dcurves-u9i8Mx-r-py3.9/lib/python3.9/site-packages/patsy/util.py:672: FutureWarning: is_categorical_dtype is deprecated and will be removed in a future version. Use isinstance(dtype, CategoricalDtype) instead\n",
      "  return _pandas_is_categorical_dtype(dt)\n",
      "/Users/porwals/Library/Caches/pypoetry/virtualenvs/dcurves-u9i8Mx-r-py3.9/lib/python3.9/site-packages/patsy/util.py:672: FutureWarning: is_categorical_dtype is deprecated and will be removed in a future version. Use isinstance(dtype, CategoricalDtype) instead\n",
      "  return _pandas_is_categorical_dtype(dt)\n",
      "/Users/porwals/Library/Caches/pypoetry/virtualenvs/dcurves-u9i8Mx-r-py3.9/lib/python3.9/site-packages/patsy/util.py:672: FutureWarning: is_categorical_dtype is deprecated and will be removed in a future version. Use isinstance(dtype, CategoricalDtype) instead\n",
      "  return _pandas_is_categorical_dtype(dt)\n",
      "/var/folders/48/l9nskc214ylb8mmx6d777vc4j2d6q6/T/ipykernel_34210/1188592268.py:37: SettingWithCopyWarning: \n",
      "A value is trying to be set on a copy of a slice from a DataFrame.\n",
      "Try using .loc[row_indexer,col_indexer] = value instead\n",
      "\n",
      "See the caveats in the documentation: https://pandas.pydata.org/pandas-docs/stable/user_guide/indexing.html#returning-a-view-versus-a-copy\n",
      "  test['cv_prediction'] = model.predict(test)\n",
      "/Users/porwals/Library/Caches/pypoetry/virtualenvs/dcurves-u9i8Mx-r-py3.9/lib/python3.9/site-packages/patsy/util.py:672: FutureWarning: is_categorical_dtype is deprecated and will be removed in a future version. Use isinstance(dtype, CategoricalDtype) instead\n",
      "  return _pandas_is_categorical_dtype(dt)\n",
      "/Users/porwals/Library/Caches/pypoetry/virtualenvs/dcurves-u9i8Mx-r-py3.9/lib/python3.9/site-packages/patsy/util.py:672: FutureWarning: is_categorical_dtype is deprecated and will be removed in a future version. Use isinstance(dtype, CategoricalDtype) instead\n",
      "  return _pandas_is_categorical_dtype(dt)\n",
      "/Users/porwals/Library/Caches/pypoetry/virtualenvs/dcurves-u9i8Mx-r-py3.9/lib/python3.9/site-packages/patsy/util.py:672: FutureWarning: is_categorical_dtype is deprecated and will be removed in a future version. Use isinstance(dtype, CategoricalDtype) instead\n",
      "  return _pandas_is_categorical_dtype(dt)\n",
      "/Users/porwals/Library/Caches/pypoetry/virtualenvs/dcurves-u9i8Mx-r-py3.9/lib/python3.9/site-packages/patsy/util.py:672: FutureWarning: is_categorical_dtype is deprecated and will be removed in a future version. Use isinstance(dtype, CategoricalDtype) instead\n",
      "  return _pandas_is_categorical_dtype(dt)\n",
      "/Users/porwals/Library/Caches/pypoetry/virtualenvs/dcurves-u9i8Mx-r-py3.9/lib/python3.9/site-packages/patsy/util.py:672: FutureWarning: is_categorical_dtype is deprecated and will be removed in a future version. Use isinstance(dtype, CategoricalDtype) instead\n",
      "  return _pandas_is_categorical_dtype(dt)\n",
      "/Users/porwals/Library/Caches/pypoetry/virtualenvs/dcurves-u9i8Mx-r-py3.9/lib/python3.9/site-packages/patsy/util.py:672: FutureWarning: is_categorical_dtype is deprecated and will be removed in a future version. Use isinstance(dtype, CategoricalDtype) instead\n",
      "  return _pandas_is_categorical_dtype(dt)\n",
      "/Users/porwals/Library/Caches/pypoetry/virtualenvs/dcurves-u9i8Mx-r-py3.9/lib/python3.9/site-packages/patsy/util.py:672: FutureWarning: is_categorical_dtype is deprecated and will be removed in a future version. Use isinstance(dtype, CategoricalDtype) instead\n",
      "  return _pandas_is_categorical_dtype(dt)\n",
      "/Users/porwals/Library/Caches/pypoetry/virtualenvs/dcurves-u9i8Mx-r-py3.9/lib/python3.9/site-packages/patsy/util.py:672: FutureWarning: is_categorical_dtype is deprecated and will be removed in a future version. Use isinstance(dtype, CategoricalDtype) instead\n",
      "  return _pandas_is_categorical_dtype(dt)\n",
      "/var/folders/48/l9nskc214ylb8mmx6d777vc4j2d6q6/T/ipykernel_34210/1188592268.py:37: SettingWithCopyWarning: \n",
      "A value is trying to be set on a copy of a slice from a DataFrame.\n",
      "Try using .loc[row_indexer,col_indexer] = value instead\n",
      "\n",
      "See the caveats in the documentation: https://pandas.pydata.org/pandas-docs/stable/user_guide/indexing.html#returning-a-view-versus-a-copy\n",
      "  test['cv_prediction'] = model.predict(test)\n"
     ]
    },
    {
     "data": {
      "image/png": "[encoded data removed]",
      "text/plain": [
       "<Figure size 640x480 with 1 Axes>"
      ]
     },
     "metadata": {},
     "output_type": "display_data"
    }
   ],
   "source": [
    "import random\n",
    "import pandas as pd\n",
    "import numpy as np\n",
    "from sklearn.model_selection import RepeatedKFold\n",
    "from sklearn.metrics import log_loss\n",
    "import statsmodels.api as sm\n",
    "import dcurves\n",
    "\n",
    "random.seed(112358)\n",
    "\n",
    "df_cancer_dx = \\\n",
    "    pd.read_csv(\n",
    "        \"https://raw.githubusercontent.com/ddsjoberg/dca-tutorial/main/data/df_cancer_dx.csv\"\n",
    "    )\n",
    "\n",
    "# Create a 10-fold cross validation set\n",
    "cv = RepeatedKFold(n_splits=10, n_repeats=25, random_state=112358)\n",
    "\n",
    "# Define the formula (make sure the column names in your DataFrame match these)\n",
    "formula = 'cancer ~ marker + age + famhistory'\n",
    "\n",
    "# Create cross-validation object\n",
    "rkf = RepeatedKFold(n_splits=10, n_repeats=1, random_state=112358)\n",
    "\n",
    "# Placeholder for predictions\n",
    "cv_predictions = []\n",
    "\n",
    "# Perform cross-validation\n",
    "for train_index, test_index in rkf.split(df_cancer_dx):\n",
    "    # Split data into training and test sets\n",
    "    train, test = df_cancer_dx.iloc[train_index], df_cancer_dx.iloc[test_index]\n",
    "\n",
    "    # Fit the model\n",
    "    model = sm.Logit.from_formula(formula, data=train).fit(disp=0)\n",
    "\n",
    "    # Make predictions on the test set\n",
    "    test['cv_prediction'] = model.predict(test)\n",
    "\n",
    "    # Store predictions\n",
    "    cv_predictions.append(test[['patientid', 'cv_prediction']])\n",
    "\n",
    "# Concatenate predictions from all folds\n",
    "df_predictions = pd.concat(cv_predictions)\n",
    "\n",
    "# Calculate mean prediction per patient\n",
    "df_mean_predictions = df_predictions.groupby('patientid')['cv_prediction'].mean().reset_index()\n",
    "\n",
    "# Join with original data\n",
    "df_cv_pred = pd.merge(df_cancer_dx, df_mean_predictions, on='patientid', how='left')\n",
    "\n",
    "# Decision curve analysis\n",
    "# Generate net benefit score for each threshold value\n",
    "df_dca_cv = dcurves.dca(\n",
    "        data=df_cv_pred, modelnames=['cv_prediction'], outcome='cancer'\n",
    "    )\n",
    "# Plot DCA curves\n",
    "dcurves.plot_graphs(plot_df=df_dca_cv, graph_type='net_benefit', y_limits=[-0.01, 0.15], color_names=['blue', 'red', 'green'])"
   ]
  },
  {
   "cell_type": "code",
   "execution_count": null,
   "metadata": {},
   "outputs": [],
   "source": []
  },
  {
   "cell_type": "code",
   "execution_count": null,
   "metadata": {
    "tags": []
   },
   "outputs": [],
   "source": []
  },
  {
   "cell_type": "code",
   "execution_count": null,
   "metadata": {
    "tags": []
   },
   "outputs": [],
   "source": []
  },
  {
   "cell_type": "code",
   "execution_count": null,
   "metadata": {
    "tags": []
   },
   "outputs": [],
   "source": []
  },
  {
   "cell_type": "code",
   "execution_count": null,
   "metadata": {
    "tags": []
   },
   "outputs": [],
   "source": [
    "df_cv_pred"
   ]
  },
  {
   "cell_type": "code",
   "execution_count": null,
   "metadata": {
    "tags": []
   },
   "outputs": [],
   "source": []
  },
  {
   "cell_type": "code",
   "execution_count": null,
   "metadata": {},
   "outputs": [],
   "source": []
  },
  {
   "cell_type": "code",
   "execution_count": null,
   "metadata": {},
   "outputs": [],
   "source": []
  },
  {
   "cell_type": "code",
   "execution_count": null,
   "metadata": {},
   "outputs": [],
   "source": []
  }
 ],
 "metadata": {
  "kernelspec": {
   "display_name": "Python 3 (ipykernel)",
   "language": "python",
   "name": "python3"
  },
  "language_info": {
   "codemirror_mode": {
    "name": "ipython",
    "version": 3
   },
   "file_extension": ".py",
   "mimetype": "text/x-python",
   "name": "python",
   "nbconvert_exporter": "python",
   "pygments_lexer": "ipython3",
   "version": "3.9.18"
  }
 },
 "nbformat": 4,
 "nbformat_minor": 4
}
