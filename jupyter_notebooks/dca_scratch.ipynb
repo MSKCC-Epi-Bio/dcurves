{
 "cells": [
  {
   "cell_type": "code",
   "execution_count": 7,
   "metadata": {},
   "outputs": [],
   "source": [
    "import pandas as pd\n",
    "import sys\n",
    "import dcapy\n",
    "import dcurves"
   ]
  },
  {
   "cell_type": "code",
   "execution_count": null,
   "metadata": {},
   "outputs": [],
   "source": []
  },
  {
   "cell_type": "code",
   "execution_count": 2,
   "metadata": {},
   "outputs": [],
   "source": [
    "abs_path = '/Users/ShaunPorwal/Documents/GitHub/dca.py/data/df_binary.csv'\n",
    "# rel_path = '../Data'\n",
    "df_binary = pd.read_csv(abs_path)"
   ]
  },
  {
   "cell_type": "code",
   "execution_count": 3,
   "metadata": {},
   "outputs": [
    {
     "name": "stdout",
     "output_type": "stream",
     "text": [
      "{'data':      patientid  cancer  dead    risk_group       age  famhistory    marker  \\\n",
      "0            1   False     0           low  64.03445           0  0.776309   \n",
      "1            2   False     0          high  78.46741           0  0.267086   \n",
      "2            3   False     0           low  64.14617           0  0.169621   \n",
      "3            4   False     0           low  58.53482           0  0.023996   \n",
      "4            5   False     0           low  63.99250           0  0.070910   \n",
      "..         ...     ...   ...           ...       ...         ...       ...   \n",
      "745        746   False     0  intermediate  66.09628           0  0.654782   \n",
      "746        747    True     0  intermediate  65.75370           1  1.030259   \n",
      "747        748   False     0  intermediate  70.28287           0  0.151616   \n",
      "748        749   False     1           low  61.32673           0  0.624602   \n",
      "749        750   False     0           low  61.66628           0  0.270679   \n",
      "\n",
      "     cancerpredmarker  \n",
      "0            0.037201  \n",
      "1            0.578907  \n",
      "2            0.021551  \n",
      "3            0.003910  \n",
      "4            0.018790  \n",
      "..                ...  \n",
      "745          0.057813  \n",
      "746          0.160424  \n",
      "747          0.108838  \n",
      "748          0.015285  \n",
      "749          0.011938  \n",
      "\n",
      "[750 rows x 8 columns], 'outcome': 'cancer', 'predictors': ['cancerpredmarker', 'marker'], 'thresh_lo': 0.01, 'thresh_hi': 0.99, 'thresh_step': 0.01, 'probabilities': [False, True], 'harms': None, 'intervention_per': 100}\n",
      "test1\n"
     ]
    },
    {
     "ename": "ValueError",
     "evalue": "'marker' must be between 0 and 1",
     "output_type": "error",
     "traceback": [
      "\u001b[0;31m---------------------------------------------------------------------------\u001b[0m",
      "\u001b[0;31mValueError\u001b[0m                                Traceback (most recent call last)",
      "\u001b[0;32m<ipython-input-3-4d35c73d5c1f>\u001b[0m in \u001b[0;36m<module>\u001b[0;34m\u001b[0m\n\u001b[1;32m      5\u001b[0m                             \u001b[0mthresh_hi\u001b[0m \u001b[0;34m=\u001b[0m \u001b[0;36m0.99\u001b[0m\u001b[0;34m,\u001b[0m\u001b[0;34m\u001b[0m\u001b[0;34m\u001b[0m\u001b[0m\n\u001b[1;32m      6\u001b[0m                             \u001b[0mthresh_step\u001b[0m \u001b[0;34m=\u001b[0m \u001b[0;36m0.01\u001b[0m\u001b[0;34m,\u001b[0m\u001b[0;34m\u001b[0m\u001b[0;34m\u001b[0m\u001b[0m\n\u001b[0;32m----> 7\u001b[0;31m                             probabilities = [False, True])\n\u001b[0m",
      "\u001b[0;32m~/Documents/GitHub/dcapy/dcapy/__init__.py\u001b[0m in \u001b[0;36m__init__\u001b[0;34m(self, algorithm, **kwargs)\u001b[0m\n\u001b[1;32m    121\u001b[0m         \u001b[0;31m# validate the data in each predictor column\u001b[0m\u001b[0;34m\u001b[0m\u001b[0;34m\u001b[0m\u001b[0;34m\u001b[0m\u001b[0m\n\u001b[1;32m    122\u001b[0m         self.data = val.validate_data_predictors(self.data, self.outcome, self.predictors,\n\u001b[0;32m--> 123\u001b[0;31m                                                  self.probabilities)\n\u001b[0m\u001b[1;32m    124\u001b[0m \u001b[0;34m\u001b[0m\u001b[0m\n\u001b[1;32m    125\u001b[0m     \u001b[0;32mdef\u001b[0m \u001b[0masdf\u001b[0m\u001b[0;34m(\u001b[0m\u001b[0mself\u001b[0m\u001b[0;34m)\u001b[0m\u001b[0;34m:\u001b[0m\u001b[0;34m\u001b[0m\u001b[0;34m\u001b[0m\u001b[0m\n",
      "\u001b[0;32m~/Documents/GitHub/dcapy/dcapy/validate.py\u001b[0m in \u001b[0;36mvalidate_data_predictors\u001b[0;34m(data, outcome, predictors, probabilities, survival_time)\u001b[0m\n\u001b[1;32m    356\u001b[0m             \u001b[0;32mif\u001b[0m \u001b[0;34m(\u001b[0m\u001b[0mmax\u001b[0m\u001b[0;34m(\u001b[0m\u001b[0mdata\u001b[0m\u001b[0;34m[\u001b[0m\u001b[0mpredictors\u001b[0m\u001b[0;34m[\u001b[0m\u001b[0mi\u001b[0m\u001b[0;34m]\u001b[0m\u001b[0;34m]\u001b[0m\u001b[0;34m)\u001b[0m \u001b[0;34m>\u001b[0m \u001b[0;36m1\u001b[0m\u001b[0;34m)\u001b[0m \u001b[0;32mor\u001b[0m \u001b[0;34m(\u001b[0m\u001b[0mmin\u001b[0m\u001b[0;34m(\u001b[0m\u001b[0mdata\u001b[0m\u001b[0;34m[\u001b[0m\u001b[0mpredictors\u001b[0m\u001b[0;34m[\u001b[0m\u001b[0mi\u001b[0m\u001b[0;34m]\u001b[0m\u001b[0;34m]\u001b[0m\u001b[0;34m)\u001b[0m \u001b[0;34m<\u001b[0m \u001b[0;36m0\u001b[0m\u001b[0;34m)\u001b[0m\u001b[0;34m:\u001b[0m\u001b[0;34m\u001b[0m\u001b[0;34m\u001b[0m\u001b[0m\n\u001b[1;32m    357\u001b[0m                 raise ValueError(\"{val} must be between 0 and 1\"\n\u001b[0;32m--> 358\u001b[0;31m                                  .format(val=repr(predictors[i])))\n\u001b[0m\u001b[1;32m    359\u001b[0m         \u001b[0;32melse\u001b[0m\u001b[0;34m:\u001b[0m\u001b[0;34m\u001b[0m\u001b[0;34m\u001b[0m\u001b[0m\n\u001b[1;32m    360\u001b[0m             \u001b[0;32mif\u001b[0m \u001b[0msurvival_time\u001b[0m\u001b[0;34m:\u001b[0m\u001b[0;34m\u001b[0m\u001b[0;34m\u001b[0m\u001b[0m\n",
      "\u001b[0;31mValueError\u001b[0m: 'marker' must be between 0 and 1"
     ]
    }
   ],
   "source": [
    "dcapy.DecisionCurveAnalysis(data = df_binary,\n",
    "                            outcome = 'cancer',\n",
    "                            predictors = ['cancerpredmarker', 'marker'],\n",
    "                            thresh_lo = 0.01,\n",
    "                            thresh_hi = 0.99,\n",
    "                            thresh_step = 0.01,\n",
    "                            probabilities = [False, True])"
   ]
  },
  {
   "cell_type": "code",
   "execution_count": null,
   "metadata": {},
   "outputs": [],
   "source": [
    "outcome = ['cancer']\n",
    "predictor = ['cancerpredmarker', 'marker']\n",
    "data = df_binary\n",
    "as_probability = \"marker\"\n",
    "label = {'cancerpredmarker':'Prediction Model', 'marker':'Biomarker'}"
   ]
  },
  {
   "cell_type": "code",
   "execution_count": null,
   "metadata": {},
   "outputs": [],
   "source": [
    "\n",
    "asdf = dcapy.DecisionCurveAnalysis()\n"
   ]
  },
  {
   "cell_type": "code",
   "execution_count": null,
   "metadata": {},
   "outputs": [],
   "source": [
    "def dca(outcome,\n",
    "        predictor,\n",
    "        data,\n",
    "        as_probability,\n",
    "       label\n",
    "       ):\n",
    "    pass\n",
    "    # check DF \n",
    "    # check formula\n"
   ]
  },
  {
   "cell_type": "code",
   "execution_count": null,
   "metadata": {},
   "outputs": [],
   "source": [
    "import dcapy"
   ]
  },
  {
   "cell_type": "code",
   "execution_count": 4,
   "metadata": {},
   "outputs": [],
   "source": [
    "input_dict = {\n",
    "    'data' : df_binary,\n",
    "    'outcome' : 'cancer',\n",
    "    'predictors' : ['cancerpredmarker', 'marker'],\n",
    "    'thresh_lo' : 0.01,\n",
    "    'thresh_hi' : 0.99,\n",
    "    'thresh_step' : 0.01,\n",
    "    'probabilities' : inter,\n",
    "    'harms' : None,\n",
    "    'intervention_per' : 100\n",
    "    }\n"
   ]
  },
  {
   "cell_type": "code",
   "execution_count": 5,
   "metadata": {},
   "outputs": [
    {
     "name": "stdout",
     "output_type": "stream",
     "text": [
      "{'data':      patientid  cancer  dead    risk_group       age  famhistory    marker  \\\n",
      "0            1   False     0           low  64.03445           0  0.776309   \n",
      "1            2   False     0          high  78.46741           0  0.267086   \n",
      "2            3   False     0           low  64.14617           0  0.169621   \n",
      "3            4   False     0           low  58.53482           0  0.023996   \n",
      "4            5   False     0           low  63.99250           0  0.070910   \n",
      "..         ...     ...   ...           ...       ...         ...       ...   \n",
      "745        746   False     0  intermediate  66.09628           0  0.654782   \n",
      "746        747    True     0  intermediate  65.75370           1  1.030259   \n",
      "747        748   False     0  intermediate  70.28287           0  0.151616   \n",
      "748        749   False     1           low  61.32673           0  0.624602   \n",
      "749        750   False     0           low  61.66628           0  0.270679   \n",
      "\n",
      "     cancerpredmarker  \n",
      "0            0.037201  \n",
      "1            0.578907  \n",
      "2            0.021551  \n",
      "3            0.003910  \n",
      "4            0.018790  \n",
      "..                ...  \n",
      "745          0.057813  \n",
      "746          0.160424  \n",
      "747          0.108838  \n",
      "748          0.015285  \n",
      "749          0.011938  \n",
      "\n",
      "[750 rows x 8 columns], 'outcome': 'cancer', 'predictors': ['cancerpredmarker', 'marker'], 'thresh_lo': 0.01, 'thresh_hi': 0.99, 'thresh_step': 0.01, 'probabilities': [False, True], 'harms': None, 'intervention_per': 100}\n",
      "test1\n"
     ]
    },
    {
     "ename": "ValueError",
     "evalue": "'marker' must be between 0 and 1",
     "output_type": "error",
     "traceback": [
      "\u001b[0;31m---------------------------------------------------------------------------\u001b[0m",
      "\u001b[0;31mValueError\u001b[0m                                Traceback (most recent call last)",
      "\u001b[0;32m<ipython-input-5-75c09da24b94>\u001b[0m in \u001b[0;36m<module>\u001b[0;34m\u001b[0m\n\u001b[0;32m----> 1\u001b[0;31m \u001b[0masdf\u001b[0m \u001b[0;34m=\u001b[0m \u001b[0mdcapy\u001b[0m\u001b[0;34m.\u001b[0m\u001b[0mDecisionCurveAnalysis\u001b[0m\u001b[0;34m(\u001b[0m\u001b[0malgorithm\u001b[0m \u001b[0;34m=\u001b[0m \u001b[0;34m'dca'\u001b[0m\u001b[0;34m,\u001b[0m \u001b[0;34m**\u001b[0m\u001b[0minput_dict\u001b[0m\u001b[0;34m)\u001b[0m\u001b[0;34m\u001b[0m\u001b[0;34m\u001b[0m\u001b[0m\n\u001b[0m",
      "\u001b[0;32m~/Documents/GitHub/dcapy/dcapy/__init__.py\u001b[0m in \u001b[0;36m__init__\u001b[0;34m(self, algorithm, **kwargs)\u001b[0m\n\u001b[1;32m    121\u001b[0m         \u001b[0;31m# validate the data in each predictor column\u001b[0m\u001b[0;34m\u001b[0m\u001b[0;34m\u001b[0m\u001b[0;34m\u001b[0m\u001b[0m\n\u001b[1;32m    122\u001b[0m         self.data = val.validate_data_predictors(self.data, self.outcome, self.predictors,\n\u001b[0;32m--> 123\u001b[0;31m                                                  self.probabilities)\n\u001b[0m\u001b[1;32m    124\u001b[0m \u001b[0;34m\u001b[0m\u001b[0m\n\u001b[1;32m    125\u001b[0m     \u001b[0;32mdef\u001b[0m \u001b[0masdf\u001b[0m\u001b[0;34m(\u001b[0m\u001b[0mself\u001b[0m\u001b[0;34m)\u001b[0m\u001b[0;34m:\u001b[0m\u001b[0;34m\u001b[0m\u001b[0;34m\u001b[0m\u001b[0m\n",
      "\u001b[0;32m~/Documents/GitHub/dcapy/dcapy/validate.py\u001b[0m in \u001b[0;36mvalidate_data_predictors\u001b[0;34m(data, outcome, predictors, probabilities, survival_time)\u001b[0m\n\u001b[1;32m    356\u001b[0m             \u001b[0;32mif\u001b[0m \u001b[0;34m(\u001b[0m\u001b[0mmax\u001b[0m\u001b[0;34m(\u001b[0m\u001b[0mdata\u001b[0m\u001b[0;34m[\u001b[0m\u001b[0mpredictors\u001b[0m\u001b[0;34m[\u001b[0m\u001b[0mi\u001b[0m\u001b[0;34m]\u001b[0m\u001b[0;34m]\u001b[0m\u001b[0;34m)\u001b[0m \u001b[0;34m>\u001b[0m \u001b[0;36m1\u001b[0m\u001b[0;34m)\u001b[0m \u001b[0;32mor\u001b[0m \u001b[0;34m(\u001b[0m\u001b[0mmin\u001b[0m\u001b[0;34m(\u001b[0m\u001b[0mdata\u001b[0m\u001b[0;34m[\u001b[0m\u001b[0mpredictors\u001b[0m\u001b[0;34m[\u001b[0m\u001b[0mi\u001b[0m\u001b[0;34m]\u001b[0m\u001b[0;34m]\u001b[0m\u001b[0;34m)\u001b[0m \u001b[0;34m<\u001b[0m \u001b[0;36m0\u001b[0m\u001b[0;34m)\u001b[0m\u001b[0;34m:\u001b[0m\u001b[0;34m\u001b[0m\u001b[0;34m\u001b[0m\u001b[0m\n\u001b[1;32m    357\u001b[0m                 raise ValueError(\"{val} must be between 0 and 1\"\n\u001b[0;32m--> 358\u001b[0;31m                                  .format(val=repr(predictors[i])))\n\u001b[0m\u001b[1;32m    359\u001b[0m         \u001b[0;32melse\u001b[0m\u001b[0;34m:\u001b[0m\u001b[0;34m\u001b[0m\u001b[0;34m\u001b[0m\u001b[0m\n\u001b[1;32m    360\u001b[0m             \u001b[0;32mif\u001b[0m \u001b[0msurvival_time\u001b[0m\u001b[0;34m:\u001b[0m\u001b[0;34m\u001b[0m\u001b[0;34m\u001b[0m\u001b[0m\n",
      "\u001b[0;31mValueError\u001b[0m: 'marker' must be between 0 and 1"
     ]
    }
   ],
   "source": [
    "asdf = dcapy.DecisionCurveAnalysis(algorithm = 'dca', **input_dict)"
   ]
  },
  {
   "cell_type": "code",
   "execution_count": 13,
   "metadata": {},
   "outputs": [
    {
     "name": "stdout",
     "output_type": "stream",
     "text": [
      "{'data':      patientid  cancer  dead    risk_group       age  famhistory    marker  \\\n",
      "0            1   False     0           low  64.03445           0  0.776309   \n",
      "1            2   False     0          high  78.46741           0  0.267086   \n",
      "2            3   False     0           low  64.14617           0  0.169621   \n",
      "3            4   False     0           low  58.53482           0  0.023996   \n",
      "4            5   False     0           low  63.99250           0  0.070910   \n",
      "..         ...     ...   ...           ...       ...         ...       ...   \n",
      "745        746   False     0  intermediate  66.09628           0  0.654782   \n",
      "746        747    True     0  intermediate  65.75370           1  1.030259   \n",
      "747        748   False     0  intermediate  70.28287           0  0.151616   \n",
      "748        749   False     1           low  61.32673           0  0.624602   \n",
      "749        750   False     0           low  61.66628           0  0.270679   \n",
      "\n",
      "     cancerpredmarker  \n",
      "0            0.037201  \n",
      "1            0.578907  \n",
      "2            0.021551  \n",
      "3            0.003910  \n",
      "4            0.018790  \n",
      "..                ...  \n",
      "745          0.057813  \n",
      "746          0.160424  \n",
      "747          0.108838  \n",
      "748          0.015285  \n",
      "749          0.011938  \n",
      "\n",
      "[750 rows x 8 columns], 'outcome': 'cancer', 'predictors': ['cancerpredmarker', 'marker'], 'thresh_lo': 0.01, 'thresh_hi': 0.99, 'thresh_step': 0.01, 'probabilities': [False, False], 'harms': None, 'intervention_per': 100}\n",
      "test1\n"
     ]
    }
   ],
   "source": [
    "asdf = dcapy.DecisionCurveAnalysis(\n",
    "    data = df_binary,\n",
    "    outcome = 'cancer',\n",
    "    predictors = ['cancerpredmarker', 'marker'],\n",
    "    thresh_lo = 0.01,\n",
    "    thresh_hi = 0.99,\n",
    "    thresh_step = 0.01,\n",
    "    probabilities = [False, False],\n",
    "    harms = None,\n",
    "    intervention_per = 100)\n"
   ]
  },
  {
   "cell_type": "code",
   "execution_count": null,
   "metadata": {},
   "outputs": [],
   "source": [
    "asdf = dcapy.DecisionCurveAnalysis()"
   ]
  },
  {
   "cell_type": "code",
   "execution_count": 12,
   "metadata": {},
   "outputs": [
    {
     "name": "stdout",
     "output_type": "stream",
     "text": [
      "0.0005023 to 6.721334\n"
     ]
    }
   ],
   "source": [
    "print(str(df_binary.marker.min()) + ' to ' + str(df_binary.marker.max()))\n",
    "\n"
   ]
  },
  {
   "cell_type": "code",
   "execution_count": null,
   "metadata": {},
   "outputs": [],
   "source": []
  },
  {
   "cell_type": "code",
   "execution_count": 17,
   "metadata": {},
   "outputs": [
    {
     "name": "stderr",
     "output_type": "stream",
     "text": [
      "/opt/anaconda3/lib/python3.7/site-packages/ipykernel_launcher.py:5: ParserWarning: Falling back to the 'python' engine because the 'c' engine does not support regex separators (separators > 1 char and different from '\\s+' are interpreted as regex); you can avoid this warning by specifying engine='python'.\n",
      "  \"\"\"\n"
     ]
    }
   ],
   "source": [
    "import pandas as pd\n",
    "import statsmodels.api as sm\n",
    "\n",
    "cuse = pd.read_table(\"http://data.princeton.edu/wws509/datasets/cuse.dat\",\n",
    "                     sep=\" +\")\n",
    "res = sm.formula.glm(\"using + notUsing ~ C(age, Treatment('<25')) + \"\n",
    "                     \"education + wantsMore\",  family=sm.families.Binomial(), \n",
    "                     data=cuse).fit().predict()\n",
    "#res.summary()"
   ]
  },
  {
   "cell_type": "code",
   "execution_count": 18,
   "metadata": {},
   "outputs": [
    {
     "data": {
      "text/plain": [
       "array([0.12280092, 0.24356834, 0.16230528, 0.30826993, 0.17125089,\n",
       "       0.32216654, 0.22238989, 0.39679475, 0.2577768 , 0.44408457,\n",
       "       0.32463292, 0.52507731, 0.31498181, 0.51400241, 0.3889006 ,\n",
       "       0.59411883])"
      ]
     },
     "execution_count": 18,
     "metadata": {},
     "output_type": "execute_result"
    }
   ],
   "source": [
    "res"
   ]
  },
  {
   "cell_type": "code",
   "execution_count": 15,
   "metadata": {},
   "outputs": [
    {
     "data": {
      "text/html": [
       "<div>\n",
       "<style scoped>\n",
       "    .dataframe tbody tr th:only-of-type {\n",
       "        vertical-align: middle;\n",
       "    }\n",
       "\n",
       "    .dataframe tbody tr th {\n",
       "        vertical-align: top;\n",
       "    }\n",
       "\n",
       "    .dataframe thead th {\n",
       "        text-align: right;\n",
       "    }\n",
       "</style>\n",
       "<table border=\"1\" class=\"dataframe\">\n",
       "  <thead>\n",
       "    <tr style=\"text-align: right;\">\n",
       "      <th></th>\n",
       "      <th>age</th>\n",
       "      <th>education</th>\n",
       "      <th>wantsMore</th>\n",
       "      <th>notUsing</th>\n",
       "      <th>using</th>\n",
       "    </tr>\n",
       "  </thead>\n",
       "  <tbody>\n",
       "    <tr>\n",
       "      <th>0</th>\n",
       "      <td>&lt;25</td>\n",
       "      <td>low</td>\n",
       "      <td>yes</td>\n",
       "      <td>53</td>\n",
       "      <td>6</td>\n",
       "    </tr>\n",
       "    <tr>\n",
       "      <th>1</th>\n",
       "      <td>&lt;25</td>\n",
       "      <td>low</td>\n",
       "      <td>no</td>\n",
       "      <td>10</td>\n",
       "      <td>4</td>\n",
       "    </tr>\n",
       "    <tr>\n",
       "      <th>2</th>\n",
       "      <td>&lt;25</td>\n",
       "      <td>high</td>\n",
       "      <td>yes</td>\n",
       "      <td>212</td>\n",
       "      <td>52</td>\n",
       "    </tr>\n",
       "    <tr>\n",
       "      <th>3</th>\n",
       "      <td>&lt;25</td>\n",
       "      <td>high</td>\n",
       "      <td>no</td>\n",
       "      <td>50</td>\n",
       "      <td>10</td>\n",
       "    </tr>\n",
       "    <tr>\n",
       "      <th>4</th>\n",
       "      <td>25-29</td>\n",
       "      <td>low</td>\n",
       "      <td>yes</td>\n",
       "      <td>60</td>\n",
       "      <td>14</td>\n",
       "    </tr>\n",
       "    <tr>\n",
       "      <th>5</th>\n",
       "      <td>25-29</td>\n",
       "      <td>low</td>\n",
       "      <td>no</td>\n",
       "      <td>19</td>\n",
       "      <td>10</td>\n",
       "    </tr>\n",
       "    <tr>\n",
       "      <th>6</th>\n",
       "      <td>25-29</td>\n",
       "      <td>high</td>\n",
       "      <td>yes</td>\n",
       "      <td>155</td>\n",
       "      <td>54</td>\n",
       "    </tr>\n",
       "    <tr>\n",
       "      <th>7</th>\n",
       "      <td>25-29</td>\n",
       "      <td>high</td>\n",
       "      <td>no</td>\n",
       "      <td>65</td>\n",
       "      <td>27</td>\n",
       "    </tr>\n",
       "    <tr>\n",
       "      <th>8</th>\n",
       "      <td>30-39</td>\n",
       "      <td>low</td>\n",
       "      <td>yes</td>\n",
       "      <td>112</td>\n",
       "      <td>33</td>\n",
       "    </tr>\n",
       "    <tr>\n",
       "      <th>9</th>\n",
       "      <td>30-39</td>\n",
       "      <td>low</td>\n",
       "      <td>no</td>\n",
       "      <td>77</td>\n",
       "      <td>80</td>\n",
       "    </tr>\n",
       "    <tr>\n",
       "      <th>10</th>\n",
       "      <td>30-39</td>\n",
       "      <td>high</td>\n",
       "      <td>yes</td>\n",
       "      <td>118</td>\n",
       "      <td>46</td>\n",
       "    </tr>\n",
       "    <tr>\n",
       "      <th>11</th>\n",
       "      <td>30-39</td>\n",
       "      <td>high</td>\n",
       "      <td>no</td>\n",
       "      <td>68</td>\n",
       "      <td>78</td>\n",
       "    </tr>\n",
       "    <tr>\n",
       "      <th>12</th>\n",
       "      <td>40-49</td>\n",
       "      <td>low</td>\n",
       "      <td>yes</td>\n",
       "      <td>35</td>\n",
       "      <td>6</td>\n",
       "    </tr>\n",
       "    <tr>\n",
       "      <th>13</th>\n",
       "      <td>40-49</td>\n",
       "      <td>low</td>\n",
       "      <td>no</td>\n",
       "      <td>46</td>\n",
       "      <td>48</td>\n",
       "    </tr>\n",
       "    <tr>\n",
       "      <th>14</th>\n",
       "      <td>40-49</td>\n",
       "      <td>high</td>\n",
       "      <td>yes</td>\n",
       "      <td>8</td>\n",
       "      <td>8</td>\n",
       "    </tr>\n",
       "    <tr>\n",
       "      <th>15</th>\n",
       "      <td>40-49</td>\n",
       "      <td>high</td>\n",
       "      <td>no</td>\n",
       "      <td>12</td>\n",
       "      <td>31</td>\n",
       "    </tr>\n",
       "  </tbody>\n",
       "</table>\n",
       "</div>"
      ],
      "text/plain": [
       "      age education wantsMore  notUsing  using\n",
       "0     <25       low       yes        53      6\n",
       "1     <25       low        no        10      4\n",
       "2     <25      high       yes       212     52\n",
       "3     <25      high        no        50     10\n",
       "4   25-29       low       yes        60     14\n",
       "5   25-29       low        no        19     10\n",
       "6   25-29      high       yes       155     54\n",
       "7   25-29      high        no        65     27\n",
       "8   30-39       low       yes       112     33\n",
       "9   30-39       low        no        77     80\n",
       "10  30-39      high       yes       118     46\n",
       "11  30-39      high        no        68     78\n",
       "12  40-49       low       yes        35      6\n",
       "13  40-49       low        no        46     48\n",
       "14  40-49      high       yes         8      8\n",
       "15  40-49      high        no        12     31"
      ]
     },
     "execution_count": 15,
     "metadata": {},
     "output_type": "execute_result"
    }
   ],
   "source": [
    "cuse"
   ]
  },
  {
   "cell_type": "code",
   "execution_count": 1,
   "metadata": {},
   "outputs": [
    {
     "name": "stdout",
     "output_type": "stream",
     "text": [
      "Requirement already satisfied: dcurves in /opt/anaconda3/lib/python3.7/site-packages (0.0.1)\n",
      "Requirement already satisfied: matplotlib in /opt/anaconda3/lib/python3.7/site-packages (from dcurves) (3.1.3)\n",
      "Requirement already satisfied: numpy in /opt/anaconda3/lib/python3.7/site-packages (from dcurves) (1.18.3)\n",
      "Requirement already satisfied: statsmodels in /opt/anaconda3/lib/python3.7/site-packages (from dcurves) (0.11.0)\n",
      "Requirement already satisfied: lifelines in /opt/anaconda3/lib/python3.7/site-packages (from dcurves) (0.26.0)\n",
      "Requirement already satisfied: pandas in /opt/anaconda3/lib/python3.7/site-packages (from dcurves) (1.0.1)\n",
      "Requirement already satisfied: autograd>=1.3 in /opt/anaconda3/lib/python3.7/site-packages (from lifelines->dcurves) (1.3)\n",
      "Requirement already satisfied: scipy>=1.2.0 in /opt/anaconda3/lib/python3.7/site-packages (from lifelines->dcurves) (1.4.1)\n",
      "Requirement already satisfied: autograd-gamma>=0.3 in /opt/anaconda3/lib/python3.7/site-packages (from lifelines->dcurves) (0.5.0)\n",
      "Requirement already satisfied: formulaic<0.3,>=0.2.2 in /opt/anaconda3/lib/python3.7/site-packages (from lifelines->dcurves) (0.2.4)\n",
      "Requirement already satisfied: cycler>=0.10 in /opt/anaconda3/lib/python3.7/site-packages (from matplotlib->dcurves) (0.10.0)\n",
      "Requirement already satisfied: pyparsing!=2.0.4,!=2.1.2,!=2.1.6,>=2.0.1 in /opt/anaconda3/lib/python3.7/site-packages (from matplotlib->dcurves) (2.4.6)\n",
      "Requirement already satisfied: python-dateutil>=2.1 in /opt/anaconda3/lib/python3.7/site-packages (from matplotlib->dcurves) (2.8.1)\n",
      "Requirement already satisfied: kiwisolver>=1.0.1 in /opt/anaconda3/lib/python3.7/site-packages (from matplotlib->dcurves) (1.1.0)\n",
      "Requirement already satisfied: pytz>=2017.2 in /opt/anaconda3/lib/python3.7/site-packages (from pandas->dcurves) (2019.3)\n",
      "Requirement already satisfied: patsy>=0.5 in /opt/anaconda3/lib/python3.7/site-packages (from statsmodels->dcurves) (0.5.1)\n",
      "Requirement already satisfied: future>=0.15.2 in /opt/anaconda3/lib/python3.7/site-packages (from autograd>=1.3->lifelines->dcurves) (0.18.2)\n",
      "Requirement already satisfied: six in /opt/anaconda3/lib/python3.7/site-packages (from cycler>=0.10->matplotlib->dcurves) (1.14.0)\n",
      "Requirement already satisfied: wrapt in /opt/anaconda3/lib/python3.7/site-packages (from formulaic<0.3,>=0.2.2->lifelines->dcurves) (1.11.2)\n",
      "Requirement already satisfied: astor in /opt/anaconda3/lib/python3.7/site-packages (from formulaic<0.3,>=0.2.2->lifelines->dcurves) (0.8.0)\n",
      "Requirement already satisfied: interface-meta>=1.2 in /opt/anaconda3/lib/python3.7/site-packages (from formulaic<0.3,>=0.2.2->lifelines->dcurves) (1.2.3)\n",
      "Requirement already satisfied: setuptools in /Users/ShaunPorwal/.local/lib/python3.7/site-packages (from kiwisolver>=1.0.1->matplotlib->dcurves) (58.0.4)\n"
     ]
    }
   ],
   "source": [
    "! pip install dcurves"
   ]
  },
  {
   "cell_type": "code",
   "execution_count": 3,
   "metadata": {},
   "outputs": [],
   "source": [
    "from dcurves import load_test_data"
   ]
  },
  {
   "cell_type": "code",
   "execution_count": null,
   "metadata": {},
   "outputs": [],
   "source": [
    "dca.dca"
   ]
  },
  {
   "cell_type": "code",
   "execution_count": 6,
   "metadata": {},
   "outputs": [
    {
     "ename": "FileNotFoundError",
     "evalue": "[Errno 2] File /opt/anaconda3/lib/python3.7/site-packages/dcurves/data/df_binary.csv does not exist: '/opt/anaconda3/lib/python3.7/site-packages/dcurves/data/df_binary.csv'",
     "output_type": "error",
     "traceback": [
      "\u001b[0;31m---------------------------------------------------------------------------\u001b[0m",
      "\u001b[0;31mFileNotFoundError\u001b[0m                         Traceback (most recent call last)",
      "\u001b[0;32m<ipython-input-6-6cbd6702361b>\u001b[0m in \u001b[0;36m<module>\u001b[0;34m\u001b[0m\n\u001b[0;32m----> 1\u001b[0;31m \u001b[0mload_test_data\u001b[0m\u001b[0;34m.\u001b[0m\u001b[0mload_binary_df\u001b[0m\u001b[0;34m(\u001b[0m\u001b[0;34m)\u001b[0m\u001b[0;34m\u001b[0m\u001b[0;34m\u001b[0m\u001b[0m\n\u001b[0m",
      "\u001b[0;32m/opt/anaconda3/lib/python3.7/site-packages/dcurves/load_test_data.py\u001b[0m in \u001b[0;36mload_binary_df\u001b[0;34m()\u001b[0m\n\u001b[1;32m     27\u001b[0m \u001b[0;34m\u001b[0m\u001b[0m\n\u001b[1;32m     28\u001b[0m     \u001b[0mdata_path\u001b[0m \u001b[0;34m=\u001b[0m \u001b[0mpath\u001b[0m\u001b[0;34m.\u001b[0m\u001b[0mjoin\u001b[0m\u001b[0;34m(\u001b[0m\u001b[0mresources_dir\u001b[0m\u001b[0;34m,\u001b[0m \u001b[0;34m'df_binary.csv'\u001b[0m\u001b[0;34m)\u001b[0m\u001b[0;34m\u001b[0m\u001b[0;34m\u001b[0m\u001b[0m\n\u001b[0;32m---> 29\u001b[0;31m     \u001b[0mdata\u001b[0m \u001b[0;34m=\u001b[0m \u001b[0mpd\u001b[0m\u001b[0;34m.\u001b[0m\u001b[0mread_csv\u001b[0m\u001b[0;34m(\u001b[0m\u001b[0mdata_path\u001b[0m\u001b[0;34m)\u001b[0m\u001b[0;34m\u001b[0m\u001b[0;34m\u001b[0m\u001b[0m\n\u001b[0m\u001b[1;32m     30\u001b[0m     \u001b[0;32mreturn\u001b[0m \u001b[0mdata\u001b[0m\u001b[0;34m\u001b[0m\u001b[0;34m\u001b[0m\u001b[0m\n\u001b[1;32m     31\u001b[0m     \u001b[0;31m# return print(stream)\u001b[0m\u001b[0;34m\u001b[0m\u001b[0;34m\u001b[0m\u001b[0;34m\u001b[0m\u001b[0m\n",
      "\u001b[0;32m/opt/anaconda3/lib/python3.7/site-packages/pandas/io/parsers.py\u001b[0m in \u001b[0;36mparser_f\u001b[0;34m(filepath_or_buffer, sep, delimiter, header, names, index_col, usecols, squeeze, prefix, mangle_dupe_cols, dtype, engine, converters, true_values, false_values, skipinitialspace, skiprows, skipfooter, nrows, na_values, keep_default_na, na_filter, verbose, skip_blank_lines, parse_dates, infer_datetime_format, keep_date_col, date_parser, dayfirst, cache_dates, iterator, chunksize, compression, thousands, decimal, lineterminator, quotechar, quoting, doublequote, escapechar, comment, encoding, dialect, error_bad_lines, warn_bad_lines, delim_whitespace, low_memory, memory_map, float_precision)\u001b[0m\n\u001b[1;32m    674\u001b[0m         )\n\u001b[1;32m    675\u001b[0m \u001b[0;34m\u001b[0m\u001b[0m\n\u001b[0;32m--> 676\u001b[0;31m         \u001b[0;32mreturn\u001b[0m \u001b[0m_read\u001b[0m\u001b[0;34m(\u001b[0m\u001b[0mfilepath_or_buffer\u001b[0m\u001b[0;34m,\u001b[0m \u001b[0mkwds\u001b[0m\u001b[0;34m)\u001b[0m\u001b[0;34m\u001b[0m\u001b[0;34m\u001b[0m\u001b[0m\n\u001b[0m\u001b[1;32m    677\u001b[0m \u001b[0;34m\u001b[0m\u001b[0m\n\u001b[1;32m    678\u001b[0m     \u001b[0mparser_f\u001b[0m\u001b[0;34m.\u001b[0m\u001b[0m__name__\u001b[0m \u001b[0;34m=\u001b[0m \u001b[0mname\u001b[0m\u001b[0;34m\u001b[0m\u001b[0;34m\u001b[0m\u001b[0m\n",
      "\u001b[0;32m/opt/anaconda3/lib/python3.7/site-packages/pandas/io/parsers.py\u001b[0m in \u001b[0;36m_read\u001b[0;34m(filepath_or_buffer, kwds)\u001b[0m\n\u001b[1;32m    446\u001b[0m \u001b[0;34m\u001b[0m\u001b[0m\n\u001b[1;32m    447\u001b[0m     \u001b[0;31m# Create the parser.\u001b[0m\u001b[0;34m\u001b[0m\u001b[0;34m\u001b[0m\u001b[0;34m\u001b[0m\u001b[0m\n\u001b[0;32m--> 448\u001b[0;31m     \u001b[0mparser\u001b[0m \u001b[0;34m=\u001b[0m \u001b[0mTextFileReader\u001b[0m\u001b[0;34m(\u001b[0m\u001b[0mfp_or_buf\u001b[0m\u001b[0;34m,\u001b[0m \u001b[0;34m**\u001b[0m\u001b[0mkwds\u001b[0m\u001b[0;34m)\u001b[0m\u001b[0;34m\u001b[0m\u001b[0;34m\u001b[0m\u001b[0m\n\u001b[0m\u001b[1;32m    449\u001b[0m \u001b[0;34m\u001b[0m\u001b[0m\n\u001b[1;32m    450\u001b[0m     \u001b[0;32mif\u001b[0m \u001b[0mchunksize\u001b[0m \u001b[0;32mor\u001b[0m \u001b[0miterator\u001b[0m\u001b[0;34m:\u001b[0m\u001b[0;34m\u001b[0m\u001b[0;34m\u001b[0m\u001b[0m\n",
      "\u001b[0;32m/opt/anaconda3/lib/python3.7/site-packages/pandas/io/parsers.py\u001b[0m in \u001b[0;36m__init__\u001b[0;34m(self, f, engine, **kwds)\u001b[0m\n\u001b[1;32m    878\u001b[0m             \u001b[0mself\u001b[0m\u001b[0;34m.\u001b[0m\u001b[0moptions\u001b[0m\u001b[0;34m[\u001b[0m\u001b[0;34m\"has_index_names\"\u001b[0m\u001b[0;34m]\u001b[0m \u001b[0;34m=\u001b[0m \u001b[0mkwds\u001b[0m\u001b[0;34m[\u001b[0m\u001b[0;34m\"has_index_names\"\u001b[0m\u001b[0;34m]\u001b[0m\u001b[0;34m\u001b[0m\u001b[0;34m\u001b[0m\u001b[0m\n\u001b[1;32m    879\u001b[0m \u001b[0;34m\u001b[0m\u001b[0m\n\u001b[0;32m--> 880\u001b[0;31m         \u001b[0mself\u001b[0m\u001b[0;34m.\u001b[0m\u001b[0m_make_engine\u001b[0m\u001b[0;34m(\u001b[0m\u001b[0mself\u001b[0m\u001b[0;34m.\u001b[0m\u001b[0mengine\u001b[0m\u001b[0;34m)\u001b[0m\u001b[0;34m\u001b[0m\u001b[0;34m\u001b[0m\u001b[0m\n\u001b[0m\u001b[1;32m    881\u001b[0m \u001b[0;34m\u001b[0m\u001b[0m\n\u001b[1;32m    882\u001b[0m     \u001b[0;32mdef\u001b[0m \u001b[0mclose\u001b[0m\u001b[0;34m(\u001b[0m\u001b[0mself\u001b[0m\u001b[0;34m)\u001b[0m\u001b[0;34m:\u001b[0m\u001b[0;34m\u001b[0m\u001b[0;34m\u001b[0m\u001b[0m\n",
      "\u001b[0;32m/opt/anaconda3/lib/python3.7/site-packages/pandas/io/parsers.py\u001b[0m in \u001b[0;36m_make_engine\u001b[0;34m(self, engine)\u001b[0m\n\u001b[1;32m   1112\u001b[0m     \u001b[0;32mdef\u001b[0m \u001b[0m_make_engine\u001b[0m\u001b[0;34m(\u001b[0m\u001b[0mself\u001b[0m\u001b[0;34m,\u001b[0m \u001b[0mengine\u001b[0m\u001b[0;34m=\u001b[0m\u001b[0;34m\"c\"\u001b[0m\u001b[0;34m)\u001b[0m\u001b[0;34m:\u001b[0m\u001b[0;34m\u001b[0m\u001b[0;34m\u001b[0m\u001b[0m\n\u001b[1;32m   1113\u001b[0m         \u001b[0;32mif\u001b[0m \u001b[0mengine\u001b[0m \u001b[0;34m==\u001b[0m \u001b[0;34m\"c\"\u001b[0m\u001b[0;34m:\u001b[0m\u001b[0;34m\u001b[0m\u001b[0;34m\u001b[0m\u001b[0m\n\u001b[0;32m-> 1114\u001b[0;31m             \u001b[0mself\u001b[0m\u001b[0;34m.\u001b[0m\u001b[0m_engine\u001b[0m \u001b[0;34m=\u001b[0m \u001b[0mCParserWrapper\u001b[0m\u001b[0;34m(\u001b[0m\u001b[0mself\u001b[0m\u001b[0;34m.\u001b[0m\u001b[0mf\u001b[0m\u001b[0;34m,\u001b[0m \u001b[0;34m**\u001b[0m\u001b[0mself\u001b[0m\u001b[0;34m.\u001b[0m\u001b[0moptions\u001b[0m\u001b[0;34m)\u001b[0m\u001b[0;34m\u001b[0m\u001b[0;34m\u001b[0m\u001b[0m\n\u001b[0m\u001b[1;32m   1115\u001b[0m         \u001b[0;32melse\u001b[0m\u001b[0;34m:\u001b[0m\u001b[0;34m\u001b[0m\u001b[0;34m\u001b[0m\u001b[0m\n\u001b[1;32m   1116\u001b[0m             \u001b[0;32mif\u001b[0m \u001b[0mengine\u001b[0m \u001b[0;34m==\u001b[0m \u001b[0;34m\"python\"\u001b[0m\u001b[0;34m:\u001b[0m\u001b[0;34m\u001b[0m\u001b[0;34m\u001b[0m\u001b[0m\n",
      "\u001b[0;32m/opt/anaconda3/lib/python3.7/site-packages/pandas/io/parsers.py\u001b[0m in \u001b[0;36m__init__\u001b[0;34m(self, src, **kwds)\u001b[0m\n\u001b[1;32m   1889\u001b[0m         \u001b[0mkwds\u001b[0m\u001b[0;34m[\u001b[0m\u001b[0;34m\"usecols\"\u001b[0m\u001b[0;34m]\u001b[0m \u001b[0;34m=\u001b[0m \u001b[0mself\u001b[0m\u001b[0;34m.\u001b[0m\u001b[0musecols\u001b[0m\u001b[0;34m\u001b[0m\u001b[0;34m\u001b[0m\u001b[0m\n\u001b[1;32m   1890\u001b[0m \u001b[0;34m\u001b[0m\u001b[0m\n\u001b[0;32m-> 1891\u001b[0;31m         \u001b[0mself\u001b[0m\u001b[0;34m.\u001b[0m\u001b[0m_reader\u001b[0m \u001b[0;34m=\u001b[0m \u001b[0mparsers\u001b[0m\u001b[0;34m.\u001b[0m\u001b[0mTextReader\u001b[0m\u001b[0;34m(\u001b[0m\u001b[0msrc\u001b[0m\u001b[0;34m,\u001b[0m \u001b[0;34m**\u001b[0m\u001b[0mkwds\u001b[0m\u001b[0;34m)\u001b[0m\u001b[0;34m\u001b[0m\u001b[0;34m\u001b[0m\u001b[0m\n\u001b[0m\u001b[1;32m   1892\u001b[0m         \u001b[0mself\u001b[0m\u001b[0;34m.\u001b[0m\u001b[0munnamed_cols\u001b[0m \u001b[0;34m=\u001b[0m \u001b[0mself\u001b[0m\u001b[0;34m.\u001b[0m\u001b[0m_reader\u001b[0m\u001b[0;34m.\u001b[0m\u001b[0munnamed_cols\u001b[0m\u001b[0;34m\u001b[0m\u001b[0;34m\u001b[0m\u001b[0m\n\u001b[1;32m   1893\u001b[0m \u001b[0;34m\u001b[0m\u001b[0m\n",
      "\u001b[0;32mpandas/_libs/parsers.pyx\u001b[0m in \u001b[0;36mpandas._libs.parsers.TextReader.__cinit__\u001b[0;34m()\u001b[0m\n",
      "\u001b[0;32mpandas/_libs/parsers.pyx\u001b[0m in \u001b[0;36mpandas._libs.parsers.TextReader._setup_parser_source\u001b[0;34m()\u001b[0m\n",
      "\u001b[0;31mFileNotFoundError\u001b[0m: [Errno 2] File /opt/anaconda3/lib/python3.7/site-packages/dcurves/data/df_binary.csv does not exist: '/opt/anaconda3/lib/python3.7/site-packages/dcurves/data/df_binary.csv'"
     ]
    }
   ],
   "source": [
    "load_test_data.load_binary_df()"
   ]
  },
  {
   "cell_type": "code",
   "execution_count": null,
   "metadata": {},
   "outputs": [],
   "source": []
  }
 ],
 "metadata": {
  "kernelspec": {
   "display_name": "Python 3",
   "language": "python",
   "name": "python3"
  },
  "language_info": {
   "codemirror_mode": {
    "name": "ipython",
    "version": 3
   },
   "file_extension": ".py",
   "mimetype": "text/x-python",
   "name": "python",
   "nbconvert_exporter": "python",
   "pygments_lexer": "ipython3",
   "version": "3.7.6"
  }
 },
 "nbformat": 4,
 "nbformat_minor": 4
}
