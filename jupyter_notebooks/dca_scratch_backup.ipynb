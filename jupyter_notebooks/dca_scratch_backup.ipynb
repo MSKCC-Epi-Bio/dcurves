{
 "cells": [
  {
   "cell_type": "code",
   "execution_count": null,
   "metadata": {},
   "outputs": [],
   "source": []
  },
  {
   "cell_type": "code",
   "execution_count": 1,
   "metadata": {},
   "outputs": [],
   "source": [
    "import pandas as pd\n",
    "import numpy as np\n",
    "import os\n",
    "import sys\n",
    "import dcanal\n",
    "import static_frame\n",
    "import statsmodels.api as sm\n",
    "import statsmodels.duration.survfunc as sf\n",
    "import statsmodels.duration.hazard_regression as coxph\n",
    "import lifelines\n",
    "from lifelines.datasets import load_rossi"
   ]
  },
  {
   "cell_type": "code",
   "execution_count": null,
   "metadata": {},
   "outputs": [],
   "source": []
  },
  {
   "cell_type": "code",
   "execution_count": null,
   "metadata": {},
   "outputs": [],
   "source": []
  },
  {
   "cell_type": "code",
   "execution_count": 3,
   "metadata": {},
   "outputs": [],
   "source": [
    "#### Example\n",
    "#### load example data from \n",
    "# rossi = load_rossi()\n",
    "# cph = lifelines.CoxPHFitter()\n",
    "# cph.fit(rossi, 'week', 'arrest')\n",
    "# cph.predict_survival_function(rossi)"
   ]
  },
  {
   "cell_type": "code",
   "execution_count": 4,
   "metadata": {},
   "outputs": [],
   "source": [
    "binary_abs_path = '/Users/ShaunPorwal/Documents/GitHub/dcanal/data/df_binary.csv'\n",
    "surv_abs_path = '/Users/ShaunPorwal/Documents/GitHub/dcanal/data/df_surv.csv'\n",
    "case_control_abs_path = '/Users/ShaunPorwal/Documents/GitHub/dcanal/data/df_case_control.csv'\n",
    "\n",
    "df_binary = pd.read_csv(binary_abs_path)\n",
    "df_surv = pd.read_csv(surv_abs_path)\n",
    "df_case_control = pd.read_csv(case_control_abs_path)"
   ]
  },
  {
   "cell_type": "code",
   "execution_count": 5,
   "metadata": {},
   "outputs": [
    {
     "name": "stderr",
     "output_type": "stream",
     "text": [
      "/opt/anaconda3/lib/python3.7/site-packages/ipykernel_launcher.py:6: SettingWithCopyWarning: \n",
      "A value is trying to be set on a copy of a slice from a DataFrame.\n",
      "Try using .loc[row_indexer,col_indexer] = value instead\n",
      "\n",
      "See the caveats in the documentation: https://pandas.pydata.org/pandas-docs/stable/user_guide/indexing.html#returning-a-view-versus-a-copy\n",
      "  \n"
     ]
    }
   ],
   "source": [
    "cph = lifelines.CoxPHFitter()\n",
    "cph_df = df_surv[['ttcancer','cancer','cancerpredmarker']]\n",
    "cph.fit(cph_df, 'ttcancer', 'cancer')\n",
    "# cph.print_summary()\n",
    "new_cph_df = cph_df\n",
    "new_cph_df['ttcancer'] = [1 for i in range(0,len(cph_df))]\n",
    "cph_pred_vals = cph.predict_survival_function(new_cph_df, times = 1).values[0] #### all values in list of single list, so just dig em out with [0]"
   ]
  },
  {
   "cell_type": "code",
   "execution_count": 6,
   "metadata": {},
   "outputs": [],
   "source": [
    "# pd.Series(cph_pred_vals).describe()"
   ]
  },
  {
   "cell_type": "code",
   "execution_count": 7,
   "metadata": {},
   "outputs": [],
   "source": [
    "# data = df_binary\n",
    "# outcome = 'cancer'\n",
    "# predictors = ['cancerpredmarker', 'marker']\n",
    "# thresh_lo = 0.01\n",
    "# thresh_hi = 0.99\n",
    "# thresh_step = 0.01\n",
    "# probabilities = [False, False]\n",
    "# time = None\n",
    "# prevalence = None\n",
    "# pick_bin_surv = 'binary'"
   ]
  },
  {
   "cell_type": "code",
   "execution_count": 8,
   "metadata": {},
   "outputs": [],
   "source": [
    "\n",
    "def dca(data,\n",
    "       outcome,\n",
    "       predictors,\n",
    "       thresh_lo,\n",
    "       thresh_hi,\n",
    "       thresh_step,\n",
    "       probabilities,\n",
    "       time,\n",
    "       prevalence,\n",
    "       pick_bin_surv):\n",
    "\n",
    "    \n",
    "    \n",
    "    \n",
    "    '''\n",
    "    Sequence of events\n",
    "    1. convert to risk (convert to probabilities)\n",
    "    2. calculate net benefit\n",
    "        a. calculate_test_consequences for each predictor\n",
    "        b. merge all dfs (one for each predictor)\n",
    "        c. calculate net benefit based on other columns \n",
    "            i. nb = tpr - thresh / (1 - thresh) * fpr - harm\n",
    "    '''\n",
    "    \n",
    "    model_frame = data[np.append(outcome, predictors)]\n",
    "\n",
    "    for i in probabilities:\n",
    "        continue\n"
   ]
  },
  {
   "cell_type": "code",
   "execution_count": null,
   "metadata": {},
   "outputs": [],
   "source": []
  },
  {
   "cell_type": "code",
   "execution_count": 9,
   "metadata": {},
   "outputs": [],
   "source": [
    "# binary inputs\n",
    "\n",
    "binary_inputs = {\n",
    "    \n",
    "    'data': df_binary,\n",
    "    'outcome': 'cancer',\n",
    "    'predictors': ['cancerpredmarker', 'marker'],\n",
    "    'thresh_lo': 0.01,\n",
    "    'thresh_hi': 0.99,\n",
    "    'thresh_step': 0.01,\n",
    "    'probabilities': [False, True],\n",
    "    'time': None,\n",
    "    'prevalence': None,\n",
    "    'pick_bin_surv': 'binary'\n",
    "    \n",
    "}\n",
    "\n"
   ]
  },
  {
   "cell_type": "code",
   "execution_count": 10,
   "metadata": {},
   "outputs": [],
   "source": [
    "survival_inputs = {\n",
    "    \n",
    "    'data': df_binary,\n",
    "    'outcome': 'cancer',\n",
    "    'predictors': ['cancerpredmarker', 'marker'],\n",
    "    'thresh_lo': 0.01,\n",
    "    'thresh_hi': 0.99,\n",
    "    'thresh_step': 0.01,\n",
    "    'probabilities': [False, True],\n",
    "    'time': None,\n",
    "    'prevalence': None,\n",
    "    'pick_bin_surv': 'binary'\n",
    "    \n",
    "}"
   ]
  },
  {
   "cell_type": "code",
   "execution_count": 11,
   "metadata": {},
   "outputs": [],
   "source": [
    "# model_frame = data[np.append(outcome, predictors)] # get only cols from data that are in formula\n",
    "# col_to_prob = model_frame.columns[1:][probabilities]\n",
    "    "
   ]
  },
  {
   "cell_type": "code",
   "execution_count": 12,
   "metadata": {},
   "outputs": [],
   "source": [
    "\n",
    "\n",
    "\n",
    "\n",
    "def convert_to_risk(model_frame, outcome, predictor, prevalence, time, pick_bin_surv):\n",
    "    \n",
    "    \"\"\"Converts indicated predictor columns in dataframe into probabilities from 0 to 1\n",
    "    \n",
    "    Parameters\n",
    "    ----------\n",
    "    model_frame : dataframe\n",
    "    outcome : string\n",
    "    predictor : string\n",
    "    prevalence : float\n",
    "    time : float\n",
    "    pick_bin_surv : string\n",
    "    Returns \n",
    "    -------\n",
    "    dataframe\n",
    "    \"\"\"\n",
    "    \n",
    "    if pick_bin_surv == 'binary':\n",
    "        predicted_vals = sm.formula.glm(outcome + '~' + predictor, family=sm.families.Binomial(), \n",
    "                                            data=model_frame).fit().predict()\n",
    "        model_frame[predictor] = predicted_vals\n",
    "        return model_frame\n",
    "    elif pick_bin_surv == 'survival':\n",
    "        #### From lifelines dataframe\n",
    "        cph = lifelines.CoxPHFitter()\n",
    "        cph_df = model_frame[['ttcancer','cancer','cancerpredmarker']]\n",
    "        cph.fit(cph_df, 'ttcancer', 'cancer')\n",
    "        # cph.print_summary()\n",
    "        new_cph_df = cph_df\n",
    "        new_cph_df['ttcancer'] = [time for i in range(0,len(cph_df))]\n",
    "        predicted_vals = cph.predict_survival_function(new_cph_df, times = time).values[0] #### all values in list of single list, so just dig em out with [0]\n",
    "        new_model_frame = model_frame\n",
    "        new_model_frame[predictor] = predicted_vals\n",
    "        return new_model_frame\n"
   ]
  },
  {
   "cell_type": "code",
   "execution_count": 13,
   "metadata": {},
   "outputs": [
    {
     "name": "stderr",
     "output_type": "stream",
     "text": [
      "/opt/anaconda3/lib/python3.7/site-packages/ipykernel_launcher.py:30: SettingWithCopyWarning: \n",
      "A value is trying to be set on a copy of a slice from a DataFrame.\n",
      "Try using .loc[row_indexer,col_indexer] = value instead\n",
      "\n",
      "See the caveats in the documentation: https://pandas.pydata.org/pandas-docs/stable/user_guide/indexing.html#returning-a-view-versus-a-copy\n"
     ]
    }
   ],
   "source": [
    "prob_converted_df = convert_to_risk(model_frame = df_surv, outcome = 'cancer', predictor = 'cancerpredmarker', prevalence = None, time = 1, pick_bin_surv = 'survival')"
   ]
  },
  {
   "cell_type": "code",
   "execution_count": 14,
   "metadata": {},
   "outputs": [
    {
     "data": {
      "text/plain": [
       "count    7.500000e+02\n",
       "mean     8.631214e-01\n",
       "std      2.046330e-01\n",
       "min      3.136229e-07\n",
       "25%      8.934684e-01\n",
       "50%      9.469032e-01\n",
       "75%      9.573278e-01\n",
       "max      9.621212e-01\n",
       "Name: cancerpredmarker, dtype: float64"
      ]
     },
     "execution_count": 14,
     "metadata": {},
     "output_type": "execute_result"
    }
   ],
   "source": [
    "prob_converted_df['cancerpredmarker'].describe()"
   ]
  },
  {
   "cell_type": "code",
   "execution_count": 15,
   "metadata": {},
   "outputs": [
    {
     "ename": "NameError",
     "evalue": "name 'model_frame' is not defined",
     "output_type": "error",
     "traceback": [
      "\u001b[0;31m---------------------------------------------------------------------------\u001b[0m",
      "\u001b[0;31mNameError\u001b[0m                                 Traceback (most recent call last)",
      "\u001b[0;32m<ipython-input-15-06ff2d6c050e>\u001b[0m in \u001b[0;36m<module>\u001b[0;34m\u001b[0m\n\u001b[0;32m----> 1\u001b[0;31m \u001b[0mprob_model_frame\u001b[0m \u001b[0;34m=\u001b[0m \u001b[0mconvert_to_risk\u001b[0m\u001b[0;34m(\u001b[0m\u001b[0mmodel_frame\u001b[0m\u001b[0;34m,\u001b[0m \u001b[0mcol_to_prob\u001b[0m\u001b[0;34m,\u001b[0m \u001b[0moutcome\u001b[0m\u001b[0;34m,\u001b[0m \u001b[0mpick_bin_surv\u001b[0m\u001b[0;34m)\u001b[0m\u001b[0;34m\u001b[0m\u001b[0;34m\u001b[0m\u001b[0m\n\u001b[0m",
      "\u001b[0;31mNameError\u001b[0m: name 'model_frame' is not defined"
     ]
    }
   ],
   "source": [
    "prob_model_frame = convert_to_risk(model_frame, col_to_prob, outcome, pick_bin_surv)"
   ]
  },
  {
   "cell_type": "code",
   "execution_count": 16,
   "metadata": {},
   "outputs": [
    {
     "data": {
      "text/plain": [
       "'cancer'"
      ]
     },
     "execution_count": 16,
     "metadata": {},
     "output_type": "execute_result"
    }
   ],
   "source": [
    "binary_inputs['outcome']"
   ]
  },
  {
   "cell_type": "code",
   "execution_count": 17,
   "metadata": {},
   "outputs": [],
   "source": [
    "model_frame = binary_inputs['data'][np.append(binary_inputs['outcome'], binary_inputs['predictors'])]"
   ]
  },
  {
   "cell_type": "code",
   "execution_count": 18,
   "metadata": {},
   "outputs": [
    {
     "data": {
      "text/html": [
       "<div>\n",
       "<style scoped>\n",
       "    .dataframe tbody tr th:only-of-type {\n",
       "        vertical-align: middle;\n",
       "    }\n",
       "\n",
       "    .dataframe tbody tr th {\n",
       "        vertical-align: top;\n",
       "    }\n",
       "\n",
       "    .dataframe thead th {\n",
       "        text-align: right;\n",
       "    }\n",
       "</style>\n",
       "<table border=\"1\" class=\"dataframe\">\n",
       "  <thead>\n",
       "    <tr style=\"text-align: right;\">\n",
       "      <th></th>\n",
       "      <th>cancer</th>\n",
       "      <th>cancerpredmarker</th>\n",
       "      <th>marker</th>\n",
       "    </tr>\n",
       "  </thead>\n",
       "  <tbody>\n",
       "    <tr>\n",
       "      <th>0</th>\n",
       "      <td>False</td>\n",
       "      <td>0.037201</td>\n",
       "      <td>0.776309</td>\n",
       "    </tr>\n",
       "    <tr>\n",
       "      <th>1</th>\n",
       "      <td>False</td>\n",
       "      <td>0.578907</td>\n",
       "      <td>0.267086</td>\n",
       "    </tr>\n",
       "    <tr>\n",
       "      <th>2</th>\n",
       "      <td>False</td>\n",
       "      <td>0.021551</td>\n",
       "      <td>0.169621</td>\n",
       "    </tr>\n",
       "    <tr>\n",
       "      <th>3</th>\n",
       "      <td>False</td>\n",
       "      <td>0.003910</td>\n",
       "      <td>0.023996</td>\n",
       "    </tr>\n",
       "    <tr>\n",
       "      <th>4</th>\n",
       "      <td>False</td>\n",
       "      <td>0.018790</td>\n",
       "      <td>0.070910</td>\n",
       "    </tr>\n",
       "    <tr>\n",
       "      <th>...</th>\n",
       "      <td>...</td>\n",
       "      <td>...</td>\n",
       "      <td>...</td>\n",
       "    </tr>\n",
       "    <tr>\n",
       "      <th>745</th>\n",
       "      <td>False</td>\n",
       "      <td>0.057813</td>\n",
       "      <td>0.654782</td>\n",
       "    </tr>\n",
       "    <tr>\n",
       "      <th>746</th>\n",
       "      <td>True</td>\n",
       "      <td>0.160424</td>\n",
       "      <td>1.030259</td>\n",
       "    </tr>\n",
       "    <tr>\n",
       "      <th>747</th>\n",
       "      <td>False</td>\n",
       "      <td>0.108838</td>\n",
       "      <td>0.151616</td>\n",
       "    </tr>\n",
       "    <tr>\n",
       "      <th>748</th>\n",
       "      <td>False</td>\n",
       "      <td>0.015285</td>\n",
       "      <td>0.624602</td>\n",
       "    </tr>\n",
       "    <tr>\n",
       "      <th>749</th>\n",
       "      <td>False</td>\n",
       "      <td>0.011938</td>\n",
       "      <td>0.270679</td>\n",
       "    </tr>\n",
       "  </tbody>\n",
       "</table>\n",
       "<p>750 rows × 3 columns</p>\n",
       "</div>"
      ],
      "text/plain": [
       "     cancer  cancerpredmarker    marker\n",
       "0     False          0.037201  0.776309\n",
       "1     False          0.578907  0.267086\n",
       "2     False          0.021551  0.169621\n",
       "3     False          0.003910  0.023996\n",
       "4     False          0.018790  0.070910\n",
       "..      ...               ...       ...\n",
       "745   False          0.057813  0.654782\n",
       "746    True          0.160424  1.030259\n",
       "747   False          0.108838  0.151616\n",
       "748   False          0.015285  0.624602\n",
       "749   False          0.011938  0.270679\n",
       "\n",
       "[750 rows x 3 columns]"
      ]
     },
     "execution_count": 18,
     "metadata": {},
     "output_type": "execute_result"
    }
   ],
   "source": [
    "model_frame"
   ]
  },
  {
   "cell_type": "code",
   "execution_count": 20,
   "metadata": {},
   "outputs": [
    {
     "ename": "NameError",
     "evalue": "name 'outcome_values' is not defined",
     "output_type": "error",
     "traceback": [
      "\u001b[0;31m---------------------------------------------------------------------------\u001b[0m",
      "\u001b[0;31mNameError\u001b[0m                                 Traceback (most recent call last)",
      "\u001b[0;32m<ipython-input-20-fa2c0fc67014>\u001b[0m in \u001b[0;36m<module>\u001b[0;34m\u001b[0m\n\u001b[0;32m----> 1\u001b[0;31m \u001b[0moutcome_values\u001b[0m\u001b[0;34m\u001b[0m\u001b[0;34m\u001b[0m\u001b[0m\n\u001b[0m",
      "\u001b[0;31mNameError\u001b[0m: name 'outcome_values' is not defined"
     ]
    }
   ],
   "source": [
    "outcome_values"
   ]
  },
  {
   "cell_type": "code",
   "execution_count": 57,
   "metadata": {},
   "outputs": [],
   "source": [
    "outcome_values = [val[0] for val in model_frame[[binary_inputs['outcome']]].values]\n",
    "#risk_values = [val[0] for val in model_frame[[predictors[0]]].values] # get values of first predictor, list comprehension to unnest list of lists\n",
    "predictor = 'cancerpredmarker'\n",
    "thresholds = np.arange(binary_inputs['thresh_lo'], binary_inputs['thresh_hi'] + binary_inputs['thresh_step'], binary_inputs['thresh_step']) # array of values\n",
    "# pick_bin_surv: variable that tells us the current setup is for binary or survival\n",
    "prevalence = None\n",
    "time = None"
   ]
  },
  {
   "cell_type": "code",
   "execution_count": 58,
   "metadata": {},
   "outputs": [],
   "source": [
    "thresholds = np.insert(thresholds, 0, 0.1 ** 9)"
   ]
  },
  {
   "cell_type": "code",
   "execution_count": 18,
   "metadata": {},
   "outputs": [
    {
     "data": {
      "text/html": [
       "<div>\n",
       "<style scoped>\n",
       "    .dataframe tbody tr th:only-of-type {\n",
       "        vertical-align: middle;\n",
       "    }\n",
       "\n",
       "    .dataframe tbody tr th {\n",
       "        vertical-align: top;\n",
       "    }\n",
       "\n",
       "    .dataframe thead th {\n",
       "        text-align: right;\n",
       "    }\n",
       "</style>\n",
       "<table border=\"1\" class=\"dataframe\">\n",
       "  <thead>\n",
       "    <tr style=\"text-align: right;\">\n",
       "      <th></th>\n",
       "      <th>patientid</th>\n",
       "      <th>cancer</th>\n",
       "      <th>dead</th>\n",
       "      <th>risk_group</th>\n",
       "      <th>age</th>\n",
       "      <th>famhistory</th>\n",
       "      <th>marker</th>\n",
       "      <th>cancerpredmarker</th>\n",
       "    </tr>\n",
       "  </thead>\n",
       "  <tbody>\n",
       "    <tr>\n",
       "      <th>0</th>\n",
       "      <td>1</td>\n",
       "      <td>False</td>\n",
       "      <td>0</td>\n",
       "      <td>low</td>\n",
       "      <td>64.03445</td>\n",
       "      <td>0</td>\n",
       "      <td>0.776309</td>\n",
       "      <td>0.037201</td>\n",
       "    </tr>\n",
       "    <tr>\n",
       "      <th>1</th>\n",
       "      <td>2</td>\n",
       "      <td>False</td>\n",
       "      <td>0</td>\n",
       "      <td>high</td>\n",
       "      <td>78.46741</td>\n",
       "      <td>0</td>\n",
       "      <td>0.267086</td>\n",
       "      <td>0.578907</td>\n",
       "    </tr>\n",
       "    <tr>\n",
       "      <th>2</th>\n",
       "      <td>3</td>\n",
       "      <td>False</td>\n",
       "      <td>0</td>\n",
       "      <td>low</td>\n",
       "      <td>64.14617</td>\n",
       "      <td>0</td>\n",
       "      <td>0.169621</td>\n",
       "      <td>0.021551</td>\n",
       "    </tr>\n",
       "    <tr>\n",
       "      <th>3</th>\n",
       "      <td>4</td>\n",
       "      <td>False</td>\n",
       "      <td>0</td>\n",
       "      <td>low</td>\n",
       "      <td>58.53482</td>\n",
       "      <td>0</td>\n",
       "      <td>0.023996</td>\n",
       "      <td>0.003910</td>\n",
       "    </tr>\n",
       "    <tr>\n",
       "      <th>4</th>\n",
       "      <td>5</td>\n",
       "      <td>False</td>\n",
       "      <td>0</td>\n",
       "      <td>low</td>\n",
       "      <td>63.99250</td>\n",
       "      <td>0</td>\n",
       "      <td>0.070910</td>\n",
       "      <td>0.018790</td>\n",
       "    </tr>\n",
       "    <tr>\n",
       "      <th>...</th>\n",
       "      <td>...</td>\n",
       "      <td>...</td>\n",
       "      <td>...</td>\n",
       "      <td>...</td>\n",
       "      <td>...</td>\n",
       "      <td>...</td>\n",
       "      <td>...</td>\n",
       "      <td>...</td>\n",
       "    </tr>\n",
       "    <tr>\n",
       "      <th>745</th>\n",
       "      <td>746</td>\n",
       "      <td>False</td>\n",
       "      <td>0</td>\n",
       "      <td>intermediate</td>\n",
       "      <td>66.09628</td>\n",
       "      <td>0</td>\n",
       "      <td>0.654782</td>\n",
       "      <td>0.057813</td>\n",
       "    </tr>\n",
       "    <tr>\n",
       "      <th>746</th>\n",
       "      <td>747</td>\n",
       "      <td>True</td>\n",
       "      <td>0</td>\n",
       "      <td>intermediate</td>\n",
       "      <td>65.75370</td>\n",
       "      <td>1</td>\n",
       "      <td>1.030259</td>\n",
       "      <td>0.160424</td>\n",
       "    </tr>\n",
       "    <tr>\n",
       "      <th>747</th>\n",
       "      <td>748</td>\n",
       "      <td>False</td>\n",
       "      <td>0</td>\n",
       "      <td>intermediate</td>\n",
       "      <td>70.28287</td>\n",
       "      <td>0</td>\n",
       "      <td>0.151616</td>\n",
       "      <td>0.108838</td>\n",
       "    </tr>\n",
       "    <tr>\n",
       "      <th>748</th>\n",
       "      <td>749</td>\n",
       "      <td>False</td>\n",
       "      <td>1</td>\n",
       "      <td>low</td>\n",
       "      <td>61.32673</td>\n",
       "      <td>0</td>\n",
       "      <td>0.624602</td>\n",
       "      <td>0.015285</td>\n",
       "    </tr>\n",
       "    <tr>\n",
       "      <th>749</th>\n",
       "      <td>750</td>\n",
       "      <td>False</td>\n",
       "      <td>0</td>\n",
       "      <td>low</td>\n",
       "      <td>61.66628</td>\n",
       "      <td>0</td>\n",
       "      <td>0.270679</td>\n",
       "      <td>0.011938</td>\n",
       "    </tr>\n",
       "  </tbody>\n",
       "</table>\n",
       "<p>750 rows × 8 columns</p>\n",
       "</div>"
      ],
      "text/plain": [
       "     patientid  cancer  dead    risk_group       age  famhistory    marker  \\\n",
       "0            1   False     0           low  64.03445           0  0.776309   \n",
       "1            2   False     0          high  78.46741           0  0.267086   \n",
       "2            3   False     0           low  64.14617           0  0.169621   \n",
       "3            4   False     0           low  58.53482           0  0.023996   \n",
       "4            5   False     0           low  63.99250           0  0.070910   \n",
       "..         ...     ...   ...           ...       ...         ...       ...   \n",
       "745        746   False     0  intermediate  66.09628           0  0.654782   \n",
       "746        747    True     0  intermediate  65.75370           1  1.030259   \n",
       "747        748   False     0  intermediate  70.28287           0  0.151616   \n",
       "748        749   False     1           low  61.32673           0  0.624602   \n",
       "749        750   False     0           low  61.66628           0  0.270679   \n",
       "\n",
       "     cancerpredmarker  \n",
       "0            0.037201  \n",
       "1            0.578907  \n",
       "2            0.021551  \n",
       "3            0.003910  \n",
       "4            0.018790  \n",
       "..                ...  \n",
       "745          0.057813  \n",
       "746          0.160424  \n",
       "747          0.108838  \n",
       "748          0.015285  \n",
       "749          0.011938  \n",
       "\n",
       "[750 rows x 8 columns]"
      ]
     },
     "execution_count": 18,
     "metadata": {},
     "output_type": "execute_result"
    }
   ],
   "source": [
    "df_binary"
   ]
  },
  {
   "cell_type": "code",
   "execution_count": 59,
   "metadata": {},
   "outputs": [
    {
     "data": {
      "text/plain": [
       "array([1.0e-09, 1.0e-02, 2.0e-02, 3.0e-02, 4.0e-02, 5.0e-02, 6.0e-02,\n",
       "       7.0e-02, 8.0e-02, 9.0e-02, 1.0e-01, 1.1e-01, 1.2e-01, 1.3e-01,\n",
       "       1.4e-01, 1.5e-01, 1.6e-01, 1.7e-01, 1.8e-01, 1.9e-01, 2.0e-01,\n",
       "       2.1e-01, 2.2e-01, 2.3e-01, 2.4e-01, 2.5e-01, 2.6e-01, 2.7e-01,\n",
       "       2.8e-01, 2.9e-01, 3.0e-01, 3.1e-01, 3.2e-01, 3.3e-01, 3.4e-01,\n",
       "       3.5e-01, 3.6e-01, 3.7e-01, 3.8e-01, 3.9e-01, 4.0e-01, 4.1e-01,\n",
       "       4.2e-01, 4.3e-01, 4.4e-01, 4.5e-01, 4.6e-01, 4.7e-01, 4.8e-01,\n",
       "       4.9e-01, 5.0e-01, 5.1e-01, 5.2e-01, 5.3e-01, 5.4e-01, 5.5e-01,\n",
       "       5.6e-01, 5.7e-01, 5.8e-01, 5.9e-01, 6.0e-01, 6.1e-01, 6.2e-01,\n",
       "       6.3e-01, 6.4e-01, 6.5e-01, 6.6e-01, 6.7e-01, 6.8e-01, 6.9e-01,\n",
       "       7.0e-01, 7.1e-01, 7.2e-01, 7.3e-01, 7.4e-01, 7.5e-01, 7.6e-01,\n",
       "       7.7e-01, 7.8e-01, 7.9e-01, 8.0e-01, 8.1e-01, 8.2e-01, 8.3e-01,\n",
       "       8.4e-01, 8.5e-01, 8.6e-01, 8.7e-01, 8.8e-01, 8.9e-01, 9.0e-01,\n",
       "       9.1e-01, 9.2e-01, 9.3e-01, 9.4e-01, 9.5e-01, 9.6e-01, 9.7e-01,\n",
       "       9.8e-01, 9.9e-01])"
      ]
     },
     "execution_count": 59,
     "metadata": {},
     "output_type": "execute_result"
    }
   ],
   "source": [
    "thresholds"
   ]
  },
  {
   "cell_type": "code",
   "execution_count": 46,
   "metadata": {},
   "outputs": [
    {
     "data": {
      "text/plain": [
       "array([1.  , 0.01, 0.02, 0.03, 0.04, 0.05, 0.06, 0.07, 0.08, 0.09, 0.1 ,\n",
       "       0.11, 0.12, 0.13, 0.14, 0.15, 0.16, 0.17, 0.18, 0.19, 0.2 , 0.21,\n",
       "       0.22, 0.23, 0.24, 0.25, 0.26, 0.27, 0.28, 0.29, 0.3 , 0.31, 0.32,\n",
       "       0.33, 0.34, 0.35, 0.36, 0.37, 0.38, 0.39, 0.4 , 0.41, 0.42, 0.43,\n",
       "       0.44, 0.45, 0.46, 0.47, 0.48, 0.49, 0.5 , 0.51, 0.52, 0.53, 0.54,\n",
       "       0.55, 0.56, 0.57, 0.58, 0.59, 0.6 , 0.61, 0.62, 0.63, 0.64, 0.65,\n",
       "       0.66, 0.67, 0.68, 0.69, 0.7 , 0.71, 0.72, 0.73, 0.74, 0.75, 0.76,\n",
       "       0.77, 0.78, 0.79, 0.8 , 0.81, 0.82, 0.83, 0.84, 0.85, 0.86, 0.87,\n",
       "       0.88, 0.89, 0.9 , 0.91, 0.92, 0.93, 0.94, 0.95, 0.96, 0.97, 0.98,\n",
       "       0.99])"
      ]
     },
     "execution_count": 46,
     "metadata": {},
     "output_type": "execute_result"
    }
   ],
   "source": [
    "thresholds"
   ]
  },
  {
   "cell_type": "code",
   "execution_count": null,
   "metadata": {},
   "outputs": [],
   "source": [
    "model_frame[[binary_inputs['outcome']]].values.flatten().tolist()\n"
   ]
  },
  {
   "cell_type": "code",
   "execution_count": 34,
   "metadata": {},
   "outputs": [
    {
     "data": {
      "text/html": [
       "<div>\n",
       "<style scoped>\n",
       "    .dataframe tbody tr th:only-of-type {\n",
       "        vertical-align: middle;\n",
       "    }\n",
       "\n",
       "    .dataframe tbody tr th {\n",
       "        vertical-align: top;\n",
       "    }\n",
       "\n",
       "    .dataframe thead th {\n",
       "        text-align: right;\n",
       "    }\n",
       "</style>\n",
       "<table border=\"1\" class=\"dataframe\">\n",
       "  <thead>\n",
       "    <tr style=\"text-align: right;\">\n",
       "      <th></th>\n",
       "      <th>cancer</th>\n",
       "    </tr>\n",
       "  </thead>\n",
       "  <tbody>\n",
       "    <tr>\n",
       "      <th>0</th>\n",
       "      <td>False</td>\n",
       "    </tr>\n",
       "    <tr>\n",
       "      <th>1</th>\n",
       "      <td>False</td>\n",
       "    </tr>\n",
       "    <tr>\n",
       "      <th>2</th>\n",
       "      <td>False</td>\n",
       "    </tr>\n",
       "    <tr>\n",
       "      <th>3</th>\n",
       "      <td>False</td>\n",
       "    </tr>\n",
       "    <tr>\n",
       "      <th>4</th>\n",
       "      <td>False</td>\n",
       "    </tr>\n",
       "    <tr>\n",
       "      <th>...</th>\n",
       "      <td>...</td>\n",
       "    </tr>\n",
       "    <tr>\n",
       "      <th>745</th>\n",
       "      <td>False</td>\n",
       "    </tr>\n",
       "    <tr>\n",
       "      <th>746</th>\n",
       "      <td>True</td>\n",
       "    </tr>\n",
       "    <tr>\n",
       "      <th>747</th>\n",
       "      <td>False</td>\n",
       "    </tr>\n",
       "    <tr>\n",
       "      <th>748</th>\n",
       "      <td>False</td>\n",
       "    </tr>\n",
       "    <tr>\n",
       "      <th>749</th>\n",
       "      <td>False</td>\n",
       "    </tr>\n",
       "  </tbody>\n",
       "</table>\n",
       "<p>750 rows × 1 columns</p>\n",
       "</div>"
      ],
      "text/plain": [
       "     cancer\n",
       "0     False\n",
       "1     False\n",
       "2     False\n",
       "3     False\n",
       "4     False\n",
       "..      ...\n",
       "745   False\n",
       "746    True\n",
       "747   False\n",
       "748   False\n",
       "749   False\n",
       "\n",
       "[750 rows x 1 columns]"
      ]
     },
     "execution_count": 34,
     "metadata": {},
     "output_type": "execute_result"
    }
   ],
   "source": [
    "model_frame[[binary_inputs['outcome']]]"
   ]
  },
  {
   "cell_type": "code",
   "execution_count": 558,
   "metadata": {},
   "outputs": [],
   "source": [
    "outcome_values = [val[0] for val in model_frame[[binary_inputs['outcome']]].values]\n",
    "#risk_values = [val[0] for val in model_frame[[predictors[0]]].values] # get values of first predictor, list comprehension to unnest list of lists\n",
    "predictor = 'marker'\n",
    "thresholds = np.arange(binary_inputs['thresh_lo'], binary_inputs['thresh_hi'] + binary_inputs['thresh_step'], binary_inputs['thresh_step']) # array of values\n",
    "# pick_bin_surv: variable that tells us the current setup is for binary or survival\n",
    "prevalence = None\n",
    "time = None"
   ]
  },
  {
   "cell_type": "code",
   "execution_count": 559,
   "metadata": {},
   "outputs": [
    {
     "data": {
      "text/plain": [
       "<bound method NDFrame.keys of      patientid  cancer  dead    risk_group       age  famhistory    marker  \\\n",
       "0            1   False     0           low  64.03445           0  0.776309   \n",
       "1            2   False     0          high  78.46741           0  0.267086   \n",
       "2            3   False     0           low  64.14617           0  0.169621   \n",
       "3            4   False     0           low  58.53482           0  0.023996   \n",
       "4            5   False     0           low  63.99250           0  0.070910   \n",
       "..         ...     ...   ...           ...       ...         ...       ...   \n",
       "745        746   False     0  intermediate  66.09628           0  0.654782   \n",
       "746        747    True     0  intermediate  65.75370           1  1.030259   \n",
       "747        748   False     0  intermediate  70.28287           0  0.151616   \n",
       "748        749   False     1           low  61.32673           0  0.624602   \n",
       "749        750   False     0           low  61.66628           0  0.270679   \n",
       "\n",
       "     cancerpredmarker  \n",
       "0            0.037201  \n",
       "1            0.578907  \n",
       "2            0.021551  \n",
       "3            0.003910  \n",
       "4            0.018790  \n",
       "..                ...  \n",
       "745          0.057813  \n",
       "746          0.160424  \n",
       "747          0.108838  \n",
       "748          0.015285  \n",
       "749          0.011938  \n",
       "\n",
       "[750 rows x 8 columns]>"
      ]
     },
     "execution_count": 559,
     "metadata": {},
     "output_type": "execute_result"
    }
   ],
   "source": [
    "df_binary.keys"
   ]
  },
  {
   "cell_type": "code",
   "execution_count": 525,
   "metadata": {},
   "outputs": [
    {
     "data": {
      "text/html": [
       "<div>\n",
       "<style scoped>\n",
       "    .dataframe tbody tr th:only-of-type {\n",
       "        vertical-align: middle;\n",
       "    }\n",
       "\n",
       "    .dataframe tbody tr th {\n",
       "        vertical-align: top;\n",
       "    }\n",
       "\n",
       "    .dataframe thead th {\n",
       "        text-align: right;\n",
       "    }\n",
       "</style>\n",
       "<table border=\"1\" class=\"dataframe\">\n",
       "  <thead>\n",
       "    <tr style=\"text-align: right;\">\n",
       "      <th></th>\n",
       "      <th>patientid</th>\n",
       "      <th>cancer</th>\n",
       "      <th>dead</th>\n",
       "      <th>risk_group</th>\n",
       "      <th>age</th>\n",
       "      <th>famhistory</th>\n",
       "      <th>marker</th>\n",
       "      <th>cancerpredmarker</th>\n",
       "    </tr>\n",
       "  </thead>\n",
       "  <tbody>\n",
       "    <tr>\n",
       "      <th>0</th>\n",
       "      <td>1</td>\n",
       "      <td>False</td>\n",
       "      <td>0</td>\n",
       "      <td>low</td>\n",
       "      <td>64.03445</td>\n",
       "      <td>0</td>\n",
       "      <td>0.776309</td>\n",
       "      <td>0.037201</td>\n",
       "    </tr>\n",
       "    <tr>\n",
       "      <th>1</th>\n",
       "      <td>2</td>\n",
       "      <td>False</td>\n",
       "      <td>0</td>\n",
       "      <td>high</td>\n",
       "      <td>78.46741</td>\n",
       "      <td>0</td>\n",
       "      <td>0.267086</td>\n",
       "      <td>0.578907</td>\n",
       "    </tr>\n",
       "    <tr>\n",
       "      <th>2</th>\n",
       "      <td>3</td>\n",
       "      <td>False</td>\n",
       "      <td>0</td>\n",
       "      <td>low</td>\n",
       "      <td>64.14617</td>\n",
       "      <td>0</td>\n",
       "      <td>0.169621</td>\n",
       "      <td>0.021551</td>\n",
       "    </tr>\n",
       "    <tr>\n",
       "      <th>3</th>\n",
       "      <td>4</td>\n",
       "      <td>False</td>\n",
       "      <td>0</td>\n",
       "      <td>low</td>\n",
       "      <td>58.53482</td>\n",
       "      <td>0</td>\n",
       "      <td>0.023996</td>\n",
       "      <td>0.003910</td>\n",
       "    </tr>\n",
       "    <tr>\n",
       "      <th>4</th>\n",
       "      <td>5</td>\n",
       "      <td>False</td>\n",
       "      <td>0</td>\n",
       "      <td>low</td>\n",
       "      <td>63.99250</td>\n",
       "      <td>0</td>\n",
       "      <td>0.070910</td>\n",
       "      <td>0.018790</td>\n",
       "    </tr>\n",
       "    <tr>\n",
       "      <th>...</th>\n",
       "      <td>...</td>\n",
       "      <td>...</td>\n",
       "      <td>...</td>\n",
       "      <td>...</td>\n",
       "      <td>...</td>\n",
       "      <td>...</td>\n",
       "      <td>...</td>\n",
       "      <td>...</td>\n",
       "    </tr>\n",
       "    <tr>\n",
       "      <th>745</th>\n",
       "      <td>746</td>\n",
       "      <td>False</td>\n",
       "      <td>0</td>\n",
       "      <td>intermediate</td>\n",
       "      <td>66.09628</td>\n",
       "      <td>0</td>\n",
       "      <td>0.654782</td>\n",
       "      <td>0.057813</td>\n",
       "    </tr>\n",
       "    <tr>\n",
       "      <th>746</th>\n",
       "      <td>747</td>\n",
       "      <td>True</td>\n",
       "      <td>0</td>\n",
       "      <td>intermediate</td>\n",
       "      <td>65.75370</td>\n",
       "      <td>1</td>\n",
       "      <td>1.030259</td>\n",
       "      <td>0.160424</td>\n",
       "    </tr>\n",
       "    <tr>\n",
       "      <th>747</th>\n",
       "      <td>748</td>\n",
       "      <td>False</td>\n",
       "      <td>0</td>\n",
       "      <td>intermediate</td>\n",
       "      <td>70.28287</td>\n",
       "      <td>0</td>\n",
       "      <td>0.151616</td>\n",
       "      <td>0.108838</td>\n",
       "    </tr>\n",
       "    <tr>\n",
       "      <th>748</th>\n",
       "      <td>749</td>\n",
       "      <td>False</td>\n",
       "      <td>1</td>\n",
       "      <td>low</td>\n",
       "      <td>61.32673</td>\n",
       "      <td>0</td>\n",
       "      <td>0.624602</td>\n",
       "      <td>0.015285</td>\n",
       "    </tr>\n",
       "    <tr>\n",
       "      <th>749</th>\n",
       "      <td>750</td>\n",
       "      <td>False</td>\n",
       "      <td>0</td>\n",
       "      <td>low</td>\n",
       "      <td>61.66628</td>\n",
       "      <td>0</td>\n",
       "      <td>0.270679</td>\n",
       "      <td>0.011938</td>\n",
       "    </tr>\n",
       "  </tbody>\n",
       "</table>\n",
       "<p>750 rows × 8 columns</p>\n",
       "</div>"
      ],
      "text/plain": [
       "     patientid  cancer  dead    risk_group       age  famhistory    marker  \\\n",
       "0            1   False     0           low  64.03445           0  0.776309   \n",
       "1            2   False     0          high  78.46741           0  0.267086   \n",
       "2            3   False     0           low  64.14617           0  0.169621   \n",
       "3            4   False     0           low  58.53482           0  0.023996   \n",
       "4            5   False     0           low  63.99250           0  0.070910   \n",
       "..         ...     ...   ...           ...       ...         ...       ...   \n",
       "745        746   False     0  intermediate  66.09628           0  0.654782   \n",
       "746        747    True     0  intermediate  65.75370           1  1.030259   \n",
       "747        748   False     0  intermediate  70.28287           0  0.151616   \n",
       "748        749   False     1           low  61.32673           0  0.624602   \n",
       "749        750   False     0           low  61.66628           0  0.270679   \n",
       "\n",
       "     cancerpredmarker  \n",
       "0            0.037201  \n",
       "1            0.578907  \n",
       "2            0.021551  \n",
       "3            0.003910  \n",
       "4            0.018790  \n",
       "..                ...  \n",
       "745          0.057813  \n",
       "746          0.160424  \n",
       "747          0.108838  \n",
       "748          0.015285  \n",
       "749          0.011938  \n",
       "\n",
       "[750 rows x 8 columns]"
      ]
     },
     "execution_count": 525,
     "metadata": {},
     "output_type": "execute_result"
    }
   ],
   "source": [
    "df_binary"
   ]
  },
  {
   "cell_type": "code",
   "execution_count": 550,
   "metadata": {},
   "outputs": [],
   "source": [
    "n = len(outcome_values)\n",
    "#df = pd.DataFrame({'threshold' : thresholds, 'n' : [n] * len(thresholds)})"
   ]
  },
  {
   "cell_type": "code",
   "execution_count": 1,
   "metadata": {},
   "outputs": [
    {
     "ename": "NameError",
     "evalue": "name 'pd' is not defined",
     "output_type": "error",
     "traceback": [
      "\u001b[0;31m---------------------------------------------------------------------------\u001b[0m",
      "\u001b[0;31mNameError\u001b[0m                                 Traceback (most recent call last)",
      "\u001b[0;32m<ipython-input-1-7e0ac95d5cb2>\u001b[0m in \u001b[0;36m<module>\u001b[0;34m\u001b[0m\n\u001b[0;32m----> 1\u001b[0;31m \u001b[0mprevalence_values\u001b[0m \u001b[0;34m=\u001b[0m \u001b[0;34m[\u001b[0m\u001b[0mpd\u001b[0m\u001b[0;34m.\u001b[0m\u001b[0mSeries\u001b[0m\u001b[0;34m(\u001b[0m\u001b[0moutcome_values\u001b[0m\u001b[0;34m)\u001b[0m\u001b[0;34m.\u001b[0m\u001b[0mvalue_counts\u001b[0m\u001b[0;34m(\u001b[0m\u001b[0;34m)\u001b[0m\u001b[0;34m[\u001b[0m\u001b[0;36m1\u001b[0m\u001b[0;34m]\u001b[0m \u001b[0;34m/\u001b[0m \u001b[0mlen\u001b[0m\u001b[0;34m(\u001b[0m\u001b[0moutcome_values\u001b[0m\u001b[0;34m)\u001b[0m\u001b[0;34m]\u001b[0m \u001b[0;34m*\u001b[0m \u001b[0mlen\u001b[0m\u001b[0;34m(\u001b[0m\u001b[0mthresholds\u001b[0m\u001b[0;34m)\u001b[0m\u001b[0;34m\u001b[0m\u001b[0;34m\u001b[0m\u001b[0m\n\u001b[0m",
      "\u001b[0;31mNameError\u001b[0m: name 'pd' is not defined"
     ]
    }
   ],
   "source": [
    "prevalence_values = [pd.Series(outcome_values).value_counts()[1] / len(outcome_values)] * len(thresholds)\n"
   ]
  },
  {
   "cell_type": "code",
   "execution_count": 552,
   "metadata": {},
   "outputs": [],
   "source": [
    "#### Typical binary prevalence\n",
    "#df.append({'prevalence' : prevalence_values})\n",
    "df = pd.DataFrame({'threshold' : thresholds, 'n' : [n] * len(thresholds), 'prevalence' : prevalence_values})\n"
   ]
  },
  {
   "cell_type": "code",
   "execution_count": 560,
   "metadata": {},
   "outputs": [],
   "source": [
    "#### If outcome is binary,\n",
    "\n",
    "# Get test_pos_rate\n",
    "count = 0\n",
    "true_outcome = df_binary[df_binary['cancer'] == True][[predictor]]\n",
    "false_outcome = df_binary[df_binary['cancer'] == False][[predictor]]\n",
    "test_pos_rate = []\n",
    "tp_rate = []\n",
    "fp_rate = []\n",
    "\n",
    "for (threshold,prevalence) in zip(thresholds,prevalence_values):\n",
    "    count += 1\n",
    "    #print('iteration: ' + str(count))\n",
    "    \n",
    "    test_pos_rate.append(pd.Series(df_binary[predictor] >= threshold).value_counts()[1]/750)\n",
    "    \n",
    "    #### Indexing [1] doesn't work w/ value_counts since only 1 index ([0]), so [1] returns an error\n",
    "    #### Have to try/except this so that when indexing doesn't work, can input 0\n",
    "    \n",
    "    try:\n",
    "        tp_rate.append(pd.Series(true_outcome[predictor] >= threshold).value_counts()[1]/len(true_outcome[predictor])*(prevalence))\n",
    "    except KeyError:\n",
    "        tp_rate.append(0/len(true_outcome[predictor])*(prevalence))\n",
    "    \n",
    "    try:\n",
    "        fp_rate.append(pd.Series(false_outcome[predictor] >= threshold).value_counts()[1]/len(false_outcome[predictor])*(1-prevalence))\n",
    "    except KeyError:\n",
    "        fp_rate.append(0/len(false_outcome[predictor])*(1-prevalence))\n",
    "\n"
   ]
  },
  {
   "cell_type": "code",
   "execution_count": 564,
   "metadata": {},
   "outputs": [],
   "source": [
    "df['tpr'] = tp_rate"
   ]
  },
  {
   "cell_type": "code",
   "execution_count": 566,
   "metadata": {},
   "outputs": [],
   "source": [
    "df['fpr'] = fp_rate"
   ]
  },
  {
   "cell_type": "code",
   "execution_count": null,
   "metadata": {},
   "outputs": [],
   "source": []
  }
 ],
 "metadata": {
  "kernelspec": {
   "display_name": "Python 3",
   "language": "python",
   "name": "python3"
  },
  "language_info": {
   "codemirror_mode": {
    "name": "ipython",
    "version": 3
   },
   "file_extension": ".py",
   "mimetype": "text/x-python",
   "name": "python",
   "nbconvert_exporter": "python",
   "pygments_lexer": "ipython3",
   "version": "3.7.6"
  }
 },
 "nbformat": 4,
 "nbformat_minor": 4
}
