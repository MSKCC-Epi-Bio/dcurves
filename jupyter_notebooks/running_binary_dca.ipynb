{
 "cells": [
  {
   "cell_type": "raw",
   "metadata": {},
   "source": [
    "Run DCA algorithm on data with binary outcome"
   ]
  },
  {
   "cell_type": "raw",
   "metadata": {},
   "source": [
    "Load Dependencies"
   ]
  },
  {
   "cell_type": "code",
   "execution_count": 1,
   "metadata": {},
   "outputs": [],
   "source": [
    "import pandas as pd\n",
    "import numpy as np\n",
    "import statsmodels.api as sm\n",
    "import statsmodels.duration.hazard_regression as coxph\n",
    "import lifelines\n",
    "import matplotlib.pyplot as plt\n",
    "from dcurves.load_test_data import load_binary_df\n",
    "from dcurves.binary_dca import binary_dca, _binary_convert_to_risk, _binary_calculate_test_consequences\n",
    "from dcurves.surv_dca import surv_dca, _surv_convert_to_risk, _surv_calculate_test_consequences"
   ]
  },
  {
   "cell_type": "raw",
   "metadata": {},
   "source": [
    "Set Max DataFrame Output To 500 Lines"
   ]
  },
  {
   "cell_type": "code",
   "execution_count": 2,
   "metadata": {},
   "outputs": [],
   "source": [
    "pd.set_option('display.max_rows', 500)"
   ]
  },
  {
   "cell_type": "raw",
   "metadata": {},
   "source": [
    "Load Simulation Data"
   ]
  },
  {
   "cell_type": "code",
   "execution_count": 3,
   "metadata": {},
   "outputs": [],
   "source": [
    "df_binary = load_binary_df()"
   ]
  },
  {
   "cell_type": "code",
   "execution_count": 4,
   "metadata": {},
   "outputs": [
    {
     "data": {
      "text/plain": [
       "Index(['patientid', 'cancer', 'dead', 'risk_group', 'age', 'famhistory',\n",
       "       'marker', 'cancerpredmarker'],\n",
       "      dtype='object')"
      ]
     },
     "execution_count": 4,
     "metadata": {},
     "output_type": "execute_result"
    }
   ],
   "source": [
    "df_binary.columns"
   ]
  },
  {
   "cell_type": "code",
   "execution_count": 5,
   "metadata": {},
   "outputs": [
    {
     "data": {
      "text/plain": [
       "True"
      ]
     },
     "execution_count": 5,
     "metadata": {},
     "output_type": "execute_result"
    }
   ],
   "source": [
    "'patientid' in df_binary.columns"
   ]
  },
  {
   "cell_type": "raw",
   "metadata": {},
   "source": [
    "Run Dcurves DCA Function On Binary Outcome DataFrame"
   ]
  },
  {
   "cell_type": "code",
   "execution_count": null,
   "metadata": {},
   "outputs": [],
   "source": [
    "binary_output_df = binary_dca(\n",
    "        data = df_binary,\n",
    "        outcome = 'cancer',\n",
    "        predictors = ['cancerpredmarker', 'marker'],\n",
    "        thresh_vals = [0.01, 1.0, 0.01],\n",
    "        probabilities = [False, True]\n",
    ")\n",
    "binary_output_df"
   ]
  },
  {
   "cell_type": "raw",
   "metadata": {},
   "source": [
    "Run Dcurves DCA Function On Binary Outcome DataFrame #2"
   ]
  },
  {
   "cell_type": "code",
   "execution_count": null,
   "metadata": {},
   "outputs": [],
   "source": [
    "dan_test_output_df = dcurves.dca(\n",
    "    data = df_cancer_dx,\n",
    "    outcome = 'cancer',\n",
    "    predictors = ['famhistory'],\n",
    "    thresh_vals = [0.01, 1.0, 0.01],\n",
    "    probabilities = [False]\n",
    ")\n"
   ]
  },
  {
   "cell_type": "raw",
   "metadata": {},
   "source": [
    "Plot Binary Outcomes DCA On Binary Outcome DataFrame #1"
   ]
  },
  {
   "cell_type": "code",
   "execution_count": null,
   "metadata": {},
   "outputs": [],
   "source": [
    "dcurves.plot_graphs(after_dca_df=binary_output_df,\n",
    "                    graph_type='net_benefit',\n",
    "                    y_limits=[-0.05, 0.2],\n",
    "                    color_names=['lightgreen', 'blue', 'red', 'black'])"
   ]
  },
  {
   "cell_type": "code",
   "execution_count": null,
   "metadata": {},
   "outputs": [],
   "source": [
    "after_nia_df = dcurves.net_intervention_avoided(after_dca_df=binary_output_df)"
   ]
  },
  {
   "cell_type": "code",
   "execution_count": null,
   "metadata": {},
   "outputs": [],
   "source": [
    "dcurves.plot_graphs(after_dca_df=after_nia_df,\n",
    "                    graph_type='net_intervention_avoided',\n",
    "                    y_limits=[-10, 100],\n",
    "                    color_names=['red', 'teal'])"
   ]
  },
  {
   "cell_type": "code",
   "execution_count": null,
   "metadata": {},
   "outputs": [],
   "source": [
    "    \n",
    "plot_graphs(after_dca_df = after_net_interventions_avoided_df,\n",
    "graph_type='net_intervention_avoided',\n",
    "y_limits=[-10,100],\n",
    "color_names=['red','teal'])"
   ]
  },
  {
   "cell_type": "code",
   "execution_count": null,
   "metadata": {},
   "outputs": [],
   "source": [
    "df_binary = dcurves.load_test_data.load_binary_df()\n",
    "after_dca_df = dcurves.dca(\n",
    "    data = df_binary,\n",
    "    outcome = 'cancer',\n",
    "    predictors = ['famhistory'],\n",
    "    probabilities = [False]\n",
    "    \n",
    "    )\n",
    "\n",
    "after_net_interventions_avoided_df = dcurves.net_intervention_avoided(\n",
    "    after_dca_df=after_dca_df)\n",
    "\n",
    "dcurves.plot_graphs(\n",
    "    after_dca_df = after_net_interventions_avoided_df,\n",
    "    graph_type='net_intervention_avoided',\n",
    "    y_limits=[-10,100],\n",
    "    color_names=['red','teal']\n",
    ")\n"
   ]
  },
  {
   "cell_type": "code",
   "execution_count": null,
   "metadata": {},
   "outputs": [],
   "source": [
    "help(dcurves.net_intervention_avoided)"
   ]
  },
  {
   "cell_type": "raw",
   "metadata": {},
   "source": [
    "Plot Binary Outcomes #2 DCA"
   ]
  },
  {
   "cell_type": "code",
   "execution_count": null,
   "metadata": {},
   "outputs": [],
   "source": [
    "dcurves.plot_graphs(dan_test_output_df)"
   ]
  },
  {
   "cell_type": "code",
   "execution_count": null,
   "metadata": {},
   "outputs": [],
   "source": [
    "# View DCA function Help Information"
   ]
  },
  {
   "cell_type": "code",
   "execution_count": null,
   "metadata": {},
   "outputs": [],
   "source": []
  }
 ],
 "metadata": {
  "kernelspec": {
   "display_name": "Python 3",
   "language": "python",
   "name": "python3"
  },
  "language_info": {
   "codemirror_mode": {
    "name": "ipython",
    "version": 3
   },
   "file_extension": ".py",
   "mimetype": "text/x-python",
   "name": "python",
   "nbconvert_exporter": "python",
   "pygments_lexer": "ipython3",
   "version": "3.7.6"
  }
 },
 "nbformat": 4,
 "nbformat_minor": 4
}
