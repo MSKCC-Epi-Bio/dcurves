{
 "cells": [
  {
   "cell_type": "raw",
   "metadata": {},
   "source": [
    "running_dcurves_package"
   ]
  },
  {
   "cell_type": "code",
   "execution_count": 1,
   "metadata": {},
   "outputs": [],
   "source": [
    "import pandas as pd\n",
    "import numpy as np\n",
    "import statsmodels.api as sm\n",
    "import statsmodels.duration.hazard_regression as coxph\n",
    "import lifelines\n",
    "#from lifelines.datasets import load_rossi\n",
    "import matplotlib.pyplot as plt\n",
    "import dcurves"
   ]
  },
  {
   "cell_type": "code",
   "execution_count": null,
   "metadata": {},
   "outputs": [],
   "source": []
  },
  {
   "cell_type": "code",
   "execution_count": 2,
   "metadata": {},
   "outputs": [],
   "source": [
    "pd.set_option('display.max_rows', 500)\n"
   ]
  },
  {
   "cell_type": "code",
   "execution_count": 5,
   "metadata": {},
   "outputs": [],
   "source": [
    "df_binary = dcurves.load_test_data.load_binary_df()\n",
    "df_surv = dcurves.load_test_data.load_survival_df\n",
    "df_case_control = dcurves.load_test_data.load_case_control_df()\n",
    "df_dan_test = dcurves.load_test_data.load_cancerdx_df()"
   ]
  },
  {
   "cell_type": "code",
   "execution_count": 6,
   "metadata": {},
   "outputs": [
    {
     "name": "stdout",
     "output_type": "stream",
     "text": [
      "     patientid  cancer  dead    risk_group       age  famhistory    marker  \\\n",
      "0            1   False     0           low  64.03445           0  0.776309   \n",
      "1            2   False     0          high  78.46741           0  0.267086   \n",
      "2            3   False     0           low  64.14617           0  0.169621   \n",
      "3            4   False     0           low  58.53482           0  0.023996   \n",
      "4            5   False     0           low  63.99250           0  0.070910   \n",
      "..         ...     ...   ...           ...       ...         ...       ...   \n",
      "745        746   False     0  intermediate  66.09628           0  0.654782   \n",
      "746        747    True     0  intermediate  65.75370           1  1.030259   \n",
      "747        748   False     0  intermediate  70.28287           0  0.151616   \n",
      "748        749   False     1           low  61.32673           0  0.624602   \n",
      "749        750   False     0           low  61.66628           0  0.270679   \n",
      "\n",
      "     cancerpredmarker  \n",
      "0            0.037201  \n",
      "1            0.578907  \n",
      "2            0.021551  \n",
      "3            0.003910  \n",
      "4            0.018790  \n",
      "..                ...  \n",
      "745          0.057813  \n",
      "746          0.160424  \n",
      "747          0.108838  \n",
      "748          0.015285  \n",
      "749          0.011938  \n",
      "\n",
      "[750 rows x 8 columns]\n"
     ]
    }
   ],
   "source": [
    "print(df_binary)"
   ]
  },
  {
   "cell_type": "code",
   "execution_count": 5,
   "metadata": {},
   "outputs": [],
   "source": [
    "# binary inputs\n",
    "\n",
    "binary_inputs = {\n",
    "    'data': df_binary,\n",
    "    'outcome': 'cancer',\n",
    "    'predictors': ['cancerpredmarker', 'marker'],\n",
    "    'thresh_lo': 0.01,\n",
    "    'thresh_hi': 0.35,\n",
    "    'thresh_step': 0.01,\n",
    "    'harm': None,\n",
    "    'probabilities': [False, True],\n",
    "    'time': None,\n",
    "    'prevalence': None,\n",
    "    'time_to_outcome_col': None\n",
    "}\n",
    "\n",
    "survival_inputs = {\n",
    "    'data': df_surv,\n",
    "    'outcome': 'cancer',\n",
    "    'predictors': ['cancerpredmarker'],\n",
    "    'thresh_lo': 0.01,\n",
    "    'thresh_hi': 0.50,\n",
    "    'thresh_step': 0.01,\n",
    "    'harm': None,\n",
    "    'probabilities': [False],\n",
    "    'time': 1,\n",
    "    'prevalence': None,\n",
    "    'time_to_outcome_col': 'ttcancer'\n",
    "}\n",
    "\n",
    "dan_test_inputs = {\n",
    "    'data': df_dan_test,\n",
    "    'outcome': 'cancer',\n",
    "    'predictors': ['famhistory'],\n",
    "    'thresh_lo': 0.01,\n",
    "    'thresh_hi': 1,\n",
    "    'thresh_step': 0.01,\n",
    "    'harm': None,\n",
    "    'probabilities': [False],\n",
    "    'time': None,\n",
    "    'prevalence': None,\n",
    "    'time_to_outcome_col': None\n",
    "}"
   ]
  },
  {
   "cell_type": "code",
   "execution_count": 7,
   "metadata": {},
   "outputs": [],
   "source": [
    "binary_output_df = dcurves.dca(data = binary_inputs['data'],\n",
    "        outcome = binary_inputs['outcome'],\n",
    "        predictors = binary_inputs['predictors'],\n",
    "        thresh_lo = binary_inputs['thresh_lo'],\n",
    "        thresh_hi = binary_inputs['thresh_hi'],\n",
    "        thresh_step = binary_inputs['thresh_step'],\n",
    "        harm = binary_inputs['harm'],\n",
    "        probabilities = binary_inputs['probabilities'],\n",
    "        time = binary_inputs['time'],\n",
    "        prevalence = binary_inputs['prevalence'],\n",
    "        time_to_outcome_col = binary_inputs['time_to_outcome_col'])"
   ]
  },
  {
   "cell_type": "code",
   "execution_count": 8,
   "metadata": {},
   "outputs": [],
   "source": [
    "survival_output_df = dcurves.dca(data = survival_inputs['data'],\n",
    "        outcome = survival_inputs['outcome'],\n",
    "        predictors = survival_inputs['predictors'],\n",
    "        thresh_lo = survival_inputs['thresh_lo'],\n",
    "        thresh_hi = survival_inputs['thresh_hi'],\n",
    "        thresh_step = survival_inputs['thresh_step'],\n",
    "        harm = survival_inputs['harm'],\n",
    "        probabilities = survival_inputs['probabilities'],\n",
    "        time = survival_inputs['time'],\n",
    "        prevalence = survival_inputs['prevalence'],\n",
    "        time_to_outcome_col = survival_inputs['time_to_outcome_col'])"
   ]
  },
  {
   "cell_type": "code",
   "execution_count": 9,
   "metadata": {},
   "outputs": [],
   "source": [
    "dan_test_output_df = dcurves.dca(data = dan_test_inputs['data'],\n",
    "        outcome = dan_test_inputs['outcome'],\n",
    "        predictors = dan_test_inputs['predictors'],\n",
    "        thresh_lo = dan_test_inputs['thresh_lo'],\n",
    "        thresh_hi = dan_test_inputs['thresh_hi'],\n",
    "        thresh_step = dan_test_inputs['thresh_step'],\n",
    "        harm = dan_test_inputs['harm'],\n",
    "        probabilities = dan_test_inputs['probabilities'],\n",
    "        time = dan_test_inputs['time'],\n",
    "        prevalence = dan_test_inputs['prevalence'],\n",
    "        time_to_outcome_col = dan_test_inputs['time_to_outcome_col'])\n"
   ]
  },
  {
   "cell_type": "code",
   "execution_count": 10,
   "metadata": {},
   "outputs": [
    {
     "data": {
      "image/png": "[encoded data removed]",
      "text/plain": [
       "<Figure size 432x288 with 1 Axes>"
      ]
     },
     "metadata": {
      "needs_background": "light"
     },
     "output_type": "display_data"
    }
   ],
   "source": [
    "dcurves.plot_net_benefit_graphs(binary_output_df)"
   ]
  },
  {
   "cell_type": "code",
   "execution_count": 11,
   "metadata": {},
   "outputs": [
    {
     "data": {
      "image/png": "[encoded data removed]",
      "text/plain": [
       "<Figure size 432x288 with 1 Axes>"
      ]
     },
     "metadata": {
      "needs_background": "light"
     },
     "output_type": "display_data"
    }
   ],
   "source": [
    "dcurves.plot_net_benefit_graphs(survival_output_df)"
   ]
  },
  {
   "cell_type": "code",
   "execution_count": 12,
   "metadata": {},
   "outputs": [
    {
     "data": {
      "image/png": "[encoded data removed]",
      "text/plain": [
       "<Figure size 432x288 with 1 Axes>"
      ]
     },
     "metadata": {
      "needs_background": "light"
     },
     "output_type": "display_data"
    }
   ],
   "source": [
    "dcurves.plot_net_benefit_graphs(dan_test_output_df)\n"
   ]
  },
  {
   "cell_type": "code",
   "execution_count": null,
   "metadata": {},
   "outputs": [],
   "source": []
  },
  {
   "cell_type": "code",
   "execution_count": null,
   "metadata": {},
   "outputs": [],
   "source": []
  },
  {
   "cell_type": "code",
   "execution_count": 14,
   "metadata": {},
   "outputs": [],
   "source": [
    "# dan_test_output_df.to_csv('/Users/ShaunPorwal/Desktop/dan_test_python_output.tsv')"
   ]
  },
  {
   "cell_type": "code",
   "execution_count": 15,
   "metadata": {},
   "outputs": [],
   "source": [
    "# dan_test_output_df"
   ]
  },
  {
   "cell_type": "code",
   "execution_count": null,
   "metadata": {},
   "outputs": [],
   "source": []
  }
 ],
 "metadata": {
  "kernelspec": {
   "display_name": "Python 3",
   "language": "python",
   "name": "python3"
  },
  "language_info": {
   "codemirror_mode": {
    "name": "ipython",
    "version": 3
   },
   "file_extension": ".py",
   "mimetype": "text/x-python",
   "name": "python",
   "nbconvert_exporter": "python",
   "pygments_lexer": "ipython3",
   "version": "3.7.6"
  }
 },
 "nbformat": 4,
 "nbformat_minor": 4
}
