{
 "cells": [
  {
   "cell_type": "raw",
   "metadata": {},
   "source": [
    "running_dcurves_package"
   ]
  },
  {
   "cell_type": "code",
   "execution_count": 2,
   "metadata": {},
   "outputs": [],
   "source": [
    "import pandas as pd\n",
    "import numpy as np\n",
    "import statsmodels.api as sm\n",
    "import statsmodels.duration.hazard_regression as coxph\n",
    "import lifelines\n",
    "#from lifelines.datasets import load_rossi\n",
    "import matplotlib.pyplot as plt\n",
    "import dcurves"
   ]
  },
  {
   "cell_type": "code",
   "execution_count": 3,
   "metadata": {},
   "outputs": [],
   "source": [
    "binary_abs_path = '/Users/ShaunPorwal/Documents/GitHub/python_packages/dcurves/dcurves/data/df_binary.csv'\n",
    "surv_abs_path = '/Users/ShaunPorwal/Documents/GitHub/python_packages/dcurves/dcurves/data/df_surv.csv'\n",
    "case_control_abs_path = '/Users/ShaunPorwal/Documents/GitHub/python_packages/dcurves/dcurves/data/df_case_control.csv'\n",
    "df_dan_test_path = '/Users/ShaunPorwal/Desktop/df_cancer_dx.csv'\n",
    "\n",
    "df_binary = pd.read_csv(binary_abs_path)\n",
    "df_surv = pd.read_csv(surv_abs_path)\n",
    "df_case_control = pd.read_csv(case_control_abs_path)\n",
    "\n",
    "df_dan_test = pd.read_csv(df_dan_test_path)"
   ]
  },
  {
   "cell_type": "code",
   "execution_count": null,
   "metadata": {},
   "outputs": [],
   "source": [
    "# binary inputs\n",
    "\n",
    "binary_inputs = {\n",
    "    'data': df_binary,\n",
    "    'outcome': 'cancer',\n",
    "    'predictors': ['cancerpredmarker', 'marker'],\n",
    "    'thresh_lo': 0.01,\n",
    "    'thresh_hi': 0.35,\n",
    "    'thresh_step': 0.01,\n",
    "    'harm': None,\n",
    "    'probabilities': [False, True],\n",
    "    'time': None,\n",
    "    'prevalence': None,\n",
    "    'time_to_outcome_col': None\n",
    "}\n",
    "\n",
    "survival_inputs = {\n",
    "    'data': df_surv,\n",
    "    'outcome': 'cancer',\n",
    "    'predictors': ['cancerpredmarker'],\n",
    "    'thresh_lo': 0.01,\n",
    "    'thresh_hi': 0.50,\n",
    "    'thresh_step': 0.01,\n",
    "    'harm': None,\n",
    "    'probabilities': [False],\n",
    "    'time': 1,\n",
    "    'prevalence': None,\n",
    "    'time_to_outcome_col': 'ttcancer'\n",
    "}\n",
    "\n",
    "dan_test_inputs = {\n",
    "    'data': df_dan_test,\n",
    "    'outcome': 'cancer',\n",
    "    'predictors': ['famhistory'],\n",
    "    'thresh_lo': 0.01,\n",
    "    'thresh_hi': 1,\n",
    "    'thresh_step': 0.01,\n",
    "    'harm': None,\n",
    "    'probabilities': [True],\n",
    "    'time': None,\n",
    "    'prevalence': None,\n",
    "    'time_to_outcome_col': None\n",
    "}"
   ]
  },
  {
   "cell_type": "code",
   "execution_count": null,
   "metadata": {},
   "outputs": [],
   "source": [
    "binarydcurves.dca.dca(data = binary_inputs['data'],\n",
    "        outcome = binary_inputs['outcome'],\n",
    "        predictors = binary_inputs['predictors'],\n",
    "        thresh_lo = binary_inputs['thresh_lo'],\n",
    "        thresh_hi = binary_inputs['thresh_hi'],\n",
    "        thresh_step = binary_inputs['thresh_step'],\n",
    "        harm = binary_inputs['harm'],\n",
    "        probabilities = binary_inputs['probabilities'],\n",
    "        time = binary_inputs['time'],\n",
    "        prevalence = binary_inputs['prevalence'],\n",
    "        time_to_outcome_col = binary_inputs['time_to_outcome_col'])"
   ]
  },
  {
   "cell_type": "code",
   "execution_count": null,
   "metadata": {},
   "outputs": [],
   "source": [
    "\n",
    "survival_output_df = dcurves.dca.dca(data = survival_inputs['data'],\n",
    "        outcome = survival_inputs['outcome'],\n",
    "        predictors = survival_inputs['predictors'],\n",
    "        thresh_lo = survival_inputs['thresh_lo'],\n",
    "        thresh_hi = survival_inputs['thresh_hi'],\n",
    "        thresh_step = survival_inputs['thresh_step'],\n",
    "        harm = survival_inputs['harm'],\n",
    "        probabilities = survival_inputs['probabilities'],\n",
    "        time = survival_inputs['time'],\n",
    "        prevalence = survival_inputs['prevalence'],\n",
    "        time_to_outcome_col = survival_inputs['time_to_outcome_col'])\n",
    "\n",
    "dan_test_output_df = dcurves.dca.dca(data = dan_test_inputs['data'],\n",
    "        outcome = dan_test_inputs['outcome'],\n",
    "        predictors = dan_test_inputs['predictors'],\n",
    "        thresh_lo = dan_test_inputs['thresh_lo'],\n",
    "        thresh_hi = dan_test_inputs['thresh_hi'],\n",
    "        thresh_step = dan_test_inputs['thresh_step'],\n",
    "        harm = dan_test_inputs['harm'],\n",
    "        probabilities = dan_test_inputs['probabilities'],\n",
    "        time = dan_test_inputs['time'],\n",
    "        prevalence = dan_test_inputs['prevalence'],\n",
    "        time_to_outcome_col = dan_test_inputs['time_to_outcome_col'])"
   ]
  },
  {
   "cell_type": "code",
   "execution_count": null,
   "metadata": {},
   "outputs": [],
   "source": []
  },
  {
   "cell_type": "code",
   "execution_count": null,
   "metadata": {},
   "outputs": [],
   "source": []
  },
  {
   "cell_type": "code",
   "execution_count": null,
   "metadata": {},
   "outputs": [],
   "source": []
  }
 ],
 "metadata": {
  "kernelspec": {
   "display_name": "Python 3",
   "language": "python",
   "name": "python3"
  },
  "language_info": {
   "codemirror_mode": {
    "name": "ipython",
    "version": 3
   },
   "file_extension": ".py",
   "mimetype": "text/x-python",
   "name": "python",
   "nbconvert_exporter": "python",
   "pygments_lexer": "ipython3",
   "version": "3.7.6"
  }
 },
 "nbformat": 4,
 "nbformat_minor": 4
}
