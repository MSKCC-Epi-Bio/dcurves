{
 "cells": [
  {
   "cell_type": "code",
   "execution_count": 2,
   "metadata": {
    "vscode": {
     "languageId": "python"
    }
   },
   "outputs": [],
   "source": [
    "# Import Libraries\n",
    "from dcurves import dca, plot_graphs, load_test_data"
   ]
  },
  {
   "cell_type": "code",
   "execution_count": null,
   "metadata": {
    "vscode": {
     "languageId": "python"
    }
   },
   "outputs": [],
   "source": [
    "# Load Package Simulation Data\n",
    "df_binary = load_test_data.load_binary_df()\n",
    "\n",
    "# Perform Decision Curve Analysis\n",
    "df_dca = dca(\n",
    "    data=df_binary,\n",
    "    outcome=\"cancer\",\n",
    "    modelnames=[\"famhistory\"],\n",
    "    thresholds=np.arange(0, 0.36, 0.01),\n",
    ")\n",
    "\n",
    "plot_graphs(plot_df=df_dca, graph_type=\"net_benefit\", y_limits=[-0.05, 0.2])"
   ]
  }
 ],
 "metadata": {
  "language_info": {
   "name": "plaintext"
  }
 },
 "nbformat": 4,
 "nbformat_minor": 2
}
